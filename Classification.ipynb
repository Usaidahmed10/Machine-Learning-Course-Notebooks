{
  "cells": [
    {
      "cell_type": "markdown",
      "metadata": {
        "id": "view-in-github",
        "colab_type": "text"
      },
      "source": [
        "<a href=\"https://colab.research.google.com/github/Usaidahmed10/Machine-Learning-Course-Notebooks/blob/main/Classification.ipynb\" target=\"_parent\"><img src=\"https://colab.research.google.com/assets/colab-badge.svg\" alt=\"Open In Colab\"/></a>"
      ]
    },
    {
      "cell_type": "code",
      "execution_count": 1,
      "metadata": {
        "id": "gz4oYaG0n0PZ",
        "colab": {
          "base_uri": "https://localhost:8080/"
        },
        "outputId": "955c4a59-2aa9-4e78-a0e2-27aefdfd78ad"
      },
      "outputs": [
        {
          "output_type": "stream",
          "name": "stdout",
          "text": [
            "\u001b[?25l   \u001b[90m━━━━━━━━━━━━━━━━━━━━━━━━━━━━━━━━━━━━━━━━\u001b[0m \u001b[32m0.0/141.7 kB\u001b[0m \u001b[31m?\u001b[0m eta \u001b[36m-:--:--\u001b[0m\r\u001b[2K   \u001b[90m━━━━━━━━━━━━━━━━━━━━━━━━━━━━━━━━━━━━━━━━\u001b[0m \u001b[32m141.7/141.7 kB\u001b[0m \u001b[31m4.5 MB/s\u001b[0m eta \u001b[36m0:00:00\u001b[0m\n",
            "\u001b[?25h\u001b[?25l   \u001b[90m━━━━━━━━━━━━━━━━━━━━━━━━━━━━━━━━━━━━━━━━\u001b[0m \u001b[32m0.0/119.4 kB\u001b[0m \u001b[31m?\u001b[0m eta \u001b[36m-:--:--\u001b[0m\r\u001b[2K   \u001b[90m━━━━━━━━━━━━━━━━━━━━━━━━━━━━━━━━━━━━━━━━\u001b[0m \u001b[32m119.4/119.4 kB\u001b[0m \u001b[31m8.4 MB/s\u001b[0m eta \u001b[36m0:00:00\u001b[0m\n",
            "\u001b[2K   \u001b[90m━━━━━━━━━━━━━━━━━━━━━━━━━━━━━━━━━━━━━━━━\u001b[0m \u001b[32m100.2/100.2 kB\u001b[0m \u001b[31m4.4 MB/s\u001b[0m eta \u001b[36m0:00:00\u001b[0m\n",
            "\u001b[2K   \u001b[90m━━━━━━━━━━━━━━━━━━━━━━━━━━━━━━━━━━━━━━━━\u001b[0m \u001b[32m139.8/139.8 kB\u001b[0m \u001b[31m7.0 MB/s\u001b[0m eta \u001b[36m0:00:00\u001b[0m\n",
            "\u001b[2K   \u001b[90m━━━━━━━━━━━━━━━━━━━━━━━━━━━━━━━━━━━━━━━━\u001b[0m \u001b[32m154.2/154.2 kB\u001b[0m \u001b[31m4.8 MB/s\u001b[0m eta \u001b[36m0:00:00\u001b[0m\n",
            "\u001b[2K   \u001b[90m━━━━━━━━━━━━━━━━━━━━━━━━━━━━━━━━━━━━━━━━\u001b[0m \u001b[32m115.0/115.0 kB\u001b[0m \u001b[31m4.2 MB/s\u001b[0m eta \u001b[36m0:00:00\u001b[0m\n",
            "\u001b[2K   \u001b[90m━━━━━━━━━━━━━━━━━━━━━━━━━━━━━━━━━━━━━━━━\u001b[0m \u001b[32m1.6/1.6 MB\u001b[0m \u001b[31m13.1 MB/s\u001b[0m eta \u001b[36m0:00:00\u001b[0m\n",
            "\u001b[2K   \u001b[90m━━━━━━━━━━━━━━━━━━━━━━━━━━━━━━━━━━━━━━━━\u001b[0m \u001b[32m2.3/2.3 MB\u001b[0m \u001b[31m16.2 MB/s\u001b[0m eta \u001b[36m0:00:00\u001b[0m\n",
            "\u001b[2K   \u001b[90m━━━━━━━━━━━━━━━━━━━━━━━━━━━━━━━━━━━━━━━━\u001b[0m \u001b[32m44.2/44.2 MB\u001b[0m \u001b[31m11.1 MB/s\u001b[0m eta \u001b[36m0:00:00\u001b[0m\n",
            "\u001b[?25h"
          ]
        }
      ],
      "source": [
        "# Enable widgets\n",
        "from google.colab import output\n",
        "output.enable_custom_widget_manager()\n",
        "import ipywidgets as widgets\n",
        "\n",
        "# Install otter-grader\n",
        "%pip install -q otter-grader\n",
        "\n",
        "# Download the tests directory from the course website (this will be used by otter-grader)\n",
        "!wget -q https://vladtkachuk4.github.io/machinelearning1/assignments/Fall2024/ass7/tests.zip -O tests.zip\n",
        "\n",
        "# Unzip the tests directory, forcing overwriting of existing files\n",
        "!unzip -qo tests.zip -d ."
      ]
    },
    {
      "cell_type": "code",
      "execution_count": 2,
      "metadata": {
        "id": "oNp5b3qMn0Pb"
      },
      "outputs": [],
      "source": [
        "# Initialize Otter\n",
        "import otter\n",
        "grader = otter.Notebook()"
      ]
    },
    {
      "cell_type": "markdown",
      "metadata": {
        "id": "FCvrTovRn0Pc"
      },
      "source": [
        "# CMPUT 267 - Machine Learning I\n",
        "# Assignment 7 - Classification"
      ]
    },
    {
      "cell_type": "markdown",
      "metadata": {
        "id": "OGsI6DqVn0Pc"
      },
      "source": [
        "## Assignment Instructions and Information\n",
        "For this assignment, we will be using Google Colab. If you are new to Google Colab, you can find a brief introduction at the following link: [Google Colab Introduction](https://colab.research.google.com/notebooks/intro.ipynb).\n",
        "\n",
        "**Important:** Before you start working on this notebook, make sure to save a copy to your own Google Drive. To do this, go to `File` -> `Save a copy in Drive`.\n",
        "\n",
        "If you do not save a copy, you will not be able to save any changes you make.\n"
      ]
    },
    {
      "cell_type": "markdown",
      "metadata": {
        "id": "y6DlyngLn0Pd"
      },
      "source": [
        "### Submitting your assignment\n",
        "Once you have completed the assignment, please submit your work as a `.ipynb` file on eClass in the \"Assignment 7\" section. To download your Colab notebook in the required format, follow these steps:\n",
        "\n",
        "1. Save your notebook to ensure all changes are preserved.\n",
        "2. Navigate to `File` -> `Download` -> `Download .ipynb`.\n",
        "\n",
        "Make sure to save your notebook before downloading it!"
      ]
    },
    {
      "cell_type": "markdown",
      "metadata": {
        "id": "wPhK2ApOn0Pd"
      },
      "source": [
        "### Questions and Autograding\n",
        "\n",
        "Each section contains questions for you to solve, marked with the subsection heading \"Question X.Y\" (ex: the first problem is \"Question 2.1\").\n",
        "\n",
        "For each question your solution must go within the following designated code block:\n",
        "\n",
        "```python\n",
        "### YOUR CODE HERE ###\n",
        "\n",
        "######################\n",
        "```\n",
        "\n",
        "All questions will be autograded using [Otter-Grader](https://otter-grader.readthedocs.io/en/latest/).\n",
        "The first two code cells in this notebook install the Otter-Grader package and download the test cases.\n",
        "You should run these cells, otherwise the autograder will not work.\n",
        "\n",
        "At the end of each question there is code that runs the autograder. For example, in Question 2.1 the code `grader.check(\"q2_1\")` runs the autograder.\n",
        "If you pass all the test cases for a question (ex: Question 2.1), you will see the following output:\n",
        "\n",
        "**q2_1** passed!\n",
        "\n",
        "If you do not pass all the test cases for a question, you will see which test cases you did not pass along with their corresponding error messages.\n",
        "\n",
        "There are both public and private test cases. You only have access to the public test cases. This means that if you pass all the test cases in this notebook, you have passed all the public test cases.\n",
        "\n",
        "After you submit the assignment, we will also run the private test cases. The public test cases account for 50% of the total mark, while the private test cases make up the remaining 50%. Therefore, if you pass all the test cases in the notebook, you are guaranteed a mark of at least 50%.\n",
        "\n",
        "After each question description, the number of points (marks) the question is worth is indicated.\n",
        "This is the total number of points for both the public and private test cases.\n",
        "For each question, the public test cases are worth 50% of the points.\n"
      ]
    },
    {
      "cell_type": "markdown",
      "metadata": {
        "id": "T1KUUwuEn0Pd"
      },
      "source": [
        "## Introduction\n",
        "\n",
        "Welcome to Assignment 7! In this assignment, you will work on a binary and multiclass classification problem.\n",
        "We will be focusing on the methods discussed in Chapter 9 of the [course notes](https://vladtkachuk4.github.io/machinelearning1/notes.pdf).\n",
        "\n",
        "This assignment will guide you through the following sections:\n",
        "\n",
        "1. [Understanding the Dataset](#part-1-understanding-the-dataset)\n",
        "1. [Binary Classification](#part-2-binary-classification)\n",
        "1. [Multiclass Classification](#part-3-multiclass-classification)\n",
        "\n",
        "You can quickly navigate to each section by opening the table of contents on the left side of the screen.\n",
        "\n",
        "Let's get started!\n"
      ]
    },
    {
      "cell_type": "markdown",
      "metadata": {
        "id": "lQo9Uvmtn0Pd"
      },
      "source": [
        "# Part 1: Understanding the Dataset\n",
        "\n",
        "In this assignment, we will use the **UCI Wine dataset**, which is a classic dataset often used for classification tasks.\n",
        "It contains information about various chemical properties of wines derived from three different cultivars in the same region in Italy.\n",
        "The features include alcohol content, malic acid, ash, alcalinity of ash, magnesium, total phenols, flavanoids, nonflavanoid phenols, proanthocyanins, color intensity, hue, OD280/OD315 of diluted wines, and proline,\n",
        "with the labels being the cultivar of the wine (Barolo (0), Grignolino (1), Barbera (2)).\n",
        "The dataset contains 178 data points.\n",
        "\n",
        "The dataset was introduced by Forina et al. (1991) in their paper on chemical analysis.\n",
        "\n",
        "Let's begin by loading the dataset and taking a closer look at what it contains."
      ]
    },
    {
      "cell_type": "markdown",
      "metadata": {
        "id": "AbNVPe1vn0Pe"
      },
      "source": [
        "### Load the Dataset\n",
        "\n",
        "First, lets import all the necessary libraries for this assignment."
      ]
    },
    {
      "cell_type": "code",
      "execution_count": 3,
      "metadata": {
        "id": "R7Z931Gyn0Pe"
      },
      "outputs": [],
      "source": [
        "# Import necessary libraries\n",
        "import numpy as np\n",
        "import pandas as pd\n",
        "import matplotlib.pyplot as plt\n",
        "from ipywidgets import interactive_output\n",
        "import ipywidgets as widgets\n",
        "from IPython.display import display, clear_output\n",
        "from sklearn.preprocessing import PolynomialFeatures\n",
        "from sklearn.datasets import load_wine\n",
        "from sklearn.model_selection import train_test_split\n",
        "\n",
        "# Set a fixed random seed for reproducibility\n",
        "random_seed = 42"
      ]
    },
    {
      "cell_type": "markdown",
      "metadata": {
        "id": "b7EHE7QCn0Pe"
      },
      "source": [
        "We will use `load_wine` from the `sklearn.datasets` module to load the dataset.\n",
        "Let's load the dataset and examine the features for the first few datapoints.\n",
        "You should see that the dataset contains 13 features and a label (class)."
      ]
    },
    {
      "cell_type": "code",
      "execution_count": 4,
      "metadata": {
        "colab": {
          "base_uri": "https://localhost:8080/",
          "height": 226
        },
        "id": "yXvPCDN-n0Pe",
        "outputId": "083bb4d3-c66c-4ee5-ab30-faaf329f12db"
      },
      "outputs": [
        {
          "output_type": "execute_result",
          "data": {
            "text/plain": [
              "     alcohol  malic_acid   ash  alcalinity_of_ash  magnesium  total_phenols  \\\n",
              "19     13.64        3.10  2.56               15.2      116.0           2.70   \n",
              "45     14.21        4.04  2.44               18.9      111.0           2.85   \n",
              "140    12.93        2.81  2.70               21.0       96.0           1.54   \n",
              "30     13.73        1.50  2.70               22.5      101.0           3.00   \n",
              "67     12.37        1.17  1.92               19.6       78.0           2.11   \n",
              "\n",
              "     flavanoids  nonflavanoid_phenols  proanthocyanins  color_intensity   hue  \\\n",
              "19         3.03                  0.17             1.66             5.10  0.96   \n",
              "45         2.65                  0.30             1.25             5.24  0.87   \n",
              "140        0.50                  0.53             0.75             4.60  0.77   \n",
              "30         3.25                  0.29             2.38             5.70  1.19   \n",
              "67         2.00                  0.27             1.04             4.68  1.12   \n",
              "\n",
              "     od280/od315_of_diluted_wines  proline  Class  \n",
              "19                           3.36    845.0      0  \n",
              "45                           3.33   1080.0      0  \n",
              "140                          2.31    600.0      2  \n",
              "30                           2.71   1285.0      0  \n",
              "67                           3.48    510.0      1  "
            ],
            "text/html": [
              "\n",
              "  <div id=\"df-0703c6b5-56d6-489a-b0fa-198f81dc675a\" class=\"colab-df-container\">\n",
              "    <div>\n",
              "<style scoped>\n",
              "    .dataframe tbody tr th:only-of-type {\n",
              "        vertical-align: middle;\n",
              "    }\n",
              "\n",
              "    .dataframe tbody tr th {\n",
              "        vertical-align: top;\n",
              "    }\n",
              "\n",
              "    .dataframe thead th {\n",
              "        text-align: right;\n",
              "    }\n",
              "</style>\n",
              "<table border=\"1\" class=\"dataframe\">\n",
              "  <thead>\n",
              "    <tr style=\"text-align: right;\">\n",
              "      <th></th>\n",
              "      <th>alcohol</th>\n",
              "      <th>malic_acid</th>\n",
              "      <th>ash</th>\n",
              "      <th>alcalinity_of_ash</th>\n",
              "      <th>magnesium</th>\n",
              "      <th>total_phenols</th>\n",
              "      <th>flavanoids</th>\n",
              "      <th>nonflavanoid_phenols</th>\n",
              "      <th>proanthocyanins</th>\n",
              "      <th>color_intensity</th>\n",
              "      <th>hue</th>\n",
              "      <th>od280/od315_of_diluted_wines</th>\n",
              "      <th>proline</th>\n",
              "      <th>Class</th>\n",
              "    </tr>\n",
              "  </thead>\n",
              "  <tbody>\n",
              "    <tr>\n",
              "      <th>19</th>\n",
              "      <td>13.64</td>\n",
              "      <td>3.10</td>\n",
              "      <td>2.56</td>\n",
              "      <td>15.2</td>\n",
              "      <td>116.0</td>\n",
              "      <td>2.70</td>\n",
              "      <td>3.03</td>\n",
              "      <td>0.17</td>\n",
              "      <td>1.66</td>\n",
              "      <td>5.10</td>\n",
              "      <td>0.96</td>\n",
              "      <td>3.36</td>\n",
              "      <td>845.0</td>\n",
              "      <td>0</td>\n",
              "    </tr>\n",
              "    <tr>\n",
              "      <th>45</th>\n",
              "      <td>14.21</td>\n",
              "      <td>4.04</td>\n",
              "      <td>2.44</td>\n",
              "      <td>18.9</td>\n",
              "      <td>111.0</td>\n",
              "      <td>2.85</td>\n",
              "      <td>2.65</td>\n",
              "      <td>0.30</td>\n",
              "      <td>1.25</td>\n",
              "      <td>5.24</td>\n",
              "      <td>0.87</td>\n",
              "      <td>3.33</td>\n",
              "      <td>1080.0</td>\n",
              "      <td>0</td>\n",
              "    </tr>\n",
              "    <tr>\n",
              "      <th>140</th>\n",
              "      <td>12.93</td>\n",
              "      <td>2.81</td>\n",
              "      <td>2.70</td>\n",
              "      <td>21.0</td>\n",
              "      <td>96.0</td>\n",
              "      <td>1.54</td>\n",
              "      <td>0.50</td>\n",
              "      <td>0.53</td>\n",
              "      <td>0.75</td>\n",
              "      <td>4.60</td>\n",
              "      <td>0.77</td>\n",
              "      <td>2.31</td>\n",
              "      <td>600.0</td>\n",
              "      <td>2</td>\n",
              "    </tr>\n",
              "    <tr>\n",
              "      <th>30</th>\n",
              "      <td>13.73</td>\n",
              "      <td>1.50</td>\n",
              "      <td>2.70</td>\n",
              "      <td>22.5</td>\n",
              "      <td>101.0</td>\n",
              "      <td>3.00</td>\n",
              "      <td>3.25</td>\n",
              "      <td>0.29</td>\n",
              "      <td>2.38</td>\n",
              "      <td>5.70</td>\n",
              "      <td>1.19</td>\n",
              "      <td>2.71</td>\n",
              "      <td>1285.0</td>\n",
              "      <td>0</td>\n",
              "    </tr>\n",
              "    <tr>\n",
              "      <th>67</th>\n",
              "      <td>12.37</td>\n",
              "      <td>1.17</td>\n",
              "      <td>1.92</td>\n",
              "      <td>19.6</td>\n",
              "      <td>78.0</td>\n",
              "      <td>2.11</td>\n",
              "      <td>2.00</td>\n",
              "      <td>0.27</td>\n",
              "      <td>1.04</td>\n",
              "      <td>4.68</td>\n",
              "      <td>1.12</td>\n",
              "      <td>3.48</td>\n",
              "      <td>510.0</td>\n",
              "      <td>1</td>\n",
              "    </tr>\n",
              "  </tbody>\n",
              "</table>\n",
              "</div>\n",
              "    <div class=\"colab-df-buttons\">\n",
              "\n",
              "  <div class=\"colab-df-container\">\n",
              "    <button class=\"colab-df-convert\" onclick=\"convertToInteractive('df-0703c6b5-56d6-489a-b0fa-198f81dc675a')\"\n",
              "            title=\"Convert this dataframe to an interactive table.\"\n",
              "            style=\"display:none;\">\n",
              "\n",
              "  <svg xmlns=\"http://www.w3.org/2000/svg\" height=\"24px\" viewBox=\"0 -960 960 960\">\n",
              "    <path d=\"M120-120v-720h720v720H120Zm60-500h600v-160H180v160Zm220 220h160v-160H400v160Zm0 220h160v-160H400v160ZM180-400h160v-160H180v160Zm440 0h160v-160H620v160ZM180-180h160v-160H180v160Zm440 0h160v-160H620v160Z\"/>\n",
              "  </svg>\n",
              "    </button>\n",
              "\n",
              "  <style>\n",
              "    .colab-df-container {\n",
              "      display:flex;\n",
              "      gap: 12px;\n",
              "    }\n",
              "\n",
              "    .colab-df-convert {\n",
              "      background-color: #E8F0FE;\n",
              "      border: none;\n",
              "      border-radius: 50%;\n",
              "      cursor: pointer;\n",
              "      display: none;\n",
              "      fill: #1967D2;\n",
              "      height: 32px;\n",
              "      padding: 0 0 0 0;\n",
              "      width: 32px;\n",
              "    }\n",
              "\n",
              "    .colab-df-convert:hover {\n",
              "      background-color: #E2EBFA;\n",
              "      box-shadow: 0px 1px 2px rgba(60, 64, 67, 0.3), 0px 1px 3px 1px rgba(60, 64, 67, 0.15);\n",
              "      fill: #174EA6;\n",
              "    }\n",
              "\n",
              "    .colab-df-buttons div {\n",
              "      margin-bottom: 4px;\n",
              "    }\n",
              "\n",
              "    [theme=dark] .colab-df-convert {\n",
              "      background-color: #3B4455;\n",
              "      fill: #D2E3FC;\n",
              "    }\n",
              "\n",
              "    [theme=dark] .colab-df-convert:hover {\n",
              "      background-color: #434B5C;\n",
              "      box-shadow: 0px 1px 3px 1px rgba(0, 0, 0, 0.15);\n",
              "      filter: drop-shadow(0px 1px 2px rgba(0, 0, 0, 0.3));\n",
              "      fill: #FFFFFF;\n",
              "    }\n",
              "  </style>\n",
              "\n",
              "    <script>\n",
              "      const buttonEl =\n",
              "        document.querySelector('#df-0703c6b5-56d6-489a-b0fa-198f81dc675a button.colab-df-convert');\n",
              "      buttonEl.style.display =\n",
              "        google.colab.kernel.accessAllowed ? 'block' : 'none';\n",
              "\n",
              "      async function convertToInteractive(key) {\n",
              "        const element = document.querySelector('#df-0703c6b5-56d6-489a-b0fa-198f81dc675a');\n",
              "        const dataTable =\n",
              "          await google.colab.kernel.invokeFunction('convertToInteractive',\n",
              "                                                    [key], {});\n",
              "        if (!dataTable) return;\n",
              "\n",
              "        const docLinkHtml = 'Like what you see? Visit the ' +\n",
              "          '<a target=\"_blank\" href=https://colab.research.google.com/notebooks/data_table.ipynb>data table notebook</a>'\n",
              "          + ' to learn more about interactive tables.';\n",
              "        element.innerHTML = '';\n",
              "        dataTable['output_type'] = 'display_data';\n",
              "        await google.colab.output.renderOutput(dataTable, element);\n",
              "        const docLink = document.createElement('div');\n",
              "        docLink.innerHTML = docLinkHtml;\n",
              "        element.appendChild(docLink);\n",
              "      }\n",
              "    </script>\n",
              "  </div>\n",
              "\n",
              "\n",
              "<div id=\"df-9322e912-17e7-441e-9127-e2b7688eb369\">\n",
              "  <button class=\"colab-df-quickchart\" onclick=\"quickchart('df-9322e912-17e7-441e-9127-e2b7688eb369')\"\n",
              "            title=\"Suggest charts\"\n",
              "            style=\"display:none;\">\n",
              "\n",
              "<svg xmlns=\"http://www.w3.org/2000/svg\" height=\"24px\"viewBox=\"0 0 24 24\"\n",
              "     width=\"24px\">\n",
              "    <g>\n",
              "        <path d=\"M19 3H5c-1.1 0-2 .9-2 2v14c0 1.1.9 2 2 2h14c1.1 0 2-.9 2-2V5c0-1.1-.9-2-2-2zM9 17H7v-7h2v7zm4 0h-2V7h2v10zm4 0h-2v-4h2v4z\"/>\n",
              "    </g>\n",
              "</svg>\n",
              "  </button>\n",
              "\n",
              "<style>\n",
              "  .colab-df-quickchart {\n",
              "      --bg-color: #E8F0FE;\n",
              "      --fill-color: #1967D2;\n",
              "      --hover-bg-color: #E2EBFA;\n",
              "      --hover-fill-color: #174EA6;\n",
              "      --disabled-fill-color: #AAA;\n",
              "      --disabled-bg-color: #DDD;\n",
              "  }\n",
              "\n",
              "  [theme=dark] .colab-df-quickchart {\n",
              "      --bg-color: #3B4455;\n",
              "      --fill-color: #D2E3FC;\n",
              "      --hover-bg-color: #434B5C;\n",
              "      --hover-fill-color: #FFFFFF;\n",
              "      --disabled-bg-color: #3B4455;\n",
              "      --disabled-fill-color: #666;\n",
              "  }\n",
              "\n",
              "  .colab-df-quickchart {\n",
              "    background-color: var(--bg-color);\n",
              "    border: none;\n",
              "    border-radius: 50%;\n",
              "    cursor: pointer;\n",
              "    display: none;\n",
              "    fill: var(--fill-color);\n",
              "    height: 32px;\n",
              "    padding: 0;\n",
              "    width: 32px;\n",
              "  }\n",
              "\n",
              "  .colab-df-quickchart:hover {\n",
              "    background-color: var(--hover-bg-color);\n",
              "    box-shadow: 0 1px 2px rgba(60, 64, 67, 0.3), 0 1px 3px 1px rgba(60, 64, 67, 0.15);\n",
              "    fill: var(--button-hover-fill-color);\n",
              "  }\n",
              "\n",
              "  .colab-df-quickchart-complete:disabled,\n",
              "  .colab-df-quickchart-complete:disabled:hover {\n",
              "    background-color: var(--disabled-bg-color);\n",
              "    fill: var(--disabled-fill-color);\n",
              "    box-shadow: none;\n",
              "  }\n",
              "\n",
              "  .colab-df-spinner {\n",
              "    border: 2px solid var(--fill-color);\n",
              "    border-color: transparent;\n",
              "    border-bottom-color: var(--fill-color);\n",
              "    animation:\n",
              "      spin 1s steps(1) infinite;\n",
              "  }\n",
              "\n",
              "  @keyframes spin {\n",
              "    0% {\n",
              "      border-color: transparent;\n",
              "      border-bottom-color: var(--fill-color);\n",
              "      border-left-color: var(--fill-color);\n",
              "    }\n",
              "    20% {\n",
              "      border-color: transparent;\n",
              "      border-left-color: var(--fill-color);\n",
              "      border-top-color: var(--fill-color);\n",
              "    }\n",
              "    30% {\n",
              "      border-color: transparent;\n",
              "      border-left-color: var(--fill-color);\n",
              "      border-top-color: var(--fill-color);\n",
              "      border-right-color: var(--fill-color);\n",
              "    }\n",
              "    40% {\n",
              "      border-color: transparent;\n",
              "      border-right-color: var(--fill-color);\n",
              "      border-top-color: var(--fill-color);\n",
              "    }\n",
              "    60% {\n",
              "      border-color: transparent;\n",
              "      border-right-color: var(--fill-color);\n",
              "    }\n",
              "    80% {\n",
              "      border-color: transparent;\n",
              "      border-right-color: var(--fill-color);\n",
              "      border-bottom-color: var(--fill-color);\n",
              "    }\n",
              "    90% {\n",
              "      border-color: transparent;\n",
              "      border-bottom-color: var(--fill-color);\n",
              "    }\n",
              "  }\n",
              "</style>\n",
              "\n",
              "  <script>\n",
              "    async function quickchart(key) {\n",
              "      const quickchartButtonEl =\n",
              "        document.querySelector('#' + key + ' button');\n",
              "      quickchartButtonEl.disabled = true;  // To prevent multiple clicks.\n",
              "      quickchartButtonEl.classList.add('colab-df-spinner');\n",
              "      try {\n",
              "        const charts = await google.colab.kernel.invokeFunction(\n",
              "            'suggestCharts', [key], {});\n",
              "      } catch (error) {\n",
              "        console.error('Error during call to suggestCharts:', error);\n",
              "      }\n",
              "      quickchartButtonEl.classList.remove('colab-df-spinner');\n",
              "      quickchartButtonEl.classList.add('colab-df-quickchart-complete');\n",
              "    }\n",
              "    (() => {\n",
              "      let quickchartButtonEl =\n",
              "        document.querySelector('#df-9322e912-17e7-441e-9127-e2b7688eb369 button');\n",
              "      quickchartButtonEl.style.display =\n",
              "        google.colab.kernel.accessAllowed ? 'block' : 'none';\n",
              "    })();\n",
              "  </script>\n",
              "</div>\n",
              "\n",
              "    </div>\n",
              "  </div>\n"
            ],
            "application/vnd.google.colaboratory.intrinsic+json": {
              "type": "dataframe",
              "summary": "{\n  \"name\": \"df\",\n  \"rows\": 5,\n  \"fields\": [\n    {\n      \"column\": \"alcohol\",\n      \"properties\": {\n        \"dtype\": \"number\",\n        \"std\": 0.7248310147889651,\n        \"min\": 12.37,\n        \"max\": 14.21,\n        \"num_unique_values\": 5,\n        \"samples\": [\n          14.21,\n          12.37,\n          12.93\n        ],\n        \"semantic_type\": \"\",\n        \"description\": \"\"\n      }\n    },\n    {\n      \"column\": \"malic_acid\",\n      \"properties\": {\n        \"dtype\": \"number\",\n        \"std\": 1.1825523244237441,\n        \"min\": 1.17,\n        \"max\": 4.04,\n        \"num_unique_values\": 5,\n        \"samples\": [\n          4.04,\n          1.17,\n          2.81\n        ],\n        \"semantic_type\": \"\",\n        \"description\": \"\"\n      }\n    },\n    {\n      \"column\": \"ash\",\n      \"properties\": {\n        \"dtype\": \"number\",\n        \"std\": 0.3229241396984748,\n        \"min\": 1.92,\n        \"max\": 2.7,\n        \"num_unique_values\": 4,\n        \"samples\": [\n          2.44,\n          1.92,\n          2.56\n        ],\n        \"semantic_type\": \"\",\n        \"description\": \"\"\n      }\n    },\n    {\n      \"column\": \"alcalinity_of_ash\",\n      \"properties\": {\n        \"dtype\": \"number\",\n        \"std\": 2.7428087793355194,\n        \"min\": 15.2,\n        \"max\": 22.5,\n        \"num_unique_values\": 5,\n        \"samples\": [\n          18.9,\n          19.6,\n          21.0\n        ],\n        \"semantic_type\": \"\",\n        \"description\": \"\"\n      }\n    },\n    {\n      \"column\": \"magnesium\",\n      \"properties\": {\n        \"dtype\": \"number\",\n        \"std\": 14.808781178746615,\n        \"min\": 78.0,\n        \"max\": 116.0,\n        \"num_unique_values\": 5,\n        \"samples\": [\n          111.0,\n          78.0,\n          96.0\n        ],\n        \"semantic_type\": \"\",\n        \"description\": \"\"\n      }\n    },\n    {\n      \"column\": \"total_phenols\",\n      \"properties\": {\n        \"dtype\": \"number\",\n        \"std\": 0.6058465152165192,\n        \"min\": 1.54,\n        \"max\": 3.0,\n        \"num_unique_values\": 5,\n        \"samples\": [\n          2.85,\n          2.11,\n          1.54\n        ],\n        \"semantic_type\": \"\",\n        \"description\": \"\"\n      }\n    },\n    {\n      \"column\": \"flavanoids\",\n      \"properties\": {\n        \"dtype\": \"number\",\n        \"std\": 1.1053189584911678,\n        \"min\": 0.5,\n        \"max\": 3.25,\n        \"num_unique_values\": 5,\n        \"samples\": [\n          2.65,\n          2.0,\n          0.5\n        ],\n        \"semantic_type\": \"\",\n        \"description\": \"\"\n      }\n    },\n    {\n      \"column\": \"nonflavanoid_phenols\",\n      \"properties\": {\n        \"dtype\": \"number\",\n        \"std\": 0.1323631368621944,\n        \"min\": 0.17,\n        \"max\": 0.53,\n        \"num_unique_values\": 5,\n        \"samples\": [\n          0.3,\n          0.27,\n          0.53\n        ],\n        \"semantic_type\": \"\",\n        \"description\": \"\"\n      }\n    },\n    {\n      \"column\": \"proanthocyanins\",\n      \"properties\": {\n        \"dtype\": \"number\",\n        \"std\": 0.6327163661546933,\n        \"min\": 0.75,\n        \"max\": 2.38,\n        \"num_unique_values\": 5,\n        \"samples\": [\n          1.25,\n          1.04,\n          0.75\n        ],\n        \"semantic_type\": \"\",\n        \"description\": \"\"\n      }\n    },\n    {\n      \"column\": \"color_intensity\",\n      \"properties\": {\n        \"dtype\": \"number\",\n        \"std\": 0.4470794112906567,\n        \"min\": 4.6,\n        \"max\": 5.7,\n        \"num_unique_values\": 5,\n        \"samples\": [\n          5.24,\n          4.68,\n          4.6\n        ],\n        \"semantic_type\": \"\",\n        \"description\": \"\"\n      }\n    },\n    {\n      \"column\": \"hue\",\n      \"properties\": {\n        \"dtype\": \"number\",\n        \"std\": 0.17340703561274554,\n        \"min\": 0.77,\n        \"max\": 1.19,\n        \"num_unique_values\": 5,\n        \"samples\": [\n          0.87,\n          1.12,\n          0.77\n        ],\n        \"semantic_type\": \"\",\n        \"description\": \"\"\n      }\n    },\n    {\n      \"column\": \"od280/od315_of_diluted_wines\",\n      \"properties\": {\n        \"dtype\": \"number\",\n        \"std\": 0.5054404020257977,\n        \"min\": 2.31,\n        \"max\": 3.48,\n        \"num_unique_values\": 5,\n        \"samples\": [\n          3.33,\n          3.48,\n          2.31\n        ],\n        \"semantic_type\": \"\",\n        \"description\": \"\"\n      }\n    },\n    {\n      \"column\": \"proline\",\n      \"properties\": {\n        \"dtype\": \"number\",\n        \"std\": 323.75530883678186,\n        \"min\": 510.0,\n        \"max\": 1285.0,\n        \"num_unique_values\": 5,\n        \"samples\": [\n          1080.0,\n          510.0,\n          600.0\n        ],\n        \"semantic_type\": \"\",\n        \"description\": \"\"\n      }\n    },\n    {\n      \"column\": \"Class\",\n      \"properties\": {\n        \"dtype\": \"number\",\n        \"std\": 0,\n        \"min\": 0,\n        \"max\": 2,\n        \"num_unique_values\": 3,\n        \"samples\": [\n          0,\n          2,\n          1\n        ],\n        \"semantic_type\": \"\",\n        \"description\": \"\"\n      }\n    }\n  ]\n}"
            }
          },
          "metadata": {},
          "execution_count": 4
        }
      ],
      "source": [
        "# Load the Wine dataset\n",
        "wine = load_wine()\n",
        "\n",
        "# Convert to a DataFrame\n",
        "df = pd.DataFrame(wine.data, columns=wine.feature_names)\n",
        "df['Class'] = wine.target\n",
        "\n",
        "# Display some random rows of the dataset\n",
        "df.sample(n=5, random_state=random_seed)"
      ]
    },
    {
      "cell_type": "markdown",
      "metadata": {
        "id": "1UMCjD7Pn0Pe"
      },
      "source": [
        "Now that we have loaded the dataset, we need to prepare it for use in our classification learners.\n",
        "\n",
        "For better visualization of decision boundaries, we will only use 2 features in this assignment: alcohol and malic acid. We will store these features in a matrix $\\mathbf{X}$ where each row represents a data point and each column represents a feature.\n",
        "Additionally, we will store the labels (class) in a vector $\\mathbf{Y}$.\n",
        "\n",
        "For multiclass classification, we will use all the labels.\n",
        "However, for binary classification, we will treat the first class as representing Barolo and group the other two classes together to represent Non-Barolo. We will call these labels $\\mathbf{Y}_{\\text{bin}}$."
      ]
    },
    {
      "cell_type": "code",
      "execution_count": 5,
      "metadata": {
        "id": "jhwMv5E4n0Pe"
      },
      "outputs": [],
      "source": [
        "# Select only the alcohol and malic acid features for simplicity\n",
        "X = df[['alcohol', 'malic_acid']].values\n",
        "Y = df['Class'].values\n",
        "\n",
        "# For binary classification, select class 0 (Barolo) and group the other two classes together to represent 1 (Not-Barolo)\n",
        "binary_mask = Y == 0\n",
        "Y_bin = np.where(binary_mask, 0, 1)"
      ]
    },
    {
      "cell_type": "markdown",
      "metadata": {
        "id": "mApvBidCn0Pe"
      },
      "source": [
        "Next, we will split the data into training and testing sets. We will use 65% of the data for training and 35% for testing."
      ]
    },
    {
      "cell_type": "code",
      "execution_count": 6,
      "metadata": {
        "id": "L9XdFGLEn0Pe"
      },
      "outputs": [],
      "source": [
        "# Split the data into training and testing sets\n",
        "test_size = 0.35\n",
        "X_train_bin, X_test_bin, Y_train_bin, Y_test_bin = train_test_split(X, Y_bin, test_size=test_size, random_state=random_seed)\n",
        "X_train_mul, X_test_mul, Y_train_mul, Y_test_mul = train_test_split(X, Y, test_size=test_size, random_state=random_seed)"
      ]
    },
    {
      "cell_type": "markdown",
      "metadata": {
        "id": "lp-_116En0Pe"
      },
      "source": [
        "For the final step of preprocessing, we will normalize the data and add a column of ones to the feature matrix to account for the bias term. For an explanation of the normalization step see Assignment 4."
      ]
    },
    {
      "cell_type": "code",
      "execution_count": 7,
      "metadata": {
        "id": "w3eh7pv6n0Pe"
      },
      "outputs": [],
      "source": [
        "# Normalize the features\n",
        "X_mean_bin = X_train_bin.mean(axis=0)\n",
        "X_std_bin = X_train_bin.std(axis=0) + 1e-8\n",
        "X_train_norm_bin = (X_train_bin - X_mean_bin) / X_std_bin\n",
        "X_test_norm_bin = (X_test_bin - X_mean_bin) / X_std_bin\n",
        "\n",
        "X_mean_mul = X_train_mul.mean(axis=0)\n",
        "X_std_mul = X_train_mul.std(axis=0) + 1e-8\n",
        "X_train_norm_mul = (X_train_mul - X_mean_mul) / X_std_mul\n",
        "X_test_norm_mul = (X_test_bin - X_mean_mul) / X_std_mul\n",
        "\n",
        "# Append a column of 1s to the features for the bias term\n",
        "X_train_norm_bin = np.hstack([np.ones((X_train_norm_bin.shape[0], 1)), X_train_norm_bin])\n",
        "X_test_norm_bin = np.hstack([np.ones((X_test_norm_bin.shape[0], 1)), X_test_norm_bin])\n",
        "X_train_norm_mul = np.hstack([np.ones((X_train_norm_mul.shape[0], 1)), X_train_norm_mul])\n",
        "X_test_norm_mul = np.hstack([np.ones((X_test_norm_mul.shape[0], 1)), X_test_norm_mul])"
      ]
    },
    {
      "cell_type": "markdown",
      "metadata": {
        "id": "p_mLq1e-n0Pe"
      },
      "source": [
        "### Plotting the Binary Dataset\n",
        "\n",
        "The plot below visualizes the training and test sets for the binary classification dataset, which uses the Barolo and Not-Barolo classes.\n",
        "\n",
        "In both plots, you should see two distinct clusters of points representing the two classes. Each cluster corresponds to one of the classes (Barolo or Not-Barolo), and the separation between the clusters indicates the differences in the features of the two classes."
      ]
    },
    {
      "cell_type": "code",
      "execution_count": 8,
      "metadata": {
        "cellView": "form",
        "colab": {
          "base_uri": "https://localhost:8080/",
          "height": 49,
          "referenced_widgets": [
            "b1bf2b68c7d441f387fb0fb561f0fb75",
            "9c00386046a14e89953b871121c5152d",
            "82e6787b89da432f877e62e76a735d77",
            "37e7347272fd41fe86e026ab3f06b2ac",
            "ff682e031a564af4bdfaf321d0ea9833"
          ]
        },
        "id": "x486qmIfn0Pf",
        "outputId": "5b73e1fd-f531-4ee3-8e38-ace1585da70c"
      },
      "outputs": [
        {
          "output_type": "display_data",
          "data": {
            "text/plain": [
              "Checkbox(value=False, description='Show Plot')"
            ],
            "application/vnd.jupyter.widget-view+json": {
              "version_major": 2,
              "version_minor": 0,
              "model_id": "b1bf2b68c7d441f387fb0fb561f0fb75"
            }
          },
          "metadata": {
            "application/vnd.jupyter.widget-view+json": {
              "colab": {
                "custom_widget_manager": {
                  "url": "https://ssl.gstatic.com/colaboratory-static/widgets/colab-cdn-widget-manager/2b70e893a8ba7c0f/manager.min.js"
                }
              }
            }
          }
        },
        {
          "output_type": "display_data",
          "data": {
            "text/plain": [
              "Output()"
            ],
            "application/vnd.jupyter.widget-view+json": {
              "version_major": 2,
              "version_minor": 0,
              "model_id": "37e7347272fd41fe86e026ab3f06b2ac"
            }
          },
          "metadata": {
            "application/vnd.jupyter.widget-view+json": {
              "colab": {
                "custom_widget_manager": {
                  "url": "https://ssl.gstatic.com/colaboratory-static/widgets/colab-cdn-widget-manager/2b70e893a8ba7c0f/manager.min.js"
                }
              }
            }
          }
        }
      ],
      "source": [
        "# @title Plot\n",
        "\n",
        "# Function to plot the binary dataset without jitter\n",
        "def plot_binary_dataset(show_plot):\n",
        "    if show_plot:\n",
        "        fig, axes = plt.subplots(1, 2, figsize=(15, 6))\n",
        "\n",
        "        # Plot training data\n",
        "        axes[0].scatter(X_train_norm_bin[Y_train_bin == 0][:, 1], X_train_norm_bin[Y_train_bin == 0][:, 2], color='red', label='Barolo', s=50)\n",
        "        axes[0].scatter(X_train_norm_bin[Y_train_bin == 1][:, 1], X_train_norm_bin[Y_train_bin == 1][:, 2], color='blue', label='Not-Barolo', s=50)\n",
        "        axes[0].set_xlabel('Alcohol (normalized)')\n",
        "        axes[0].set_ylabel('Malic Acid (normalized)')\n",
        "        axes[0].set_title('Training Set')\n",
        "        axes[0].set_ylim(-2.2, 3.8)\n",
        "        axes[0].set_xlim(-2.8, 2.8)\n",
        "        axes[0].legend()\n",
        "\n",
        "        # Plot testing data\n",
        "        axes[1].scatter(X_test_norm_bin[Y_test_bin == 0][:, 1], X_test_norm_bin[Y_test_bin == 0][:, 2], color='red', label='Barolo', s=50)\n",
        "        axes[1].scatter(X_test_norm_bin[Y_test_bin == 1][:, 1], X_test_norm_bin[Y_test_bin == 1][:, 2], color='blue', label='Not-Barolo', s=50)\n",
        "        axes[1].set_xlabel('Alcohol (normalized)')\n",
        "        axes[1].set_ylabel('Malic Acid (normalized)')\n",
        "        axes[1].set_title('Test Set')\n",
        "        axes[1].set_ylim(-2.2, 3.8)\n",
        "        axes[1].set_xlim(-2.8, 2.8)\n",
        "        axes[1].legend()\n",
        "\n",
        "        plt.show()\n",
        "    else:\n",
        "        clear_output()\n",
        "\n",
        "# Create a checkbox widget\n",
        "show_plot_checkbox_binary_dataset = widgets.Checkbox(value=False, description='Show Plot')\n",
        "\n",
        "# Use interactive_output to link the function with the checkbox\n",
        "interactive_plot_binary_dataset = interactive_output(plot_binary_dataset, {'show_plot': show_plot_checkbox_binary_dataset})\n",
        "\n",
        "# Display the checkbox and the plot\n",
        "display(show_plot_checkbox_binary_dataset, interactive_plot_binary_dataset)\n"
      ]
    },
    {
      "cell_type": "markdown",
      "metadata": {
        "id": "98XWIwJ1n0Pf"
      },
      "source": [
        "### Plotting the Multiclass Dataset\n",
        "\n",
        "The plot below visualizes the training and test sets for the multiclass classification dataset, which includes the Barolo, Grignolino, and Barbera classes.\n",
        "\n",
        "In both plots you should see three distinct clusters of points representing the three classes."
      ]
    },
    {
      "cell_type": "code",
      "execution_count": 9,
      "metadata": {
        "cellView": "form",
        "colab": {
          "base_uri": "https://localhost:8080/",
          "height": 49,
          "referenced_widgets": [
            "be18cbe78a2f4340b5f34d7a8e14a679",
            "c4ead5e4661d43db84dbcb6f79a55edf",
            "03d2f2b8d1df4bd2ab3ad957dd9bc5c4",
            "e3f4a56cb0184eaf8264c820ee9eccc3",
            "0c95855a2c9f4faa9701a20826c4bda2"
          ]
        },
        "id": "D4FTW8Xpn0Pf",
        "outputId": "3c106d58-c9d4-4e64-eab2-6219ad84073f"
      },
      "outputs": [
        {
          "output_type": "display_data",
          "data": {
            "text/plain": [
              "Checkbox(value=False, description='Show Plot')"
            ],
            "application/vnd.jupyter.widget-view+json": {
              "version_major": 2,
              "version_minor": 0,
              "model_id": "be18cbe78a2f4340b5f34d7a8e14a679"
            }
          },
          "metadata": {
            "application/vnd.jupyter.widget-view+json": {
              "colab": {
                "custom_widget_manager": {
                  "url": "https://ssl.gstatic.com/colaboratory-static/widgets/colab-cdn-widget-manager/2b70e893a8ba7c0f/manager.min.js"
                }
              }
            }
          }
        },
        {
          "output_type": "display_data",
          "data": {
            "text/plain": [
              "Output()"
            ],
            "application/vnd.jupyter.widget-view+json": {
              "version_major": 2,
              "version_minor": 0,
              "model_id": "e3f4a56cb0184eaf8264c820ee9eccc3"
            }
          },
          "metadata": {
            "application/vnd.jupyter.widget-view+json": {
              "colab": {
                "custom_widget_manager": {
                  "url": "https://ssl.gstatic.com/colaboratory-static/widgets/colab-cdn-widget-manager/2b70e893a8ba7c0f/manager.min.js"
                }
              }
            }
          }
        }
      ],
      "source": [
        "# @title Plot\n",
        "\n",
        "# Function to plot the training and testing sets for multiclass classification\n",
        "def plot_multiclass_train_test(show_plot):\n",
        "    if show_plot:\n",
        "        fig, axes = plt.subplots(1, 2, figsize=(15, 6))\n",
        "\n",
        "        # Plot training data\n",
        "        axes[0].scatter(X_train_norm_mul[Y_train_mul == 0][:, 1], X_train_norm_mul[Y_train_mul == 0][:, 2], color='red', label='Barolo', s=50)\n",
        "        axes[0].scatter(X_train_norm_mul[Y_train_mul == 1][:, 1], X_train_norm_mul[Y_train_mul == 1][:, 2], color='blue', label='Grignolino', s=50)\n",
        "        axes[0].scatter(X_train_norm_mul[Y_train_mul == 2][:, 1], X_train_norm_mul[Y_train_mul == 2][:, 2], color='green', label='Barbera', s=50)\n",
        "        axes[0].set_xlabel('Alcohol (normalized)')\n",
        "        axes[0].set_ylabel('Malic Acid (normalized)')\n",
        "        axes[0].set_title('Training Set')\n",
        "        axes[0].set_ylim(-2.2, 3.8)\n",
        "        axes[0].set_xlim(-2.8, 2.8)\n",
        "        axes[0].legend()\n",
        "\n",
        "        # Plot testing data\n",
        "        axes[1].scatter(X_test_norm_mul[Y_test_mul == 0][:, 1], X_test_norm_mul[Y_test_mul == 0][:, 2], color='red', label='Barolo', s=50)\n",
        "        axes[1].scatter(X_test_norm_mul[Y_test_mul == 1][:, 1], X_test_norm_mul[Y_test_mul == 1][:, 2], color='blue', label='Grignolino', s=50)\n",
        "        axes[1].scatter(X_test_norm_mul[Y_test_mul == 2][:, 1], X_test_norm_mul[Y_test_mul == 2][:, 2], color='green', label='Barbera', s=50)\n",
        "        axes[1].set_xlabel('Alcohol (normalized)')\n",
        "        axes[1].set_ylabel('Malic Acid (normalized)')\n",
        "        axes[1].set_title('Test Set')\n",
        "        axes[1].set_ylim(-2.2, 3.8)\n",
        "        axes[1].set_xlim(-2.8, 2.8)\n",
        "        axes[1].legend()\n",
        "\n",
        "        plt.show()\n",
        "    else:\n",
        "        clear_output()\n",
        "\n",
        "# Create a checkbox widget\n",
        "show_plot_checkbox_multiclass_train_test = widgets.Checkbox(value=False, description='Show Plot')\n",
        "\n",
        "# Use interactive_output to link the function with the checkbox\n",
        "interactive_plot_multiclass_train_test = interactive_output(plot_multiclass_train_test, {'show_plot': show_plot_checkbox_multiclass_train_test})\n",
        "\n",
        "# Display the checkbox and the plot\n",
        "display(show_plot_checkbox_multiclass_train_test, interactive_plot_multiclass_train_test)"
      ]
    },
    {
      "cell_type": "markdown",
      "metadata": {
        "id": "-icTeWndn0Pf"
      },
      "source": [
        "# Part 2: Binary Classification\n",
        "\n",
        "In this section we are interested in defining a learner for the binary classification problem.\n",
        "As discussed in [Part 1](#part-1-understanding-the-dataset), we will treat the first class as Barolo (represented as the label $0$) and group the other two classes together to represent Non-Barolo (represented as the label $1$).\n",
        "Thus, the set of labels is $\\mathcal{Y} = \\{0, 1\\}$.\n",
        "Our goal will be to implement the binary classification learner we learned in class.\n",
        "\n",
        "We will first need to implement a logistic regression learner that uses batch gradient descent to optimize the weights.\n",
        "To do this, lets implement the sigmoid (or logistic) function used as the predictor function by the logistic regression learner"
      ]
    },
    {
      "cell_type": "markdown",
      "metadata": {
        "id": "9lDTDCiCn0Pf"
      },
      "source": [
        "### Question 2.1\n",
        "\n",
        "In class we learned that the sigmoid function is defined as:\n",
        "$$\\sigma(z) = \\frac{1}{1 + e^{-z}}$$\n",
        "However, if $z$ is a large negative number, $e^{-z}$ will be a very large positive number and can cause an overflow error.\n",
        "To avoid this, we can rewrite the sigmoid function as:\n",
        "$$\\sigma(z) = \\frac{1}{1 + e^{-z}} = \\frac{1}{1 + e^{-z}} \\cdot \\frac{e^z}{e^z} = \\frac{e^z}{e^z + 1}$$\n",
        "Notice that this form of the sigmoid function will not overflow for large negative values of $z$; however, it may overflow for large positive values of $z$.\n",
        "\n",
        "Thus, the solution is to check if the value of $z$ is negative or positive and use the appropriate form of the sigmoid function.\n",
        "In particular, if $z$ is positive you should use the first form of the sigmoid function, and if $z$ is negative you should use the second form of the sigmoid function.\n",
        "\n",
        "For your implementation of the sigmoid function you should assume the input is a vector represented as a numpy arrary.\n",
        "You should then return a vector of the same shape where each element is the sigmoid function applied to the corresponding element of the input vector.\n",
        "Using vectors as input and output is often preferred in practice since it allows for a more efficient implementation.\n",
        "In particular, you can avoid for loops in your implementation by noting that `numpy` will apply its functions elementwise to numpy arrays (ex: `np.exp(Z)` will apply the exponential function to each element of the array `Z`).\n",
        "Similarly, arithmetic operations are also applied elementwise (ex: `1 + Z` will add 1 to each element of the array `Z`).\n",
        "It turns out that this is much faster than using for loops in Python.\n",
        "\n",
        "We have already started the implementation by initializing the output array `result` to an array (vector) of the same shape as the input `Z`.\n",
        "\n",
        "Complete the implemention of `sigmoid`.\n",
        "\n",
        "_Points:_ 8"
      ]
    },
    {
      "cell_type": "code",
      "execution_count": 10,
      "metadata": {
        "id": "-T6x89G7n0Pf"
      },
      "outputs": [],
      "source": [
        "def sigmoid(Z):\n",
        "    '''\n",
        "    Compute the sigmoid function for the input array Z.\n",
        "    This implementation uses conditional logic to avoid overflow issues for large positive and negative values of Z.\n",
        "\n",
        "    Parameters:\n",
        "    Z (numpy array): Input array of shape (n,) for which to compute the sigmoid function.\n",
        "\n",
        "    Returns:\n",
        "    result (numpy array): An array with the same shape as Z, containing the sigmoid function values for each element of Z.\n",
        "    '''\n",
        "    result = np.zeros(Z.shape)  # Initialize result array with the same shape as Z\n",
        "\n",
        "    ### YOUR CODE HERE ###\n",
        "\n",
        "    #np.where for efficient element-wise conditional logic\n",
        "    result = np.where(\n",
        "        Z >= 0,\n",
        "        1 / (1 + np.exp(-Z)),  # first form for non-negative values of Z\n",
        "        np.exp(Z) / (1 + np.exp(Z))  # second form for negative values of Z\n",
        "    )\n",
        "\n",
        "    ######################\n",
        "\n",
        "    return result"
      ]
    },
    {
      "cell_type": "code",
      "execution_count": 11,
      "metadata": {
        "colab": {
          "base_uri": "https://localhost:8080/",
          "height": 46
        },
        "id": "AMYKHiO6n0Pf",
        "outputId": "eb15f2f7-7884-4abe-bd5b-c156dc9592b6"
      },
      "outputs": [
        {
          "output_type": "execute_result",
          "data": {
            "text/plain": [
              "q2_1 results: All test cases passed!"
            ],
            "text/html": [
              "<p><strong><pre style='display: inline;'>q2_1</pre></strong> passed! 🙌</p>"
            ]
          },
          "metadata": {},
          "execution_count": 11
        }
      ],
      "source": [
        "grader.check(\"q2_1\")"
      ]
    },
    {
      "cell_type": "markdown",
      "metadata": {
        "id": "7v38xMD9n0Pf"
      },
      "source": [
        "### Question 2.2\n",
        "\n",
        "Now we are ready to implement the logistic regression learner using batch gradient descent.\n",
        "That is, you need to finish the implementation of the `bgd_logistic_regression_learner` function by adding the batch gradient descent update rule with a constant step size $\\eta^{(t)} = \\eta$.\n",
        "Recall that the update rule for batch gradient descent is:\n",
        "$$\\mathbf{w}^{(t+1)} = \\mathbf{w}^{(t)} - \\eta^{(t)} \\nabla \\hat L(\\mathbf{w}^{(t)}) \\quad \\text{where} \\quad \\hat L(\\mathbf{w}) = \\frac{1}{n} \\sum_{i=1}^{n} \\ell(\\sigma(\\mathbf{x}_i^\\top \\mathbf{w}), y_i),$$\n",
        "and $\\ell$ is the binary cross-entropy loss function:\n",
        "$$\\ell(\\hat y, y) = -y \\log(\\hat y) - (1 - y) \\log(1 - \\hat y).$$\n",
        "\n",
        "Complete the implementation of `bgd_logistic_regression_learner`.\n",
        "\n",
        "_Points:_ 8"
      ]
    },
    {
      "cell_type": "code",
      "execution_count": 12,
      "metadata": {
        "id": "c9lO830An0Pf"
      },
      "outputs": [],
      "source": [
        "def bgd_logistic_regression_learner(X, Y, step_size=0.01, epochs=10, random_seed=42):\n",
        "    '''\n",
        "    Solves logistic regression using batch gradient descent.\n",
        "\n",
        "    Parameters:\n",
        "    X (numpy array): Feature matrix of size (n, d+1), where n is the number of samples\n",
        "                     and d is the number of features. The first column should be all 1s.\n",
        "    Y (numpy array): Target vector of size (n,).\n",
        "    step_size (float): The step size for gradient descent.\n",
        "    epochs (int): The number of iterations to run gradient descent.\n",
        "    random_seed (int, optional): The seed for the random number generator.\n",
        "\n",
        "    Returns:\n",
        "    predictor (function): A function that takes a feature vector or matrix and returns a predicted value.\n",
        "    w (numpy array): The final weights after applying gradient descent for the specified epochs.\n",
        "    '''\n",
        "    n, d = X[:,1:].shape\n",
        "    np.random.seed(random_seed)\n",
        "    w = np.random.randn(d+1) # initialize the weights randomly\n",
        "\n",
        "    ### YOUR CODE HERE ###\n",
        "\n",
        "    # Batch Gradient Descent\n",
        "    for epoch in range(epochs):\n",
        "        # computing predictions using the current weights\n",
        "        y_hat = sigmoid(X @ w)\n",
        "\n",
        "        # computing the gradient of the loss\n",
        "        gradient = (1 / n) * (X.T @ (y_hat - Y))\n",
        "\n",
        "        # updating weights using gradient descent rule\n",
        "        w = w - step_size * gradient\n",
        "\n",
        "    ######################\n",
        "\n",
        "    def predictor(x):\n",
        "        return sigmoid(x @ w)\n",
        "\n",
        "    return predictor, w\n"
      ]
    },
    {
      "cell_type": "code",
      "execution_count": 13,
      "metadata": {
        "colab": {
          "base_uri": "https://localhost:8080/",
          "height": 46
        },
        "id": "QrUBQqdJn0Pf",
        "outputId": "46465927-9e6d-4a4d-f321-df6edfc8b0a1"
      },
      "outputs": [
        {
          "output_type": "execute_result",
          "data": {
            "text/plain": [
              "q2_2 results: All test cases passed!"
            ],
            "text/html": [
              "<p><strong><pre style='display: inline;'>q2_2</pre></strong> passed! 💯</p>"
            ]
          },
          "metadata": {},
          "execution_count": 13
        }
      ],
      "source": [
        "grader.check(\"q2_2\")"
      ]
    },
    {
      "cell_type": "markdown",
      "metadata": {
        "id": "ZO5JOozzn0Pf"
      },
      "source": [
        "### Question 2.3\n",
        "\n",
        "To make sure the implementation of `bgd_logistic_regression_learner` is correct we would like to plot the estimated loss of the predictor output by the learner as a function of the number of epochs.\n",
        "To do this you will need to implement the `estimated_loss`.\n",
        "The estimated loss of a predictor $f$, and loss function $\\ell$ is defined as:\n",
        "$$\\hat L(f) = \\frac{1}{n} \\sum_{i=1}^{n} \\ell(f(\\mathbf{x}_i), y_i).$$\n",
        "\n",
        "You can assume that the predictor `f` and loss function `loss_function` are implemented as functions that take a vector of inputs and return a vector of outputs.\n",
        "You may find the function `np.mean` useful for this implementation.\n",
        "\n",
        "Complete the implemention of `estimated_loss`.\n",
        "\n",
        "_Points:_ 4"
      ]
    },
    {
      "cell_type": "code",
      "execution_count": 14,
      "metadata": {
        "id": "Pv5hm8Kln0Pf"
      },
      "outputs": [],
      "source": [
        "def estimated_loss(f, X, Y, loss_function):\n",
        "    \"\"\"\n",
        "    Compute the estimated loss using the input loss function for a given predictor over a dataset.\n",
        "\n",
        "    Parameters:\n",
        "    f (function): A function that takes a feature vector or matrix and returns a predicted value.\n",
        "    X (numpy array): Feature matrix of size (n, d+1), where n is the number of samples\n",
        "                     and d is the number of features. The first column should be all 1s.\n",
        "    Y (numpy array): Target vector of size (n,).\n",
        "    loss_function (function): A function that takes true labels and predicted values and returns the loss.\n",
        "\n",
        "    Returns:\n",
        "    loss (float): The estimated loss.\n",
        "    \"\"\"\n",
        "\n",
        "    ### YOUR CODE HERE ###\n",
        "\n",
        "    # computing predictions using the predictor function\n",
        "    Y_pred = f(X)\n",
        "\n",
        "    # computing the loss using the loss function\n",
        "    loss = np.mean(loss_function(Y_pred, Y))\n",
        "\n",
        "    ######################\n",
        "\n",
        "    return loss\n"
      ]
    },
    {
      "cell_type": "code",
      "execution_count": 15,
      "metadata": {
        "colab": {
          "base_uri": "https://localhost:8080/",
          "height": 46
        },
        "id": "Fi-egoiWn0Pg",
        "outputId": "594ca05a-ca02-4c69-afd5-dbcfa414f5cf"
      },
      "outputs": [
        {
          "output_type": "execute_result",
          "data": {
            "text/plain": [
              "q2_3 results: All test cases passed!"
            ],
            "text/html": [
              "<p><strong><pre style='display: inline;'>q2_3</pre></strong> passed! 🍀</p>"
            ]
          },
          "metadata": {},
          "execution_count": 15
        }
      ],
      "source": [
        "grader.check(\"q2_3\")"
      ]
    },
    {
      "cell_type": "markdown",
      "metadata": {
        "id": "BVKRN1BSn0Pg"
      },
      "source": [
        "### Question 2.4\n",
        "\n",
        "To plot the `estimated_loss` you implemented in [Question 2.3](#question-2.3), we need to pick a specific loss function.\n",
        "We mentioned in [Question 2.2](#question-2.2) that the `bgd_logistic_regression_learner` is using the binary cross-entropy loss function.\n",
        "Thus, you should implement the binary cross-entropy loss function, which is defined as:\n",
        "$$\\ell(\\hat y, y) = -y \\log(\\hat y) - (1 - y) \\log(1 - \\hat y).$$\n",
        "\n",
        "Similar to the `sigmoid` function, you should assume the input is a vector represented as a numpy arrary.\n",
        "You should then return a vector of the same shape where each element is the binary cross-entropy loss applied to the corresponding elements of the input vectors.\n",
        "You may find the function `np.log` useful for this implementation.\n",
        "\n",
        "Complete the implemention of `binary_cross_entropy_loss`.\n",
        "\n",
        "_Points:_ 4"
      ]
    },
    {
      "cell_type": "code",
      "execution_count": 16,
      "metadata": {
        "id": "7ydxvGSQn0Pg"
      },
      "outputs": [],
      "source": [
        "def binary_cross_entropy_loss(Y_pred, Y):\n",
        "    \"\"\"\n",
        "    Compute the cross-entropy loss for binary classification.\n",
        "\n",
        "    Parameters:\n",
        "    Y_pred (numpy array): Predicted probabilities of shape (n,).\n",
        "    Y (numpy array): True labels (0 or 1) of shape (n,).\n",
        "\n",
        "    Returns:\n",
        "    loss (numpy array): Cross-entropy loss of shape (n,).\n",
        "    \"\"\"\n",
        "\n",
        "    # Clip predictions to avoid log(0)\n",
        "    Y_pred = np.clip(Y_pred, 1e-15, 1 - 1e-15)\n",
        "\n",
        "    ### YOUR CODE HERE ###\n",
        "\n",
        "    # compute the binary cross-entropy loss\n",
        "    loss = -Y * np.log(Y_pred) - (1 - Y) * np.log(1 - Y_pred)\n",
        "\n",
        "    ######################\n",
        "\n",
        "    return loss"
      ]
    },
    {
      "cell_type": "code",
      "execution_count": 17,
      "metadata": {
        "colab": {
          "base_uri": "https://localhost:8080/",
          "height": 46
        },
        "id": "Wf5EvEGTn0Pg",
        "outputId": "a8a88631-67f1-4062-8804-311126853ef3"
      },
      "outputs": [
        {
          "output_type": "execute_result",
          "data": {
            "text/plain": [
              "q2_4 results: All test cases passed!"
            ],
            "text/html": [
              "<p><strong><pre style='display: inline;'>q2_4</pre></strong> passed! 💯</p>"
            ]
          },
          "metadata": {},
          "execution_count": 17
        }
      ],
      "source": [
        "grader.check(\"q2_4\")"
      ]
    },
    {
      "cell_type": "markdown",
      "metadata": {
        "id": "lrMJpYPDn0Pg"
      },
      "source": [
        "### Plotting the Estimated Cross-Entropy Loss\n",
        "\n",
        "Below is a plot of the estimated loss (using the cross-entropy loss function) for the predictor output by the `bgd_logistic_regression_learner` as a function of the number of epochs.\n",
        "If your implementation of `bgd_logistic_regression_learner` is correct, you should see the loss decrease as the number of epochs increases."
      ]
    },
    {
      "cell_type": "code",
      "execution_count": 18,
      "metadata": {
        "cellView": "form",
        "colab": {
          "base_uri": "https://localhost:8080/",
          "height": 49,
          "referenced_widgets": [
            "dd341922e5f44447bac2c0376fef546b",
            "2c02d744aad2491185ebd05d78b0139a",
            "54c663cdf15c42f796246df27f4fd00f",
            "dcc731adec5d413e9e455d0352af8a45",
            "26016211a536445cafc285158947c3c7"
          ]
        },
        "id": "a5e8wM7Ln0Pg",
        "outputId": "ddc83063-7d96-48d3-dae0-968397b8658a"
      },
      "outputs": [
        {
          "output_type": "display_data",
          "data": {
            "text/plain": [
              "Checkbox(value=False, description='Show Plot')"
            ],
            "application/vnd.jupyter.widget-view+json": {
              "version_major": 2,
              "version_minor": 0,
              "model_id": "dd341922e5f44447bac2c0376fef546b"
            }
          },
          "metadata": {
            "application/vnd.jupyter.widget-view+json": {
              "colab": {
                "custom_widget_manager": {
                  "url": "https://ssl.gstatic.com/colaboratory-static/widgets/colab-cdn-widget-manager/2b70e893a8ba7c0f/manager.min.js"
                }
              }
            }
          }
        },
        {
          "output_type": "display_data",
          "data": {
            "text/plain": [
              "Output()"
            ],
            "application/vnd.jupyter.widget-view+json": {
              "version_major": 2,
              "version_minor": 0,
              "model_id": "dcc731adec5d413e9e455d0352af8a45"
            }
          },
          "metadata": {
            "application/vnd.jupyter.widget-view+json": {
              "colab": {
                "custom_widget_manager": {
                  "url": "https://ssl.gstatic.com/colaboratory-static/widgets/colab-cdn-widget-manager/2b70e893a8ba7c0f/manager.min.js"
                }
              }
            }
          }
        }
      ],
      "source": [
        "# @title Plot\n",
        "\n",
        "# Function to plot the loss values\n",
        "def plot_ce_loss_binary(show_plot):\n",
        "    # Define the number of epochs\n",
        "    epochs = 200\n",
        "\n",
        "    # Initialize lists to store the loss values\n",
        "    loss_values = []\n",
        "\n",
        "    # Train the model and compute the loss for each epoch\n",
        "    for epoch in range(1, epochs + 1):\n",
        "        predictor, w = bgd_logistic_regression_learner(X_train_norm_bin, Y_train_bin, step_size=0.2, epochs=epoch, random_seed=random_seed)\n",
        "        loss = estimated_loss(predictor, X_train_norm_bin, Y_train_bin, binary_cross_entropy_loss)\n",
        "        loss_values.append(loss)\n",
        "    if show_plot:\n",
        "        plt.figure(figsize=(10, 6))\n",
        "        plt.plot(range(1, epochs + 1), loss_values, linewidth=3)  # Set linewidth to 2\n",
        "        plt.xlabel('Epochs')\n",
        "        plt.ylabel('Estimated Cross-Entropy Loss')\n",
        "        plt.grid(True)\n",
        "        plt.show()\n",
        "    else:\n",
        "        clear_output()\n",
        "\n",
        "# Create a checkbox widget\n",
        "show_plot_checkbox_ce_loss_binary = widgets.Checkbox(value=False, description='Show Plot')\n",
        "\n",
        "# Use interactive_output to link the function with the checkbox\n",
        "interactive_plot_ce_loss_binary = interactive_output(plot_ce_loss_binary, {'show_plot': show_plot_checkbox_ce_loss_binary})\n",
        "\n",
        "# Display the checkbox and the plot\n",
        "display(show_plot_checkbox_ce_loss_binary, interactive_plot_ce_loss_binary)"
      ]
    },
    {
      "cell_type": "markdown",
      "metadata": {
        "id": "jkmH6rzin0Pg"
      },
      "source": [
        "### Binary Classification Learner\n",
        "\n",
        "Recall that our objective in binary classification is to predict the class of a data point as either Barolo (0) or Not-Barolo (1).\n",
        "So far we have implemented the logistic regression learner, which returns a predictor that outputs a proability of the data point being Not-Barolo.\n",
        "To make a prediction, we need to convert this probability to a class label.\n",
        "We can do this by thresholding the probability at 0.5, such that if the probability is greater than 0.5 we predict Not-Barolo, otherwise we predict Barolo.\n",
        "This is implemented for you as `binary_classification_learner` below."
      ]
    },
    {
      "cell_type": "code",
      "execution_count": 19,
      "metadata": {
        "id": "Jvv4OemYn0Pg"
      },
      "outputs": [],
      "source": [
        "def binary_classification_learner(X, Y, step_size=0.01, epochs=10, random_seed=42):\n",
        "    \"\"\"\n",
        "    Trains a binary classification model using batch gradient descent and returns a predictor function.\n",
        "\n",
        "    Parameters:\n",
        "    X (numpy array): Feature matrix of size (n, d+1), where n is the number of samples\n",
        "                     and d is the number of features. The first column should be all 1s.\n",
        "    Y (numpy array): Target vector of size (n,).\n",
        "    step_size (float): The step size for gradient descent.\n",
        "    epochs (int): The number of iterations to run gradient descent.\n",
        "    decision_boundary (float): The decision boundary for classification.\n",
        "    random_seed (int, optional): The seed for the random number generator.\n",
        "\n",
        "    Returns:\n",
        "    predictor (function): A function that takes a feature vector or matrix and returns a predicted class (0 or 1).\n",
        "    w (numpy array): The final weights after applying gradient descent for the specified epochs.\n",
        "    \"\"\"\n",
        "    # Use the bgd_logistic_regression_learner to train the model\n",
        "    predictor, w = bgd_logistic_regression_learner(X, Y, step_size, epochs, random_seed)\n",
        "\n",
        "    # Define a new predictor function that uses the decision boundary\n",
        "    def binary_predictor(x):\n",
        "        return (predictor(x) >= 0.5).astype(int)\n",
        "\n",
        "    return binary_predictor, w"
      ]
    },
    {
      "cell_type": "markdown",
      "metadata": {
        "id": "1f-7R8ejn0Pg"
      },
      "source": [
        "### Question 2.5\n",
        "\n",
        "To evaluate the performance of the binary classification learner, we should use the zero-one loss function, since it measures the number of misclassifications.\n",
        "This is in contrast to the cross-entropy loss function, which measures the difference between the predicted probability and the true label.\n",
        "Since our objective is to predict class labels correctly, the zero-one loss is more appropriate for evaluating the performance of a binary classification learner.\n",
        "\n",
        "Recall however that the `binary_classification_learner` makes use of the `bgd_logistic_regression_learner`, which is actually minimizing the cross-entropy loss instead of the zero-one loss.\n",
        "Intuitively, we might expect that if we predict the probability of a data point being Not-Barolo correctly, we should also predict the class label correctly.\n",
        "To confirm this intuition, we would like to plot the estimated loss of the predictor output by the `binary_classification_learner` as a function of the number of epochs using the zero-one loss function.\n",
        "\n",
        "To do this you first need to implement the zero-one loss function, which is defined as:\n",
        "$$\\ell(\\hat y, y) = \\begin{cases} 0 & \\text{if } \\hat y = y \\\\ 1 & \\text{if } \\hat y \\neq y \\end{cases}$$\n",
        "\n",
        "As before, you should assume the inputs are vectors represented as numpy arrarys.\n",
        "\n",
        "Complete the implemention of `zero_one_loss`.\n",
        "\n",
        "\n",
        "_Points:_ 4"
      ]
    },
    {
      "cell_type": "code",
      "execution_count": 20,
      "metadata": {
        "id": "lTFr4mmln0Ph"
      },
      "outputs": [],
      "source": [
        "def zero_one_loss(Y_pred, Y):\n",
        "    \"\"\"\n",
        "    Compute the 0-1 loss for binary classification.\n",
        "\n",
        "    Parameters:\n",
        "    Y_pred (numpy array): Predicted labels of shape (n,).\n",
        "    Y (numpy array): True labels of shape (n,).\n",
        "\n",
        "    Returns:\n",
        "    loss (numpy array): 0-1 loss of shape (n,).\n",
        "    \"\"\"\n",
        "\n",
        "    ### YOUR CODE HERE ###\n",
        "\n",
        "    loss = np.where(Y_pred == Y, 0, 1)\n",
        "\n",
        "    ######################\n",
        "\n",
        "    return loss"
      ]
    },
    {
      "cell_type": "code",
      "execution_count": 21,
      "metadata": {
        "colab": {
          "base_uri": "https://localhost:8080/",
          "height": 46
        },
        "id": "dLhP_wFUn0Ph",
        "outputId": "25a277f1-2fd9-4893-c540-b837e42b39fb"
      },
      "outputs": [
        {
          "output_type": "execute_result",
          "data": {
            "text/plain": [
              "q2_5 results: All test cases passed!"
            ],
            "text/html": [
              "<p><strong><pre style='display: inline;'>q2_5</pre></strong> passed! 🎉</p>"
            ]
          },
          "metadata": {},
          "execution_count": 21
        }
      ],
      "source": [
        "grader.check(\"q2_5\")"
      ]
    },
    {
      "cell_type": "markdown",
      "metadata": {
        "id": "vP00mxSbn0Ph"
      },
      "source": [
        "### Plotting the Estimated Zero-One Loss\n",
        "\n",
        "Below is a plot of the estimated loss (using the zero-one loss function) for the predictor output by the `binary_classification_learner` as a function of the number of epochs.\n",
        "We also plot the estimated loss using the cross-entropy loss function for comparison.\n",
        "\n",
        "If your implementation of `zero_one_loss` is correct, you should see the zero-one loss decrease as the number of epochs increases.\n",
        "However, it likely will not decrease as smoothly as the cross-entropy loss, since the `bgd_logistic_regression_learner` is not directly minimizing the zero-one loss."
      ]
    },
    {
      "cell_type": "code",
      "execution_count": 22,
      "metadata": {
        "cellView": "form",
        "colab": {
          "base_uri": "https://localhost:8080/",
          "height": 49,
          "referenced_widgets": [
            "7e4872e542824bee9e2eeb5ca6efcb61",
            "24745f986cd4438293fe975e9b25dc18",
            "0bbc4a5c13e6440499640f752a1830fe",
            "94ff861851ee4f389e9ea61e8d6a05b4",
            "f47524344dd346d88c214b1aa8927deb"
          ]
        },
        "id": "05M9gbbun0Ph",
        "outputId": "1eab5fd3-5f88-41c4-f1aa-d5cd143ce632"
      },
      "outputs": [
        {
          "output_type": "display_data",
          "data": {
            "text/plain": [
              "Checkbox(value=False, description='Show Plot')"
            ],
            "application/vnd.jupyter.widget-view+json": {
              "version_major": 2,
              "version_minor": 0,
              "model_id": "7e4872e542824bee9e2eeb5ca6efcb61"
            }
          },
          "metadata": {
            "application/vnd.jupyter.widget-view+json": {
              "colab": {
                "custom_widget_manager": {
                  "url": "https://ssl.gstatic.com/colaboratory-static/widgets/colab-cdn-widget-manager/2b70e893a8ba7c0f/manager.min.js"
                }
              }
            }
          }
        },
        {
          "output_type": "display_data",
          "data": {
            "text/plain": [
              "Output()"
            ],
            "application/vnd.jupyter.widget-view+json": {
              "version_major": 2,
              "version_minor": 0,
              "model_id": "94ff861851ee4f389e9ea61e8d6a05b4"
            }
          },
          "metadata": {
            "application/vnd.jupyter.widget-view+json": {
              "colab": {
                "custom_widget_manager": {
                  "url": "https://ssl.gstatic.com/colaboratory-static/widgets/colab-cdn-widget-manager/2b70e893a8ba7c0f/manager.min.js"
                }
              }
            }
          }
        }
      ],
      "source": [
        "# @title Plot\n",
        "\n",
        "# Function to plot the loss values\n",
        "def plot_ce_zo_loss_bin(show_plot):\n",
        "    # Define the number of epochs\n",
        "    epochs = 200\n",
        "\n",
        "    # Initialize lists to store the loss values\n",
        "    binary_cross_entropy_loss_values = []\n",
        "    zero_one_loss_values = []\n",
        "\n",
        "    # Train the model and compute the loss for each epoch\n",
        "    for epoch in range(1, epochs + 1):\n",
        "        predictor_log, w = bgd_logistic_regression_learner(X_train_norm_bin, Y_train_bin, step_size=0.2, epochs=epoch, random_seed=random_seed)\n",
        "        predictor_bin, w = binary_classification_learner(X_train_norm_bin, Y_train_bin, step_size=0.2, epochs=epoch, random_seed=random_seed)\n",
        "        binary_cross_entropy_loss_value = estimated_loss(predictor_log, X_train_norm_bin, Y_train_bin, binary_cross_entropy_loss)\n",
        "        zero_one_loss_value = estimated_loss(predictor_bin, X_train_norm_bin, Y_train_bin, zero_one_loss)\n",
        "        binary_cross_entropy_loss_values.append(binary_cross_entropy_loss_value)\n",
        "        zero_one_loss_values.append(zero_one_loss_value)\n",
        "\n",
        "    if show_plot:\n",
        "        plt.figure(figsize=(10, 6))\n",
        "        plt.plot(range(1, epochs + 1), binary_cross_entropy_loss_values, label='Cross-Entropy Loss', linewidth=3)\n",
        "        plt.plot(range(1, epochs + 1), zero_one_loss_values, label='Zero-One Loss', linewidth=3)\n",
        "        plt.xlabel('Epochs')\n",
        "        plt.ylabel('Estimated Loss')\n",
        "        plt.legend()\n",
        "        plt.grid(True)\n",
        "        plt.show()\n",
        "    else:\n",
        "        clear_output()\n",
        "\n",
        "# Create a checkbox widget\n",
        "show_plot_checkbox_ce_zo_loss_binary = widgets.Checkbox(value=False, description='Show Plot')\n",
        "\n",
        "# Use interactive_output to link the function with the checkbox\n",
        "interactive_plot_loss_ce_zo_loss_binary = interactive_output(plot_ce_zo_loss_bin, {'show_plot': show_plot_checkbox_ce_zo_loss_binary})\n",
        "\n",
        "# Display the checkbox and the plot\n",
        "display(show_plot_checkbox_ce_zo_loss_binary, interactive_plot_loss_ce_zo_loss_binary)"
      ]
    },
    {
      "cell_type": "markdown",
      "metadata": {
        "id": "Hgybv91Xn0Ph"
      },
      "source": [
        "### Plotting a Linear Decision Boundary\n",
        "\n",
        "The binary classification predictor outputs the class 1 if the logistic regression predictor outputs a probability greater than 0.5.\n",
        "Since the logistic regression predictor is given by $\\sigma(\\mathbf{x}^\\top \\mathbf{w})$, it implies that $\\mathbf{x}^\\top \\mathbf{w} \\ge 0$ when $\\sigma(\\mathbf{x}^\\top \\mathbf{w}) \\ge 0.5$.\n",
        "Thus, to visualize when the binary classification predictor decides to output the class 0, or 1, we can plot the line $\\mathbf{x}^\\top \\mathbf{w} = 0$, which is called the *decision boundary*.\n",
        "\n",
        "The decision boundary is learned based on the training dataset shown on the left.\n",
        "We plot the same decision boundary on the right to show how well it does on the test set."
      ]
    },
    {
      "cell_type": "code",
      "execution_count": 23,
      "metadata": {
        "cellView": "form",
        "colab": {
          "base_uri": "https://localhost:8080/",
          "height": 49,
          "referenced_widgets": [
            "7ca158fb5b624fd386a9c0bb37eb0bc2",
            "c6221b2a953c4b978a5bf36b63531cf7",
            "559576f2864c4b3689b3c8b497be522f",
            "920eb50d4b6d4f4fbba793b42b97c2cc",
            "5163e5c33ded4a1990c9dd7979cfaecf"
          ]
        },
        "id": "QwvUKbeqn0Ph",
        "outputId": "27e33e39-12b2-41e2-ebbb-266a4a7c93f5"
      },
      "outputs": [
        {
          "output_type": "display_data",
          "data": {
            "text/plain": [
              "Checkbox(value=False, description='Show Plot')"
            ],
            "application/vnd.jupyter.widget-view+json": {
              "version_major": 2,
              "version_minor": 0,
              "model_id": "7ca158fb5b624fd386a9c0bb37eb0bc2"
            }
          },
          "metadata": {
            "application/vnd.jupyter.widget-view+json": {
              "colab": {
                "custom_widget_manager": {
                  "url": "https://ssl.gstatic.com/colaboratory-static/widgets/colab-cdn-widget-manager/2b70e893a8ba7c0f/manager.min.js"
                }
              }
            }
          }
        },
        {
          "output_type": "display_data",
          "data": {
            "text/plain": [
              "Output()"
            ],
            "application/vnd.jupyter.widget-view+json": {
              "version_major": 2,
              "version_minor": 0,
              "model_id": "920eb50d4b6d4f4fbba793b42b97c2cc"
            }
          },
          "metadata": {
            "application/vnd.jupyter.widget-view+json": {
              "colab": {
                "custom_widget_manager": {
                  "url": "https://ssl.gstatic.com/colaboratory-static/widgets/colab-cdn-widget-manager/2b70e893a8ba7c0f/manager.min.js"
                }
              }
            }
          }
        }
      ],
      "source": [
        "# @title Plot\n",
        "\n",
        "# Function to show/hide the plot\n",
        "def plot_db_binary(show_plot):\n",
        "    # Define the decision boundary function\n",
        "    def plot_decision_boundary(X, Y, f, title, ax):\n",
        "        # Create a mesh grid\n",
        "        x_min, x_max = -2.8, 2.8  # Hardcoded x-limits\n",
        "        y_min, y_max = -2.2, 3.8  # Hardcoded y-limits\n",
        "        xx, yy = np.meshgrid(np.arange(x_min, x_max, 0.01),\n",
        "                            np.arange(y_min, y_max, 0.01))\n",
        "\n",
        "        # Compute the decision boundary\n",
        "        Z = f(np.c_[np.ones((xx.ravel().shape[0], 1)), xx.ravel(), yy.ravel()])\n",
        "        Z = Z.reshape(xx.shape)\n",
        "\n",
        "        # Plot the decision boundary\n",
        "        ax.contourf(xx, yy, Z, alpha=0.8, levels=[0, 0.5, 1], colors=['#FFAAAA', '#AAAAFF'])\n",
        "        ax.scatter(X[Y == 0][:, 1], X[Y == 0][:, 2], color='red', label='Barolo', s=50)\n",
        "        ax.scatter(X[Y == 1][:, 1], X[Y == 1][:, 2], color='blue', label='Not-Barolo', s=50)\n",
        "        ax.set_xlabel('Alcohol (normalized)')\n",
        "        ax.set_ylabel('Malic Acid (normalized)')\n",
        "        ax.set_title(title)\n",
        "\n",
        "        # Hardcoded limits to ensure consistency across both plots\n",
        "        ax.set_xlim(x_min, x_max)\n",
        "        ax.set_ylim(y_min, y_max)\n",
        "        ax.legend()\n",
        "\n",
        "    epochs = 10000\n",
        "\n",
        "    if show_plot:\n",
        "        # Create subplots\n",
        "        fig, axes = plt.subplots(1, 2, figsize=(15, 6))\n",
        "\n",
        "        predictor, w = binary_classification_learner(X_train_norm_bin, Y_train_bin, step_size=0.2, epochs=epochs, random_seed=random_seed)\n",
        "        # Plot the decision boundary on the training set\n",
        "        plot_decision_boundary(X_train_norm_bin, Y_train_bin, predictor, 'Training Set', axes[0])\n",
        "\n",
        "        # Plot the decision boundary on the test set\n",
        "        plot_decision_boundary(X_test_norm_bin, Y_test_bin, predictor, 'Test Set', axes[1])\n",
        "\n",
        "        plt.show()\n",
        "    else:\n",
        "        clear_output()\n",
        "\n",
        "# Create a checkbox widget\n",
        "show_plot_checkbox_db_binary = widgets.Checkbox(value=False, description='Show Plot')\n",
        "\n",
        "# Use interactive_output to link the function with the checkbox\n",
        "interactive_plot_db_binary = interactive_output(plot_db_binary, {'show_plot': show_plot_checkbox_db_binary})\n",
        "\n",
        "# Display the checkbox and the plot\n",
        "display(show_plot_checkbox_db_binary, interactive_plot_db_binary)"
      ]
    },
    {
      "cell_type": "markdown",
      "metadata": {
        "id": "P0ePs0vOn0Ph"
      },
      "source": [
        "From the above plot we might notice that if the decision boundary did not have to be a straight line, we could have achieved a better separation between the two classes.\n",
        "To achieve this, we can change the function class used by the logistic regression learner.\n",
        "So far the logistic regression learner has been using the following logistic function class:\n",
        "$$\\bar{\\mathcal{F}}_1 = \\{ f | f: \\mathbb{R}^{d+1} \\to \\{0, 1\\}, \\text{ where } f(\\mathbf{x}) = \\sigma(\\mathbf{x}^\\top \\mathbf{w}), \\text { and } \\mathbf{w} \\in \\mathbb{R}^{d+1}\\}.$$\n",
        "The reason the decision boundary was a straight line is because the input to the sigmoid function was a linear function of the features.\n",
        "To allow for more complex decision boundaries, we can change the features to be polynomial features of the original features.\n",
        "For a degree $p$, the polynomial logistic function class is defined as:\n",
        "$$\\bar{\\mathcal{F}_p} = \\{ f | f: \\mathbb{R}^{d+1} \\to \\{0, 1\\}, \\text{ where } f(\\mathbf{x}) = \\sigma(\\phi_p(\\mathbf{x})^\\top \\mathbf{w}), \\text { and } \\mathbf{w} \\in \\mathbb{R}^{\\bar{p}+1}\\}.$$\n",
        "where $\\phi_p$ is the polynomial feature function that takes a feature vector $\\mathbf{x}$ and a degree $p$ and returns a feature vector of all polynomial features up to degree $p$.\n",
        "\n",
        "The function `phi_p` below is an implementation of the polynomial feature function $\\phi_p$ for a feature matrix `X` and a degree `p`.\n"
      ]
    },
    {
      "cell_type": "code",
      "execution_count": 24,
      "metadata": {
        "id": "UFw7EczZn0Ph"
      },
      "outputs": [],
      "source": [
        "def phi_p(X, p):\n",
        "    \"\"\"\n",
        "    Transforms the input feature matrix X into polynomial features of degree p and normalizes them.\n",
        "\n",
        "    Parameters:\n",
        "    X (numpy.ndarray): Input feature matrix where each row is a feature vector.\n",
        "    p (int): Degree of the polynomial features.\n",
        "\n",
        "    Returns:\n",
        "    poly_features (numpy.ndarray): Transformed and normalized polynomial features.\n",
        "    mean (numpy.ndarray): Mean of the polynomial features used for normalization.\n",
        "    std (numpy.ndarray): Standard deviation of the polynomial features used for normalization.\n",
        "    \"\"\"\n",
        "    # Create PolynomialFeatures instance with the desired degree\n",
        "    poly = PolynomialFeatures(degree=p, include_bias=False)\n",
        "\n",
        "    # Transform the feature matrix to polynomial features\n",
        "    poly_features = poly.fit_transform(X)\n",
        "\n",
        "    return poly_features"
      ]
    },
    {
      "cell_type": "markdown",
      "metadata": {
        "id": "C-5LtpJcn0Ph"
      },
      "source": [
        "### Plotting Polynomial Decision Boundaries\n",
        "\n",
        "Below is a plot of the decision boundary for different polynomial degrees $p$.\n",
        "You should see that as $p$ increases the decision boundary becomes more complex and can better separate the two classes in the training set.\n",
        "However, as $p$ increases the decision boundary may become too complex and overfit the training data, leading to poor performance on the test set."
      ]
    },
    {
      "cell_type": "code",
      "execution_count": 25,
      "metadata": {
        "cellView": "form",
        "colab": {
          "base_uri": "https://localhost:8080/",
          "height": 79,
          "referenced_widgets": [
            "e0ad22bf8f6441279254f38bebc18834",
            "30d73d592ccc4f1081347847124ced30",
            "7155d6498d3a480f98387169e9f13144",
            "b63a9d47418f458288e6b115b4bb4918",
            "711c49eafc5c4de7822caf12d68174b6",
            "c565826779c946c8b88dd81b57938b69",
            "3eb6423324cb4b8eb71b53f2f5d5566a",
            "8e7945eca3a8489d92ba7ced2cdf8f97"
          ]
        },
        "id": "XNzSeYivn0Ph",
        "outputId": "35113dca-c2ec-4fdf-b6e7-fc68eb880263"
      },
      "outputs": [
        {
          "output_type": "display_data",
          "data": {
            "text/plain": [
              "Checkbox(value=False, description='Show Plot')"
            ],
            "application/vnd.jupyter.widget-view+json": {
              "version_major": 2,
              "version_minor": 0,
              "model_id": "e0ad22bf8f6441279254f38bebc18834"
            }
          },
          "metadata": {
            "application/vnd.jupyter.widget-view+json": {
              "colab": {
                "custom_widget_manager": {
                  "url": "https://ssl.gstatic.com/colaboratory-static/widgets/colab-cdn-widget-manager/2b70e893a8ba7c0f/manager.min.js"
                }
              }
            }
          }
        },
        {
          "output_type": "display_data",
          "data": {
            "text/plain": [
              "IntSlider(value=1, description='Degree', max=10, min=1, step=0)"
            ],
            "application/vnd.jupyter.widget-view+json": {
              "version_major": 2,
              "version_minor": 0,
              "model_id": "b63a9d47418f458288e6b115b4bb4918"
            }
          },
          "metadata": {
            "application/vnd.jupyter.widget-view+json": {
              "colab": {
                "custom_widget_manager": {
                  "url": "https://ssl.gstatic.com/colaboratory-static/widgets/colab-cdn-widget-manager/2b70e893a8ba7c0f/manager.min.js"
                }
              }
            }
          }
        },
        {
          "output_type": "display_data",
          "data": {
            "text/plain": [
              "Output()"
            ],
            "application/vnd.jupyter.widget-view+json": {
              "version_major": 2,
              "version_minor": 0,
              "model_id": "3eb6423324cb4b8eb71b53f2f5d5566a"
            }
          },
          "metadata": {
            "application/vnd.jupyter.widget-view+json": {
              "colab": {
                "custom_widget_manager": {
                  "url": "https://ssl.gstatic.com/colaboratory-static/widgets/colab-cdn-widget-manager/2b70e893a8ba7c0f/manager.min.js"
                }
              }
            }
          }
        }
      ],
      "source": [
        "# @title Plot\n",
        "\n",
        "# Function to show/hide the plot and update the polynomial degree\n",
        "def update_plot_db_binary_poly(show_plot, degree):\n",
        "\n",
        "    # Define the number of epochs and polynomial degree\n",
        "    epochs = 10000\n",
        "\n",
        "    # Define the decision boundary function for polynomial features\n",
        "    def plot_decision_boundary_poly(X, Y, f, degree, title, X_poly_mean=None, X_poly_std=None, ax=None):\n",
        "        # Create a mesh grid\n",
        "        x_min, x_max = -2.8, 2.8  # Hardcoded x-limits\n",
        "        y_min, y_max = -2.2, 3.8  # Hardcoded y-limits\n",
        "        xx, yy = np.meshgrid(np.arange(x_min, x_max, 0.01),\n",
        "                            np.arange(y_min, y_max, 0.01))\n",
        "\n",
        "        # Transform the mesh grid to polynomial features\n",
        "        poly_features = phi_p(np.c_[xx.ravel(), yy.ravel()], degree)\n",
        "\n",
        "        # Normalize the polynomial features using the same mean and std as the training set\n",
        "        poly_features = (poly_features - X_poly_mean) / X_poly_std\n",
        "\n",
        "        # Append a column of 1s to the features for the bias term\n",
        "        poly_features = np.hstack([np.ones((poly_features.shape[0], 1)), poly_features])\n",
        "\n",
        "        # Compute the decision boundary\n",
        "        Z = f(poly_features)\n",
        "        Z = Z.reshape(xx.shape)\n",
        "\n",
        "        # Plot the decision boundary\n",
        "        ax.contourf(xx, yy, Z, alpha=0.8, levels=[0, 0.5, 1], colors=['#FFAAAA', '#AAAAFF'])\n",
        "        ax.scatter(X[Y == 0][:, 1], X[Y == 0][:, 2], color='red', label='Barolo', s=50)\n",
        "        ax.scatter(X[Y == 1][:, 1], X[Y == 1][:, 2], color='blue', label='Not-Barolo', s=50)\n",
        "        ax.set_xlabel('Alcohol (normalized)')\n",
        "        ax.set_ylabel('Malic Acid (normalized)')\n",
        "        ax.set_ylim(y_min, y_max)\n",
        "        ax.set_xlim(x_min, x_max)\n",
        "        ax.set_title(title)\n",
        "        ax.legend()\n",
        "\n",
        "    if show_plot:\n",
        "        # Transform the input features to polynomial features of the selected degree\n",
        "        X_poly_train = phi_p(X_train_norm_bin[:, 1:], degree)\n",
        "        X_poly_test = phi_p(X_test_norm_bin[:, 1:], degree)\n",
        "\n",
        "        # Normalize the polynomial features\n",
        "        X_poly_mean = X_poly_train.mean(axis=0)\n",
        "        X_poly_std = X_poly_train.std(axis=0) + 1e-8\n",
        "        X_poly_train = (X_poly_train - X_poly_mean) / X_poly_std\n",
        "        X_poly_test = (X_poly_test - X_poly_mean) / X_poly_std\n",
        "\n",
        "        # Append a column of 1s to the features for the bias term\n",
        "        X_poly_train = np.hstack([np.ones((X_poly_train.shape[0], 1)), X_poly_train])\n",
        "        X_poly_test = np.hstack([np.ones((X_poly_test.shape[0], 1)), X_poly_test])\n",
        "\n",
        "        # Train the model using polynomial features\n",
        "        predictor_poly, w_poly = binary_classification_learner(X_poly_train, Y_train_bin, step_size=0.2, epochs=epochs, random_seed=random_seed)\n",
        "\n",
        "        # Create subplots\n",
        "        fig, axes = plt.subplots(1, 2, figsize=(15, 6))\n",
        "\n",
        "        # Plot the decision boundary on the training set\n",
        "        plot_decision_boundary_poly(X_poly_train, Y_train_bin, predictor_poly, degree, f'Training Set (Polynomial Degree {degree})', X_poly_mean, X_poly_std, ax=axes[0])\n",
        "\n",
        "        # Plot the decision boundary on the test set\n",
        "        plot_decision_boundary_poly(X_poly_test, Y_test_bin, predictor_poly, degree, f'Test Set (Polynomial Degree {degree})', X_poly_mean, X_poly_std, ax=axes[1])\n",
        "\n",
        "        plt.show()\n",
        "    else:\n",
        "        clear_output()\n",
        "\n",
        "# Create a checkbox widget\n",
        "show_plot_checkbox_db_binary_poly = widgets.Checkbox(value=False, description='Show Plot')\n",
        "\n",
        "# Create a slider widget for selecting the polynomial degree\n",
        "degree_slider_db_binary_poly = widgets.IntSlider(value=1, min=1, max=10, step=0.5, description='Degree')\n",
        "\n",
        "# Use interactive_output to link the function with the checkbox and slider\n",
        "interactive_plot_db_binary_poly = interactive_output(update_plot_db_binary_poly, {'show_plot': show_plot_checkbox_db_binary_poly, 'degree': degree_slider_db_binary_poly})\n",
        "\n",
        "# Display the checkbox, slider, and the plot\n",
        "display(show_plot_checkbox_db_binary_poly, degree_slider_db_binary_poly, interactive_plot_db_binary_poly)"
      ]
    },
    {
      "cell_type": "markdown",
      "metadata": {
        "id": "iiMS8naen0Ph"
      },
      "source": [
        "To see which polynomial degree $p$ performs best on the test set, we will plot the estimated zero-one loss of the predictor output by the `binary_classification_learner` as a function of the polynomial degree $p$.\n",
        "We also plot the estimated zero-one loss on the training set for comparison.\n",
        "\n",
        "You should see that on the training set the zero-one loss decreases as $p$ increases, since the decision boundary can better separate the two classes.\n",
        "You should also see that on the test set the zero-one loss decreases as $p$ increases up to a certain point, after which the zero-one loss increases.\n",
        "If we were trying to select the best predictor, we would select the predictor with the lowest zero-one loss on the test set, which should be at $p=4$ in the plot below."
      ]
    },
    {
      "cell_type": "code",
      "execution_count": 26,
      "metadata": {
        "cellView": "form",
        "colab": {
          "base_uri": "https://localhost:8080/",
          "height": 49,
          "referenced_widgets": [
            "0c4cd2b65bfd40108201a41e1b8bb127",
            "816b63e6b70b4285a5dc905ed30911d6",
            "4b77e35f5f8f4941a4517b8aa325ca21",
            "81006ef41dae49c08753d317aa08980a",
            "3d63b537d5e84864a2ed22386b5fb212"
          ]
        },
        "id": "Go1VUNwOn0Ph",
        "outputId": "908acb79-92cd-4357-a7b6-f034040aa784"
      },
      "outputs": [
        {
          "output_type": "display_data",
          "data": {
            "text/plain": [
              "Checkbox(value=False, description='Show Plot')"
            ],
            "application/vnd.jupyter.widget-view+json": {
              "version_major": 2,
              "version_minor": 0,
              "model_id": "0c4cd2b65bfd40108201a41e1b8bb127"
            }
          },
          "metadata": {
            "application/vnd.jupyter.widget-view+json": {
              "colab": {
                "custom_widget_manager": {
                  "url": "https://ssl.gstatic.com/colaboratory-static/widgets/colab-cdn-widget-manager/2b70e893a8ba7c0f/manager.min.js"
                }
              }
            }
          }
        },
        {
          "output_type": "display_data",
          "data": {
            "text/plain": [
              "Output()"
            ],
            "application/vnd.jupyter.widget-view+json": {
              "version_major": 2,
              "version_minor": 0,
              "model_id": "81006ef41dae49c08753d317aa08980a"
            }
          },
          "metadata": {
            "application/vnd.jupyter.widget-view+json": {
              "colab": {
                "custom_widget_manager": {
                  "url": "https://ssl.gstatic.com/colaboratory-static/widgets/colab-cdn-widget-manager/2b70e893a8ba7c0f/manager.min.js"
                }
              }
            }
          }
        }
      ],
      "source": [
        "# @title Plot\n",
        "\n",
        "# Function to show/hide the plot\n",
        "def plot_loss_vs_deg_bin(show_plot):\n",
        "    epochs = 10000\n",
        "    # Define the range of polynomial degrees\n",
        "    degrees_binary = range(1, 11)\n",
        "\n",
        "    # Initialize lists to store the loss values\n",
        "    train_zero_one_loss_values_by_degree = []\n",
        "    test_zero_one_loss_values_by_degree = []\n",
        "\n",
        "    # Train the model and compute the loss for each polynomial degree\n",
        "    for degree in degrees_binary:\n",
        "        # Transform the input features to polynomial features of the selected degree\n",
        "        X_poly_train = phi_p(X_train_norm_bin[:, 1:], degree)\n",
        "        X_poly_test = phi_p(X_test_norm_bin[:, 1:], degree)\n",
        "\n",
        "        # Normalize the polynomial features\n",
        "        X_poly_mean = X_poly_train.mean(axis=0)\n",
        "        X_poly_std = X_poly_train.std(axis=0) + 1e-8\n",
        "        X_poly_train = (X_poly_train - X_poly_mean) / X_poly_std\n",
        "        X_poly_test = (X_poly_test - X_poly_mean) / X_poly_std\n",
        "\n",
        "        # Append a column of 1s to the features for the bias term\n",
        "        X_poly_train = np.hstack([np.ones((X_poly_train.shape[0], 1)), X_poly_train])\n",
        "        X_poly_test = np.hstack([np.ones((X_poly_test.shape[0], 1)), X_poly_test])\n",
        "\n",
        "        # Train the model using polynomial features\n",
        "        predictor_poly, w_poly = binary_classification_learner(X_poly_train, Y_train_bin, step_size=0.2, epochs=epochs, random_seed=random_seed)\n",
        "\n",
        "        # Compute the train and test 0-1 loss\n",
        "        train_zero_one_loss_value = estimated_loss(predictor_poly, X_poly_train, Y_train_bin, zero_one_loss)\n",
        "        test_zero_one_loss_value = estimated_loss(predictor_poly, X_poly_test, Y_test_bin, zero_one_loss)\n",
        "\n",
        "        # Store the loss values\n",
        "        train_zero_one_loss_values_by_degree.append(train_zero_one_loss_value)\n",
        "        test_zero_one_loss_values_by_degree.append(test_zero_one_loss_value)\n",
        "\n",
        "    if show_plot:\n",
        "        plt.figure(figsize=(10, 6))\n",
        "        plt.plot(degrees_binary, train_zero_one_loss_values_by_degree, label='Train Zero-One Loss', linewidth=3)\n",
        "        plt.plot(degrees_binary, test_zero_one_loss_values_by_degree, label='Test Zero-One Loss', linewidth=3)\n",
        "        plt.xlabel('Polynomial Degree')\n",
        "        plt.legend()\n",
        "        plt.grid(True)\n",
        "        plt.show()\n",
        "    else:\n",
        "        clear_output()\n",
        "\n",
        "# Create a checkbox widget\n",
        "show_plot_checkbox_loss_vs_deg_bin = widgets.Checkbox(value=False, description='Show Plot')\n",
        "\n",
        "# Use interactive_output to link the function with the checkbox\n",
        "interactive_plot_loss_vs_deg_bin = interactive_output(plot_loss_vs_deg_bin, {'show_plot': show_plot_checkbox_loss_vs_deg_bin})\n",
        "\n",
        "# Display the checkbox and the plot\n",
        "display(show_plot_checkbox_loss_vs_deg_bin, interactive_plot_loss_vs_deg_bin)"
      ]
    },
    {
      "cell_type": "markdown",
      "metadata": {
        "id": "Ix5JmpPDn0Ph"
      },
      "source": [
        "# Part 3: Multiclass Classification\n",
        "\n",
        "In multiclass classification, the set of labels $\\mathcal{Y}$ contains more than 2 classes.\n",
        "In our particular case, the set of labels $\\mathcal{Y} = \\{0, 1, 2\\}$ represents the cultivar of the wine (Barolo, Grignolino, Barbera).\n",
        "Thus, we will be using all the labels in our dataset from now on, represented as the matrix `Y`.\n",
        "\n",
        "In this section our goal is to implement the multiclass classification learner we learned in class."
      ]
    },
    {
      "cell_type": "markdown",
      "metadata": {
        "id": "xIQNvcI3n0Pi"
      },
      "source": [
        "### Question 3.1\n",
        "\n",
        "We will first need to implement the `softmax` function, which is used as the predictor function by the softmax regression learner.\n",
        "In class we learned that the softmax function is defined as:\n",
        "$$\\sigma_y(\\mathbf{z}) = \\sigma_y(z_0, \\dots, z_{\\mathrm{K-1}}) = \\frac{e^{z_y}}{\\sum_{q=0}^{\\mathrm{K}-1} e^{z_q}}$$\n",
        "where $\\mathbf{z} \\in \\mathbb{R}^{\\mathrm{K}}$, $\\mathrm{K}$ is the number of classes and $y \\in \\cal{Y}$.\n",
        "\n",
        "If for some $y$, $z_y$ is large, then $e^{z_y}$ will be very large and can cause an overflow error.\n",
        "To avoid this, we can rewrite the softmax function as:\n",
        "$$\\sigma_y(\\mathbf{z}) = \\sigma_y(z_0, \\dots, z_{\\mathrm{K}-1}) = \\frac{e^{z_y}}{\\sum_{q=0}^{\\mathrm{K}-1} e^{z_q}} = \\frac{e^{z_y}}{\\sum_{q=0}^{\\mathrm{K}-1} e^{z_q}} \\cdot \\frac{e^{-\\max_{l} z_l}}{e^{-\\max_{l} z_l}} = \\frac{e^{z_y - \\max_{l} z_l}}{\\sum_{q=0}^{\\mathrm{K}-1} e^{z_q - \\max_{l} z_l}}.$$\n",
        "This way the exponential function will never take as input a number larger than 0, which will prevent overflow errors.\n",
        "\n",
        "For similar reasons as we have discussed in [Question 2.1](#question-2.1), it is often preferred to use vectors or matrices as input and output for the softmax function.\n",
        "In particular, we can store all $\\mathrm{K}$ different softmax outputs into a single vector and define a vector softmax function as:\n",
        "$$\\sigma(\\mathbf{z}) = (\\sigma_0(\\mathbf{z}), \\dots, \\sigma_{\\mathrm{K}-1}(\\mathbf{z}))^\\top \\in [0, 1]^{\\mathrm{K}}.$$\n",
        "We would also like to compute the softmax function for multiple data points at once.\n",
        "That means the input to the `softmax` function will be a matrix `Z` with $n$ rows and $\\mathrm{K}$ columns, where each row represents a data point and each column represents a class.\n",
        "\n",
        "In your implementation of the softmax function you should assume the input is a matrix represented as a numpy arrary.\n",
        "You should then return a matrix of the same shape where each row is the vector softmax function $\\sigma$ applied to the corresponding row of the input matrix.\n",
        "\n",
        "You may find the functions: `np.exp`, `np.sum`, and `np.max` useful for this implementation.\n",
        "\n",
        "Complete the implementation of `softmax`.\n",
        "\n",
        "_Points:_ 8"
      ]
    },
    {
      "cell_type": "code",
      "execution_count": 27,
      "metadata": {
        "id": "l24z_9Fpn0Pi"
      },
      "outputs": [],
      "source": [
        "def softmax(Z):\n",
        "    \"\"\"\n",
        "    Compute the softmax of each row of the input array.\n",
        "\n",
        "    Parameters:\n",
        "    z (numpy array): Input array of shape (n, K) where n is the number of samples and K is the number of classes.\n",
        "\n",
        "    Returns:\n",
        "    result (numpy array): Softmax probabilities of shape (n, K).\n",
        "    \"\"\"\n",
        "\n",
        "    ### YOUR CODE HERE ###\n",
        "\n",
        "    # subtracting the maximum value of each row from every element in the row (to prevent overflow)\n",
        "    Z_stable = Z - np.max(Z, axis=1, keepdims=True)\n",
        "\n",
        "    # computing the exponentials of the stabilized matrix\n",
        "    exp_Z = np.exp(Z_stable)\n",
        "\n",
        "    # computing the softmax by dividing each row's exponentials by their sum\n",
        "    result = exp_Z / np.sum(exp_Z, axis=1, keepdims=True)\n",
        "    ######################\n",
        "\n",
        "    return result"
      ]
    },
    {
      "cell_type": "code",
      "execution_count": 28,
      "metadata": {
        "colab": {
          "base_uri": "https://localhost:8080/",
          "height": 46
        },
        "id": "OEhkWx7dn0Pi",
        "outputId": "05dd6f50-acc0-478d-e46a-825b268b160e"
      },
      "outputs": [
        {
          "output_type": "execute_result",
          "data": {
            "text/plain": [
              "q3_1 results: All test cases passed!"
            ],
            "text/html": [
              "<p><strong><pre style='display: inline;'>q3_1</pre></strong> passed! 🙌</p>"
            ]
          },
          "metadata": {},
          "execution_count": 28
        }
      ],
      "source": [
        "grader.check(\"q3_1\")"
      ]
    },
    {
      "cell_type": "markdown",
      "metadata": {
        "id": "QjD7boVbn0Pi"
      },
      "source": [
        "### Question 3.2\n",
        "\n",
        "Now we are ready to implement the softmax regression learner using batch gradient descent.\n",
        "That is, you need to finish the implementation of the `bgd_softmax_regression_learner` function by adding the batch gradient descent update rule with a constant step size $\\eta^{(t)} = \\eta$.\n",
        "Recall that the update rule (for class $y \\in \\cal{Y} = \\{0, \\dots, \\mathrm{K} - 1\\}$) for batch gradient descent is:\n",
        "$$\\mathbf{w}_y^{(t+1)} = \\mathbf{w}_y^{(t)} - \\eta^{(t)} \\nabla_{\\mathbf{w}_y} \\hat L(\\mathbf{w}_0^{(t)}, \\cdots, \\mathbf{w}_{K-1}^{(t)}) \\quad \\text{where} \\quad \\nabla_{\\mathbf{w}_y} \\hat L(\\mathbf{w}_0^{(t)}, \\cdots, \\mathbf{w}_{K-1}^{(t)}) = \\left(\\frac{\\partial \\hat L}{\\partial \\mathbf{w}_{y0}}, \\dots, \\frac{\\partial \\hat L}{\\partial \\mathbf{w}_{yd}}\\right)^\\top,$$\n",
        "$$\\hat L(\\mathbf{w}_0^{(t)}, \\cdots, \\mathbf{w}_{K-1}^{(t)}) = \\frac{1}{n} \\sum_{i=1}^{n} \\ell(\\sigma(\\mathbf{x}_i^\\top \\mathbf{w}_0, \\dots, \\mathbf{x}_i^\\top \\mathbf{w}_{K-1}), y_i),$$\n",
        "and $\\ell$ is now the multiclass cross-entropy loss function:\n",
        "$$\\ell(\\hat y, y) = -\\sum_{q=0}^{\\mathrm{K}-1} \\textbf{I}_{\\{y = q\\}}(y) \\log(\\hat y_q) \\quad \\text{where} \\quad \\hat y \\in [0, 1]^{\\mathrm{K}}, y \\in \\cal{Y}.$$\n",
        "The function $\\textbf{I}_{\\{y = q\\}}(y)$ is the indicator function that is 1 if $y = q$ and 0 otherwise, and $\\hat y_q$ is the $q$-th element of the vector $\\hat y$.\n",
        "\n",
        "Notice that $\\hat y \\in [0, 1]^{\\mathrm{K}}$ is the output of the softmax function and $y \\in \\cal{Y}$ is the true label.\n",
        "Importantly, $\\cal{Y} \\neq [0, 1]^{\\mathrm{K}}$.\n",
        "In your implementation of `bgd_softmax_regression_learner` you should assume that `Y` is a vector of labels from the set $\\cal{Y}$.\n",
        "To make the gradient calculation simpler, you may find it useful to convert `Y` into a matrix with $n$ rows and $\\mathrm{K}$ columns by using the following mapping from an element $y \\in \\cal{Y}$ to an element $y' \\in [0, 1]^\\mathrm{K}$ (when $\\mathrm{K} = 3$):\n",
        "$$y' = \\begin{cases} (1, 0, 0)^\\top & \\text{if } y = 0 \\\\ (0, 1, 0)^\\top & \\text{if } y = 1 \\\\ (0, 0, 1)^\\top & \\text{if } y = 2 \\end{cases}.$$\n",
        "\n",
        "Since there are $\\mathrm{K}$ weight vectors $\\mathbf{w}_0, \\dots, \\mathbf{w}_{\\mathrm{K}-1}$, we will store them in a matrix $\\mathbf{W}$ with $d+1$ rows and $\\mathrm{K}$ columns, where each column represents the weights for a class.\n",
        "\n",
        "Complete the implementation of `bgd_softmax_regression_learner`.\n",
        "\n",
        "_Points:_ 12"
      ]
    },
    {
      "cell_type": "code",
      "execution_count": 29,
      "metadata": {
        "id": "kUs3ogA-n0Pi"
      },
      "outputs": [],
      "source": [
        "def bgd_softmax_regression_learner(X, Y, step_size=0.01, epochs=10, random_seed=42):\n",
        "    \"\"\"\n",
        "    Trains a softmax regression model using batch gradient descent.\n",
        "\n",
        "    Parameters:\n",
        "    X (numpy array): Feature matrix of size (n, d+1), where n is the number of samples\n",
        "                     and d is the number of features. The first column should be all 1s.\n",
        "    Y (numpy array): Target vector of size (n,) with class labels.\n",
        "    step_size (float): The step size for gradient descent.\n",
        "    epochs (int): The number of iterations to run gradient descent.\n",
        "    random_seed (int, optional): The seed for the random number generator.\n",
        "\n",
        "    Returns:\n",
        "    predictor (function): A function that takes a feature vector or matrix and returns predicted probabilities.\n",
        "    W (numpy array): The final weights after applying gradient descent for the specified epochs.\n",
        "    \"\"\"\n",
        "    np.random.seed(random_seed)\n",
        "    n, d = X[:, 1:].shape\n",
        "    K = len(np.unique(Y))  # Number of classes\n",
        "    W = np.random.randn(d+1, K)  # Initialize the weights randomly\n",
        "\n",
        "    ### YOUR CODE HERE ###\n",
        "\n",
        "    # convert Y to one-hot encoding (n, K)\n",
        "    Y_one_hot = np.zeros((n, K))\n",
        "    Y_one_hot[np.arange(n), Y] = 1\n",
        "\n",
        "    for epoch in range(epochs):\n",
        "        # compute predictions (n, K) using softmax\n",
        "        Y_pred = softmax(X @ W)  # (n, d) @ (d, K) = (n, K)\n",
        "\n",
        "        # compute gradient of the loss with respect to W\n",
        "        gradient = (X.T @ (Y_pred - Y_one_hot)) / n  # (d, n) @ (n, K) = (d, K)\n",
        "\n",
        "        # update weights using the gradient\n",
        "        W -= step_size * gradient\n",
        "\n",
        "    ######################\n",
        "\n",
        "    def predictor(x):\n",
        "        return softmax(x @ W)\n",
        "\n",
        "    return predictor, W"
      ]
    },
    {
      "cell_type": "code",
      "execution_count": 30,
      "metadata": {
        "colab": {
          "base_uri": "https://localhost:8080/",
          "height": 46
        },
        "id": "QCp10CGtn0Pi",
        "outputId": "e0920ea5-2c94-417d-d669-9c9a69f9a454"
      },
      "outputs": [
        {
          "output_type": "execute_result",
          "data": {
            "text/plain": [
              "q3_2 results: All test cases passed!"
            ],
            "text/html": [
              "<p><strong><pre style='display: inline;'>q3_2</pre></strong> passed! 🚀</p>"
            ]
          },
          "metadata": {},
          "execution_count": 30
        }
      ],
      "source": [
        "grader.check(\"q3_2\")"
      ]
    },
    {
      "cell_type": "markdown",
      "metadata": {
        "id": "mIcJ5Nq5n0Pi"
      },
      "source": [
        "### Question 3.3\n",
        "\n",
        "We would like to plot the estimated loss of the predictor output by the `bgd_softmax_regression_learner` as a function of the number of epochs.\n",
        "To do this we need to implement the multiclass cross-entropy loss function, which we will use in the `estimated_loss` function.\n",
        "\n",
        "As discussed in [Question 3.2](#question-3.2), the multiclass cross-entropy loss function is defined as:\n",
        "$$\\ell(\\hat y, y) = -\\sum_{q=0}^{\\mathrm{K}-1} \\textbf{I}_{\\{y = q\\}}(y) \\log(\\hat y_q) \\quad \\text{where} \\quad \\hat y \\in [0, 1]^{\\mathrm{K}}, y \\in \\cal{Y}.$$\n",
        "\n",
        "Similar to the previous question you should assume that `Y` contains labels from the set $\\cal{Y}$.\n",
        "However, since `Y_hat` contains outputs of the softmax function, the rows of `Y_hat` will be elements of the set $[0, 1]^K$.\n",
        "You may again find it useful to convert `Y` into a matrix of labels before using it in the loss calculation.\n",
        "The reason for this is that the loss function can be written as:\n",
        "$$\\ell(\\hat y, \\bar{y}) = -\\sum_{q=0}^{\\mathrm{K}-1} \\bar{y}_q \\log(\\hat y_q),$$\n",
        "if both $\\hat y$ and $\\bar{y}$ are elements of $[0, 1]^K$.\n",
        "\n",
        "Complete the implementation of `multiclass_cross_entropy_loss`.\n",
        "\n",
        "_Points:_ 8"
      ]
    },
    {
      "cell_type": "code",
      "execution_count": 31,
      "metadata": {
        "id": "_3EXEVPwn0Pi"
      },
      "outputs": [],
      "source": [
        "def multiclass_cross_entropy_loss(Y_pred, Y):\n",
        "    \"\"\"\n",
        "    Compute the cross-entropy loss for multiclass classification.\n",
        "\n",
        "    Parameters:\n",
        "    Y_pred (numpy array): Predicted probabilities of shape (n, K) where n is the number of samples and K is the number of classes.\n",
        "    Y (numpy array): True labels (0, 1, 2) of shape (n,).\n",
        "\n",
        "    Returns:\n",
        "    loss (numpy array): Cross-entropy loss of shape (n,).\n",
        "    \"\"\"\n",
        "    # Clip predictions to avoid log(0)\n",
        "    Y_pred = np.clip(Y_pred, 1e-15, 1 - 1e-15)\n",
        "\n",
        "    # ### YOUR CODE HERE ###\n",
        "\n",
        "    #convert Y to one-hot encoding\n",
        "    n, K = Y_pred.shape\n",
        "    Y_one_hot = np.zeros((n, K))\n",
        "    Y_one_hot[np.arange(n), Y] = 1\n",
        "\n",
        "    # compute the cross-entropy loss for each sample\n",
        "    loss = -np.sum(Y_one_hot * np.log(Y_pred), axis=1)\n",
        "\n",
        "    ######################\n",
        "\n",
        "    return loss"
      ]
    },
    {
      "cell_type": "code",
      "execution_count": 32,
      "metadata": {
        "colab": {
          "base_uri": "https://localhost:8080/",
          "height": 46
        },
        "id": "-XzAJZZOn0Pi",
        "outputId": "fb1465a3-acc3-45b8-cd33-bb8eeb433f2a"
      },
      "outputs": [
        {
          "output_type": "execute_result",
          "data": {
            "text/plain": [
              "q3_3 results: All test cases passed!"
            ],
            "text/html": [
              "<p><strong><pre style='display: inline;'>q3_3</pre></strong> passed! 🚀</p>"
            ]
          },
          "metadata": {},
          "execution_count": 32
        }
      ],
      "source": [
        "grader.check(\"q3_3\")"
      ]
    },
    {
      "cell_type": "markdown",
      "metadata": {
        "id": "ybVK_Mtun0Pi"
      },
      "source": [
        "### Plotting the Estimated Multiclass Cross-Entropy Loss\n",
        "\n",
        "Below is a plot of the estimated loss (using the multiclass cross-entropy loss function) for the predictor output by the `bgd_softmax_regression_learner` as a function of the number of epochs.\n",
        "\n",
        "If your implementation of `bgd_softmax_regression_learner` is correct, you should see the loss decrease as the number of epochs increases."
      ]
    },
    {
      "cell_type": "code",
      "execution_count": 33,
      "metadata": {
        "colab": {
          "base_uri": "https://localhost:8080/",
          "height": 49,
          "referenced_widgets": [
            "1d0d06365f57432fa619ac22de9371a3",
            "b120ecf6f1dd4a4096987c5bd8385a4c",
            "446fb315ee864118b8e1607426fec31b",
            "0bccb4cef20f4bac8a412cc9931c1549",
            "aa176a68dc1c4d87a0186aa7fbfcd28d"
          ]
        },
        "id": "9l3wV9LBn0Pi",
        "outputId": "61a8759c-8d31-4cef-858b-80bc81e5039a"
      },
      "outputs": [
        {
          "output_type": "display_data",
          "data": {
            "text/plain": [
              "Checkbox(value=False, description='Show Plot')"
            ],
            "application/vnd.jupyter.widget-view+json": {
              "version_major": 2,
              "version_minor": 0,
              "model_id": "1d0d06365f57432fa619ac22de9371a3"
            }
          },
          "metadata": {
            "application/vnd.jupyter.widget-view+json": {
              "colab": {
                "custom_widget_manager": {
                  "url": "https://ssl.gstatic.com/colaboratory-static/widgets/colab-cdn-widget-manager/2b70e893a8ba7c0f/manager.min.js"
                }
              }
            }
          }
        },
        {
          "output_type": "display_data",
          "data": {
            "text/plain": [
              "Output()"
            ],
            "application/vnd.jupyter.widget-view+json": {
              "version_major": 2,
              "version_minor": 0,
              "model_id": "0bccb4cef20f4bac8a412cc9931c1549"
            }
          },
          "metadata": {
            "application/vnd.jupyter.widget-view+json": {
              "colab": {
                "custom_widget_manager": {
                  "url": "https://ssl.gstatic.com/colaboratory-static/widgets/colab-cdn-widget-manager/2b70e893a8ba7c0f/manager.min.js"
                }
              }
            }
          }
        }
      ],
      "source": [
        "# @title Plot\n",
        "\n",
        "# Function to show/hide the plot\n",
        "def plot_ce_loss_multiclass(show_plot):\n",
        "    # Define the number of epochs\n",
        "    epochs = 200\n",
        "\n",
        "    # Initialize lists to store the loss values\n",
        "    cross_entropy_loss_values = []\n",
        "\n",
        "    # Train the model and compute the loss for each epoch\n",
        "    for epoch in range(1, epochs + 1):\n",
        "        predictor, W = bgd_softmax_regression_learner(X_train_norm_mul, Y_train_mul, step_size=0.1, epochs=epoch, random_seed=random_seed)\n",
        "        loss = estimated_loss(predictor, X_train_norm_mul, Y_train_mul, multiclass_cross_entropy_loss)\n",
        "        cross_entropy_loss_values.append(loss)\n",
        "\n",
        "    if show_plot:\n",
        "        # Plot the loss values\n",
        "        plt.figure(figsize=(10, 6))\n",
        "        plt.plot(range(1, epochs + 1), cross_entropy_loss_values, linewidth=3)\n",
        "        plt.xlabel('Epochs')\n",
        "        plt.ylabel('Estimated Cross-Entropy Loss')\n",
        "        plt.grid(True)\n",
        "        plt.show()\n",
        "    else:\n",
        "        clear_output()\n",
        "\n",
        "# Create a checkbox widget\n",
        "show_plot_checkbox_ce_loss_multiclass = widgets.Checkbox(value=False, description='Show Plot')\n",
        "\n",
        "# Use interactive_output to link the function with the checkbox\n",
        "interactive_plot_ce_loss_multiclass = interactive_output(plot_ce_loss_multiclass, {'show_plot': show_plot_checkbox_ce_loss_multiclass})\n",
        "\n",
        "# Display the checkbox and the plot\n",
        "display(show_plot_checkbox_ce_loss_multiclass, interactive_plot_ce_loss_multiclass)"
      ]
    },
    {
      "cell_type": "markdown",
      "metadata": {
        "id": "qETdiM0-n0Pi"
      },
      "source": [
        "### Multiclass Classification Learner\n",
        "\n",
        "Recall that our objective in multiclass classification is to predict the class of a data point as one of the three cultivars.\n",
        "So far we have implemented the softmax regression learner, which returns a predictor that outputs a proability of the data point being in each of the three classes.\n",
        "To make a prediction, we need to convert this probability to a class label.\n",
        "We can do this by selecting the class with the highest probability.\n",
        "This is implemented for you as `multiclass_classification_learner` below."
      ]
    },
    {
      "cell_type": "code",
      "execution_count": 34,
      "metadata": {
        "id": "l-qNZc_ln0Pi"
      },
      "outputs": [],
      "source": [
        "def multiclass_classification_learner(X, Y, step_size=0.01, epochs=10, random_seed=42):\n",
        "    \"\"\"\n",
        "    Trains a multiclass classification model using batch gradient descent and returns a predictor function.\n",
        "\n",
        "    Parameters:\n",
        "    X (numpy array): Feature matrix of size (n, d+1), where n is the number of samples\n",
        "                     and d is the number of features. The first column should be all 1s.\n",
        "    Y (numpy array): Target vector of size (n,) with class labels.\n",
        "    step_size (float): The step size for gradient descent.\n",
        "    epochs (int): The number of iterations to run gradient descent.\n",
        "    random_seed (int, optional): The seed for the random number generator.\n",
        "\n",
        "    Returns:\n",
        "    predictor (function): A function that takes a feature vector or matrix and returns predicted class.\n",
        "    W (numpy array): The final weights after applying gradient descent for the specified epochs.\n",
        "    \"\"\"\n",
        "    # Use the bgd_softmax_regression_learner to train the model\n",
        "    predictor, W = bgd_softmax_regression_learner(X, Y, step_size, epochs, random_seed)\n",
        "\n",
        "    # Define a new predictor function that returns the class with the highest probability\n",
        "    def multiclass_predictor(x):\n",
        "        probabilities = predictor(x)\n",
        "        return np.argmax(probabilities, axis=1)\n",
        "\n",
        "    return multiclass_predictor, W"
      ]
    },
    {
      "cell_type": "markdown",
      "metadata": {
        "id": "9xtJNlV5n0Pi"
      },
      "source": [
        "### Plotting the Estimated Zero-One Loss\n",
        "\n",
        "Similar to the binary classification problem, we would like to evaluate the performance of the multiclass classification learner using the zero-one loss function.\n",
        "\n",
        "If your implementation of `multiclass_cross_entropy_loss` is correct, you should see the zero-one loss decrease as the number of epochs increases in the plot below.\n",
        "However, it likely will not decrease as smoothly as the cross-entropy loss, since the `bgd_softmax_regression_learner` is not directly minimizing the zero-one loss."
      ]
    },
    {
      "cell_type": "code",
      "execution_count": 35,
      "metadata": {
        "cellView": "form",
        "colab": {
          "base_uri": "https://localhost:8080/",
          "height": 49,
          "referenced_widgets": [
            "89c228307e794645a42dac04785096cd",
            "a2e45582e58442ccb55e3f68311d30a8",
            "a27b40566fe34e8aa0e44740a47d013d",
            "88b23005e49f4a1484434705ee864d83",
            "af7d234d903249c59aed5545ddaa13e7"
          ]
        },
        "id": "u0Hrg6VVn0Pj",
        "outputId": "5c96f0e3-1840-486f-886c-ccbd8a7239a2"
      },
      "outputs": [
        {
          "output_type": "display_data",
          "data": {
            "text/plain": [
              "Checkbox(value=False, description='Show Plot')"
            ],
            "application/vnd.jupyter.widget-view+json": {
              "version_major": 2,
              "version_minor": 0,
              "model_id": "89c228307e794645a42dac04785096cd"
            }
          },
          "metadata": {
            "application/vnd.jupyter.widget-view+json": {
              "colab": {
                "custom_widget_manager": {
                  "url": "https://ssl.gstatic.com/colaboratory-static/widgets/colab-cdn-widget-manager/2b70e893a8ba7c0f/manager.min.js"
                }
              }
            }
          }
        },
        {
          "output_type": "display_data",
          "data": {
            "text/plain": [
              "Output()"
            ],
            "application/vnd.jupyter.widget-view+json": {
              "version_major": 2,
              "version_minor": 0,
              "model_id": "88b23005e49f4a1484434705ee864d83"
            }
          },
          "metadata": {
            "application/vnd.jupyter.widget-view+json": {
              "colab": {
                "custom_widget_manager": {
                  "url": "https://ssl.gstatic.com/colaboratory-static/widgets/colab-cdn-widget-manager/2b70e893a8ba7c0f/manager.min.js"
                }
              }
            }
          }
        }
      ],
      "source": [
        "# @title Plot\n",
        "\n",
        "# Function to show/hide the plot\n",
        "def plot_ce_zo_loss_multi(show_plot):\n",
        "    # Define the number of epochs\n",
        "    epochs = 200\n",
        "\n",
        "    # Initialize lists to store the loss values\n",
        "    cross_entropy_loss_values = []\n",
        "    zero_one_loss_values = []\n",
        "\n",
        "    # Train the model and compute the loss for each epoch\n",
        "    for epoch in range(1, epochs + 1):\n",
        "        predictor, W = bgd_softmax_regression_learner(X_train_norm_mul, Y_train_mul, step_size=0.1, epochs=epoch, random_seed=random_seed)\n",
        "        loss = estimated_loss(predictor, X_train_norm_mul, Y_train_mul, multiclass_cross_entropy_loss)\n",
        "        cross_entropy_loss_values.append(loss)\n",
        "\n",
        "        # Compute 0-1 loss\n",
        "        predictor_class, W = multiclass_classification_learner(X_train_norm_mul, Y_train_mul, step_size=0.1, epochs=epoch, random_seed=random_seed)\n",
        "        zero_one_loss_value = estimated_loss(predictor_class, X_train_norm_mul, Y_train_mul, zero_one_loss)\n",
        "        zero_one_loss_values.append(zero_one_loss_value)\n",
        "\n",
        "    if show_plot:\n",
        "        # Plot the loss values\n",
        "        plt.figure(figsize=(10, 6))\n",
        "        plt.plot(range(1, epochs + 1), cross_entropy_loss_values, label='Cross-Entropy Loss', linewidth=3)\n",
        "        plt.plot(range(1, epochs + 1), zero_one_loss_values, label='Zero-One Loss', linewidth=3)\n",
        "        plt.xlabel('Epochs')\n",
        "        plt.ylabel('Estimated Loss')\n",
        "        plt.legend()\n",
        "        plt.grid(True)\n",
        "        plt.show()\n",
        "    else:\n",
        "        clear_output()\n",
        "\n",
        "# Create a checkbox widget\n",
        "show_plot_checkbox_ce_zo_loss_multi = widgets.Checkbox(value=False, description='Show Plot')\n",
        "\n",
        "# Use interactive_output to link the function with the checkbox\n",
        "interactive_plot_ce_zo_loss_multi = interactive_output(plot_ce_zo_loss_multi, {'show_plot': show_plot_checkbox_ce_zo_loss_multi})\n",
        "\n",
        "# Display the checkbox and the plot\n",
        "display(show_plot_checkbox_ce_zo_loss_multi, interactive_plot_ce_zo_loss_multi)"
      ]
    },
    {
      "cell_type": "markdown",
      "metadata": {
        "id": "8ZdBFjKpn0Pj"
      },
      "source": [
        "### Plotting a Linear Decision Boundary\n",
        "\n",
        "The multiclass classification predictor outputs the class with the highest probability.\n",
        "Since the probability of a class $y \\in \\cal{Y}$ is given by $\\sigma_y(\\mathbf{x}^\\top \\mathbf{w}_y)$, it implies that the class with the highest probability is the class with the highest value of $\\mathbf{x}^\\top \\mathbf{w}_y$.\n",
        "If we have two different classes $y, y' \\in \\cal{Y}$, the decision boundary between these two classes is given by the line $\\mathbf{x}^\\top (\\mathbf{w}_y - \\mathbf{w}_{y'}) = 0$.\n",
        "This line represents when the predicted probability of class $y$ is equal to the predicted probability of class $y'$.\n",
        "Thus, anything to one side of the line will be predicted as class $y$ and anything to the other side will be predicted as class $y'$.\n",
        "\n",
        "Below we plot this decision boundary for all possible pairs of classes."
      ]
    },
    {
      "cell_type": "code",
      "execution_count": 36,
      "metadata": {
        "cellView": "form",
        "colab": {
          "base_uri": "https://localhost:8080/",
          "height": 49,
          "referenced_widgets": [
            "531fa01b4b3446b080041c4ec25aeaab",
            "551a12c4ce3f41debc19b4e63429e469",
            "bc7d9f4c4f5d4cc8acc9658babf9f8d2",
            "49bd8cbd6b094165a9473447b2a36527",
            "a756ba432e8c4539a3d33c774221c7eb"
          ]
        },
        "id": "Wc1OM_cCn0Pj",
        "outputId": "1b95e875-4d45-4922-cc37-dff61a70f275"
      },
      "outputs": [
        {
          "output_type": "display_data",
          "data": {
            "text/plain": [
              "Checkbox(value=False, description='Show Plot')"
            ],
            "application/vnd.jupyter.widget-view+json": {
              "version_major": 2,
              "version_minor": 0,
              "model_id": "531fa01b4b3446b080041c4ec25aeaab"
            }
          },
          "metadata": {
            "application/vnd.jupyter.widget-view+json": {
              "colab": {
                "custom_widget_manager": {
                  "url": "https://ssl.gstatic.com/colaboratory-static/widgets/colab-cdn-widget-manager/2b70e893a8ba7c0f/manager.min.js"
                }
              }
            }
          }
        },
        {
          "output_type": "display_data",
          "data": {
            "text/plain": [
              "Output()"
            ],
            "application/vnd.jupyter.widget-view+json": {
              "version_major": 2,
              "version_minor": 0,
              "model_id": "49bd8cbd6b094165a9473447b2a36527"
            }
          },
          "metadata": {
            "application/vnd.jupyter.widget-view+json": {
              "colab": {
                "custom_widget_manager": {
                  "url": "https://ssl.gstatic.com/colaboratory-static/widgets/colab-cdn-widget-manager/2b70e893a8ba7c0f/manager.min.js"
                }
              }
            }
          }
        }
      ],
      "source": [
        "# @title Plot\n",
        "\n",
        "# Function to show/hide the plot\n",
        "def plot_db_multi(show_plot):\n",
        "    # Function to plot the multiclass decision boundary\n",
        "    def plot_multiclass_decision_boundary(X, Y, f, title, ax):\n",
        "        # Create a mesh grid\n",
        "        x_min, x_max = -2.8, 2.8  # Hardcoded x-limits\n",
        "        y_min, y_max = -2.2, 3.8  # Hardcoded y-limits\n",
        "        xx, yy = np.meshgrid(np.arange(x_min, x_max, 0.01),\n",
        "                            np.arange(y_min, y_max, 0.01))\n",
        "\n",
        "        # Compute the decision boundary\n",
        "        Z = f(np.c_[np.ones((xx.ravel().shape[0], 1)), xx.ravel(), yy.ravel()])\n",
        "        Z = Z.reshape(xx.shape)\n",
        "\n",
        "        # Plot the decision boundary\n",
        "        ax.contourf(xx, yy, Z, alpha=0.8, levels=[-1, 0, 1, 2], colors=['#FFAAAA', '#AAAAFF', '#AAFFAA'])\n",
        "        ax.scatter(X[Y == 0][:, 1], X[Y == 0][:, 2], color='red', label='Barolo', s=50)\n",
        "        ax.scatter(X[Y == 1][:, 1], X[Y == 1][:, 2], color='blue', label='Grignolino', s=50)\n",
        "        ax.scatter(X[Y == 2][:, 1], X[Y == 2][:, 2], color='green', label='Barbera', s=50)\n",
        "        ax.set_xlabel('Alcohol (normalized)')\n",
        "        ax.set_ylabel('Malic Acid (normalized)')\n",
        "        ax.set_title(title)\n",
        "\n",
        "        # Hardcoded limits to ensure consistency across both plots\n",
        "        ax.set_xlim(x_min, x_max)\n",
        "        ax.set_ylim(y_min, y_max)\n",
        "        ax.legend()\n",
        "\n",
        "    epochs = 10000\n",
        "\n",
        "    if show_plot:\n",
        "        fig, axes = plt.subplots(1, 2, figsize=(15, 6))\n",
        "\n",
        "        predictor, W = multiclass_classification_learner(X_train_norm_mul, Y_train_mul, step_size=0.1, epochs=epochs, random_seed=random_seed)\n",
        "        # Plot the decision boundary on the training set\n",
        "        plot_multiclass_decision_boundary(X_train_norm_mul, Y_train_mul, predictor, 'Training Set', axes[0])\n",
        "\n",
        "        # Plot the decision boundary on the test set\n",
        "        plot_multiclass_decision_boundary(X_test_norm_mul, Y_test_mul, predictor, 'Test Set', axes[1])\n",
        "\n",
        "        plt.show()\n",
        "    else:\n",
        "        clear_output()\n",
        "\n",
        "# Create a checkbox widget\n",
        "show_plot_checkbox_db_multi = widgets.Checkbox(value=False, description='Show Plot')\n",
        "\n",
        "# Use interactive_output to link the function with the checkbox\n",
        "interactive_plot_db_multi = interactive_output(plot_db_multi, {'show_plot': show_plot_checkbox_db_multi})\n",
        "\n",
        "# Display the checkbox and the plot\n",
        "display(show_plot_checkbox_db_multi, interactive_plot_db_multi)"
      ]
    },
    {
      "cell_type": "markdown",
      "metadata": {
        "id": "q8D0upY6n0Pj"
      },
      "source": [
        "### Plotting Polynomial Decision Boundaries\n",
        "\n",
        "Similar to the binary classification problem, we can use polynomial features to allow for more complex decision boundaries in the multiclass classification problem.\n",
        "Below is a plot of the decision boundary for different polynomial degrees $p$.\n",
        "You should see that as $p$ increases the decision boundary becomes more complex and can better separate the three classes in the training set.\n",
        "However, if $p$ is too large, then the decision boundary may become too complex and overfit the training data, leading to poor performance on the test set."
      ]
    },
    {
      "cell_type": "code",
      "execution_count": 37,
      "metadata": {
        "cellView": "form",
        "colab": {
          "base_uri": "https://localhost:8080/",
          "height": 79,
          "referenced_widgets": [
            "821594b181b64d36becdd6db358b2ede",
            "931e0e7d3c094e0fbfda699063d9c842",
            "81ae0c0a34554e4192e35746cc48414c",
            "87ffbec6f7b14e77a95c8e81058bae9b",
            "6118e112034340b7a5a6d986d9664726",
            "c76c92c961c0423b860a11e5e37706a2",
            "0b6070d234094524b1c13b6605cc2c14",
            "b8ee32877f6a41ccb4508f3faa348b1d"
          ]
        },
        "id": "nh54zvsOn0Pj",
        "outputId": "17443bfc-b937-4ca2-957a-a892f537d480"
      },
      "outputs": [
        {
          "output_type": "display_data",
          "data": {
            "text/plain": [
              "Checkbox(value=False, description='Show Plot')"
            ],
            "application/vnd.jupyter.widget-view+json": {
              "version_major": 2,
              "version_minor": 0,
              "model_id": "821594b181b64d36becdd6db358b2ede"
            }
          },
          "metadata": {
            "application/vnd.jupyter.widget-view+json": {
              "colab": {
                "custom_widget_manager": {
                  "url": "https://ssl.gstatic.com/colaboratory-static/widgets/colab-cdn-widget-manager/2b70e893a8ba7c0f/manager.min.js"
                }
              }
            }
          }
        },
        {
          "output_type": "display_data",
          "data": {
            "text/plain": [
              "IntSlider(value=1, description='Degree', max=10, min=1, step=0)"
            ],
            "application/vnd.jupyter.widget-view+json": {
              "version_major": 2,
              "version_minor": 0,
              "model_id": "87ffbec6f7b14e77a95c8e81058bae9b"
            }
          },
          "metadata": {
            "application/vnd.jupyter.widget-view+json": {
              "colab": {
                "custom_widget_manager": {
                  "url": "https://ssl.gstatic.com/colaboratory-static/widgets/colab-cdn-widget-manager/2b70e893a8ba7c0f/manager.min.js"
                }
              }
            }
          }
        },
        {
          "output_type": "display_data",
          "data": {
            "text/plain": [
              "Output()"
            ],
            "application/vnd.jupyter.widget-view+json": {
              "version_major": 2,
              "version_minor": 0,
              "model_id": "0b6070d234094524b1c13b6605cc2c14"
            }
          },
          "metadata": {
            "application/vnd.jupyter.widget-view+json": {
              "colab": {
                "custom_widget_manager": {
                  "url": "https://ssl.gstatic.com/colaboratory-static/widgets/colab-cdn-widget-manager/2b70e893a8ba7c0f/manager.min.js"
                }
              }
            }
          }
        }
      ],
      "source": [
        "# @title Plot\n",
        "\n",
        "# Function to show/hide the plots and update the polynomial degree\n",
        "def plot_db_multi_poly(show_plot, degree):\n",
        "    # Define the decision boundary function for polynomial features\n",
        "    def plot_multiclass_decision_boundary_poly(X, Y, f, degree, title, X_poly_mean=None, X_poly_std=None, ax=None):\n",
        "        # Create a mesh grid\n",
        "        x_min, x_max = -2.8, 2.8  # Hardcoded x-limits\n",
        "        y_min, y_max = -2.2, 3.8  # Hardcoded y-limits\n",
        "        xx, yy = np.meshgrid(np.arange(x_min, x_max, 0.01),\n",
        "                            np.arange(y_min, y_max, 0.01))\n",
        "\n",
        "        # Transform the mesh grid to polynomial features\n",
        "        poly_features = phi_p(np.c_[xx.ravel(), yy.ravel()], degree)\n",
        "\n",
        "        # Normalize the polynomial features using the same mean and std as the training set\n",
        "        poly_features = (poly_features - X_poly_mean) / X_poly_std\n",
        "\n",
        "        # Append a column of 1s to the features for the bias term\n",
        "        poly_features = np.hstack([np.ones((poly_features.shape[0], 1)), poly_features])\n",
        "\n",
        "        # Compute the decision boundary\n",
        "        # Z = poly_features.dot(W)\n",
        "        # Z = np.argmax(Z, axis=1)\n",
        "        Z = f(poly_features)\n",
        "        Z = Z.reshape(xx.shape)\n",
        "\n",
        "        # Plot the decision boundary\n",
        "        ax.contourf(xx, yy, Z, alpha=0.8, levels=[-1, 0, 1, 2], colors=['#FFAAAA', '#AAAAFF', '#AAFFAA'])\n",
        "        ax.scatter(X[Y == 0][:, 1], X[Y == 0][:, 2], color='red', label='Barolo', s=50)\n",
        "        ax.scatter(X[Y == 1][:, 1], X[Y == 1][:, 2], color='blue', label='Grignolino', s=50)\n",
        "        ax.scatter(X[Y == 2][:, 1], X[Y == 2][:, 2], color='green', label='Barbera', s=50)\n",
        "        ax.set_xlabel('Alcohol (normalized)')\n",
        "        ax.set_ylabel('Malic Acid (normalized)')\n",
        "        ax.set_ylim(y_min, y_max)\n",
        "        ax.set_xlim(x_min, x_max)\n",
        "        ax.set_title(title)\n",
        "        ax.legend()\n",
        "\n",
        "    epochs = 10000\n",
        "\n",
        "    if show_plot:\n",
        "        # Transform the input features to polynomial features of the selected degree\n",
        "        X_poly_train = phi_p(X_train_norm_mul[:, 1:], degree)\n",
        "        X_poly_test = phi_p(X_test_norm_mul[:, 1:], degree)\n",
        "\n",
        "        # Normalize the polynomial features\n",
        "        X_poly_mean = X_poly_train.mean(axis=0)\n",
        "        X_poly_std = X_poly_train.std(axis=0) + 1e-8\n",
        "        X_poly_train = (X_poly_train - X_poly_mean) / X_poly_std\n",
        "        X_poly_test = (X_poly_test - X_poly_mean) / X_poly_std\n",
        "\n",
        "        # Append a column of 1s to the features for the bias term\n",
        "        X_poly_train = np.hstack([np.ones((X_poly_train.shape[0], 1)), X_poly_train])\n",
        "        X_poly_test = np.hstack([np.ones((X_poly_test.shape[0], 1)), X_poly_test])\n",
        "\n",
        "        # Train the model using polynomial features\n",
        "        predictor_poly, w_poly = multiclass_classification_learner(X_poly_train, Y_train_mul, step_size=0.1, epochs=epochs, random_seed=random_seed)\n",
        "\n",
        "        fig, axes = plt.subplots(1, 2, figsize=(15, 6))\n",
        "\n",
        "        # Plot the decision boundary on the training set\n",
        "        plot_multiclass_decision_boundary_poly(X_poly_train, Y_train_mul, predictor_poly, degree, f'Training Set (Polynomial Degree {degree})', X_poly_mean, X_poly_std, axes[0])\n",
        "\n",
        "        # Plot the decision boundary on the test set\n",
        "        plot_multiclass_decision_boundary_poly(X_poly_test, Y_test_mul, predictor_poly, degree, f'Test Set (Polynomial Degree {degree})', X_poly_mean, X_poly_std, axes[1])\n",
        "\n",
        "        plt.show()\n",
        "    else:\n",
        "        clear_output()\n",
        "\n",
        "# Create a checkbox widget\n",
        "show_plot_checkbox_db_multi_poly = widgets.Checkbox(value=False, description='Show Plot')\n",
        "\n",
        "# Create a slider widget for selecting the polynomial degree\n",
        "degree_slider_db_multi_poly = widgets.IntSlider(value=1, min=1, max=10, step=0.5, description='Degree')\n",
        "\n",
        "# Use interactive_output to link the function with the checkbox and slider\n",
        "interactive_plot_db_multi_poly = interactive_output(plot_db_multi_poly, {'show_plot': show_plot_checkbox_db_multi_poly, 'degree': degree_slider_db_multi_poly})\n",
        "\n",
        "# Display the checkbox, slider, and the plot\n",
        "display(show_plot_checkbox_db_multi_poly, degree_slider_db_multi_poly, interactive_plot_db_multi_poly)"
      ]
    },
    {
      "cell_type": "markdown",
      "metadata": {
        "id": "g88kU2VGn0Pj"
      },
      "source": [
        "To select the best predictor we should plot the estimated zero-one loss on the test set as a function of the polynomial degree $p$.\n",
        "The value of $p$ with the lowest zero-one loss on the test set is the best predictor.\n",
        "\n",
        "In the plot below you should see that values of $p=7, 8$ have the lowest estimated zero-one loss on the test set."
      ]
    },
    {
      "cell_type": "code",
      "execution_count": 38,
      "metadata": {
        "cellView": "form",
        "colab": {
          "base_uri": "https://localhost:8080/",
          "height": 49,
          "referenced_widgets": [
            "2ccd0fedc8a24eceafe9464c5c3272e5",
            "67a26edbd68f4414ba58caa6063e0dd3",
            "3dfb5285079e45568e95b7a3f9f38758",
            "dd8613751e824e2c9585da77da7c9f69",
            "e25fa7f8feda4f409db8184212d642d8"
          ]
        },
        "id": "q5u29twnn0Pj",
        "outputId": "e3e340ca-27d6-4ee7-af3e-662a4e3cda83"
      },
      "outputs": [
        {
          "output_type": "display_data",
          "data": {
            "text/plain": [
              "Checkbox(value=False, description='Show Plot')"
            ],
            "application/vnd.jupyter.widget-view+json": {
              "version_major": 2,
              "version_minor": 0,
              "model_id": "2ccd0fedc8a24eceafe9464c5c3272e5"
            }
          },
          "metadata": {
            "application/vnd.jupyter.widget-view+json": {
              "colab": {
                "custom_widget_manager": {
                  "url": "https://ssl.gstatic.com/colaboratory-static/widgets/colab-cdn-widget-manager/2b70e893a8ba7c0f/manager.min.js"
                }
              }
            }
          }
        },
        {
          "output_type": "display_data",
          "data": {
            "text/plain": [
              "Output()"
            ],
            "application/vnd.jupyter.widget-view+json": {
              "version_major": 2,
              "version_minor": 0,
              "model_id": "dd8613751e824e2c9585da77da7c9f69"
            }
          },
          "metadata": {
            "application/vnd.jupyter.widget-view+json": {
              "colab": {
                "custom_widget_manager": {
                  "url": "https://ssl.gstatic.com/colaboratory-static/widgets/colab-cdn-widget-manager/2b70e893a8ba7c0f/manager.min.js"
                }
              }
            }
          }
        }
      ],
      "source": [
        "# @title Plot\n",
        "\n",
        "# Function to show/hide the plot\n",
        "def plot_loss_vs_deg_multi(show_plot):\n",
        "    epochs = 10000\n",
        "    # Define the range of polynomial degrees\n",
        "    degrees = range(1, 11)\n",
        "\n",
        "    # Initialize lists to store the loss values\n",
        "    train_zero_one_loss_values_by_degree = []\n",
        "    test_zero_one_loss_values_by_degree = []\n",
        "\n",
        "    # Train the model and compute the loss for each polynomial degree\n",
        "    for degree in degrees:\n",
        "        # Transform the input features to polynomial features of the selected degree\n",
        "        X_poly_train = phi_p(X_train_norm_mul[:, 1:], degree)\n",
        "        X_poly_test = phi_p(X_test_norm_mul[:, 1:], degree)\n",
        "\n",
        "        # Normalize the polynomial features\n",
        "        X_poly_mean = X_poly_train.mean(axis=0)\n",
        "        X_poly_std = X_poly_train.std(axis=0) + 1e-8\n",
        "        X_poly_train = (X_poly_train - X_poly_mean) / X_poly_std\n",
        "        X_poly_test = (X_poly_test - X_poly_mean) / X_poly_std\n",
        "\n",
        "        # Append a column of 1s to the features for the bias term\n",
        "        X_poly_train = np.hstack([np.ones((X_poly_train.shape[0], 1)), X_poly_train])\n",
        "        X_poly_test = np.hstack([np.ones((X_poly_test.shape[0], 1)), X_poly_test])\n",
        "\n",
        "        # Train the model using polynomial features\n",
        "        predictor_poly, w_poly = multiclass_classification_learner(X_poly_train, Y_train_mul, step_size=0.1, epochs=epochs, random_seed=random_seed)\n",
        "\n",
        "        # Compute the train and test 0-1 loss\n",
        "        train_zero_one_loss_value = estimated_loss(predictor_poly, X_poly_train, Y_train_mul, zero_one_loss)\n",
        "        test_zero_one_loss_value = estimated_loss(predictor_poly, X_poly_test, Y_test_mul, zero_one_loss)\n",
        "\n",
        "        # Store the loss values\n",
        "        train_zero_one_loss_values_by_degree.append(train_zero_one_loss_value)\n",
        "        test_zero_one_loss_values_by_degree.append(test_zero_one_loss_value)\n",
        "\n",
        "    if show_plot:\n",
        "        plt.figure(figsize=(10, 6))\n",
        "        plt.plot(degrees, train_zero_one_loss_values_by_degree, label='Train Zero-One Loss', linewidth=3)\n",
        "        plt.plot(degrees, test_zero_one_loss_values_by_degree, label='Test Zero-One Loss', linewidth=3)\n",
        "        plt.xlabel('Polynomial Degree')\n",
        "        plt.legend()\n",
        "        plt.grid(True)\n",
        "        plt.show()\n",
        "    else:\n",
        "        clear_output()\n",
        "\n",
        "# Create a checkbox widget\n",
        "show_plot_checkbox_loss_vs_deg_multi = widgets.Checkbox(value=False, description='Show Plot')\n",
        "\n",
        "# Use interactive_output to link the function with the checkbox\n",
        "interactive_plot_loss_vs_deg_multi = interactive_output(plot_loss_vs_deg_multi, {'show_plot': show_plot_checkbox_loss_vs_deg_multi})\n",
        "\n",
        "# Display the checkbox and the plot\n",
        "display(show_plot_checkbox_loss_vs_deg_multi, interactive_plot_loss_vs_deg_multi)"
      ]
    },
    {
      "cell_type": "markdown",
      "metadata": {
        "id": "jU98ZL_sn0Pj"
      },
      "source": [
        "# The End :)"
      ]
    },
    {
      "cell_type": "markdown",
      "metadata": {
        "id": "pVyw1kbZn0Pj"
      },
      "source": [
        "---\n",
        "\n",
        "To double-check your work, the cell below will rerun all of the autograder tests."
      ]
    },
    {
      "cell_type": "code",
      "execution_count": 39,
      "metadata": {
        "colab": {
          "base_uri": "https://localhost:8080/"
        },
        "id": "gbXEFUIEn0Pj",
        "outputId": "e3126da0-8ad9-47ac-cf9f-23c1a7865bdb"
      },
      "outputs": [
        {
          "output_type": "execute_result",
          "data": {
            "text/plain": [
              "q2_1 results: All test cases passed!\n",
              "\n",
              "q2_2 results: All test cases passed!\n",
              "\n",
              "q2_3 results: All test cases passed!\n",
              "\n",
              "q2_4 results: All test cases passed!\n",
              "\n",
              "q2_5 results: All test cases passed!\n",
              "\n",
              "q3_1 results: All test cases passed!\n",
              "\n",
              "q3_2 results: All test cases passed!\n",
              "\n",
              "q3_3 results: All test cases passed!"
            ]
          },
          "metadata": {},
          "execution_count": 39
        }
      ],
      "source": [
        "grader.check_all()"
      ]
    }
  ],
  "metadata": {
    "colab": {
      "provenance": [],
      "include_colab_link": true
    },
    "kernelspec": {
      "display_name": "ml1",
      "language": "python",
      "name": "python3"
    },
    "language_info": {
      "codemirror_mode": {
        "name": "ipython",
        "version": 3
      },
      "file_extension": ".py",
      "mimetype": "text/x-python",
      "name": "python",
      "nbconvert_exporter": "python",
      "pygments_lexer": "ipython3",
      "version": "3.12.7"
    },
    "widgets": {
      "application/vnd.jupyter.widget-state+json": {
        "b1bf2b68c7d441f387fb0fb561f0fb75": {
          "model_module": "@jupyter-widgets/controls",
          "model_name": "CheckboxModel",
          "model_module_version": "1.5.0",
          "state": {
            "_dom_classes": [],
            "_model_module": "@jupyter-widgets/controls",
            "_model_module_version": "1.5.0",
            "_model_name": "CheckboxModel",
            "_view_count": null,
            "_view_module": "@jupyter-widgets/controls",
            "_view_module_version": "1.5.0",
            "_view_name": "CheckboxView",
            "description": "Show Plot",
            "description_tooltip": null,
            "disabled": false,
            "indent": true,
            "layout": "IPY_MODEL_9c00386046a14e89953b871121c5152d",
            "style": "IPY_MODEL_82e6787b89da432f877e62e76a735d77",
            "value": false
          }
        },
        "9c00386046a14e89953b871121c5152d": {
          "model_module": "@jupyter-widgets/base",
          "model_name": "LayoutModel",
          "model_module_version": "1.2.0",
          "state": {
            "_model_module": "@jupyter-widgets/base",
            "_model_module_version": "1.2.0",
            "_model_name": "LayoutModel",
            "_view_count": null,
            "_view_module": "@jupyter-widgets/base",
            "_view_module_version": "1.2.0",
            "_view_name": "LayoutView",
            "align_content": null,
            "align_items": null,
            "align_self": null,
            "border": null,
            "bottom": null,
            "display": null,
            "flex": null,
            "flex_flow": null,
            "grid_area": null,
            "grid_auto_columns": null,
            "grid_auto_flow": null,
            "grid_auto_rows": null,
            "grid_column": null,
            "grid_gap": null,
            "grid_row": null,
            "grid_template_areas": null,
            "grid_template_columns": null,
            "grid_template_rows": null,
            "height": null,
            "justify_content": null,
            "justify_items": null,
            "left": null,
            "margin": null,
            "max_height": null,
            "max_width": null,
            "min_height": null,
            "min_width": null,
            "object_fit": null,
            "object_position": null,
            "order": null,
            "overflow": null,
            "overflow_x": null,
            "overflow_y": null,
            "padding": null,
            "right": null,
            "top": null,
            "visibility": null,
            "width": null
          }
        },
        "82e6787b89da432f877e62e76a735d77": {
          "model_module": "@jupyter-widgets/controls",
          "model_name": "DescriptionStyleModel",
          "model_module_version": "1.5.0",
          "state": {
            "_model_module": "@jupyter-widgets/controls",
            "_model_module_version": "1.5.0",
            "_model_name": "DescriptionStyleModel",
            "_view_count": null,
            "_view_module": "@jupyter-widgets/base",
            "_view_module_version": "1.2.0",
            "_view_name": "StyleView",
            "description_width": ""
          }
        },
        "37e7347272fd41fe86e026ab3f06b2ac": {
          "model_module": "@jupyter-widgets/output",
          "model_name": "OutputModel",
          "model_module_version": "1.0.0",
          "state": {
            "_dom_classes": [],
            "_model_module": "@jupyter-widgets/output",
            "_model_module_version": "1.0.0",
            "_model_name": "OutputModel",
            "_view_count": null,
            "_view_module": "@jupyter-widgets/output",
            "_view_module_version": "1.0.0",
            "_view_name": "OutputView",
            "layout": "IPY_MODEL_ff682e031a564af4bdfaf321d0ea9833",
            "msg_id": "",
            "outputs": []
          }
        },
        "ff682e031a564af4bdfaf321d0ea9833": {
          "model_module": "@jupyter-widgets/base",
          "model_name": "LayoutModel",
          "model_module_version": "1.2.0",
          "state": {
            "_model_module": "@jupyter-widgets/base",
            "_model_module_version": "1.2.0",
            "_model_name": "LayoutModel",
            "_view_count": null,
            "_view_module": "@jupyter-widgets/base",
            "_view_module_version": "1.2.0",
            "_view_name": "LayoutView",
            "align_content": null,
            "align_items": null,
            "align_self": null,
            "border": null,
            "bottom": null,
            "display": null,
            "flex": null,
            "flex_flow": null,
            "grid_area": null,
            "grid_auto_columns": null,
            "grid_auto_flow": null,
            "grid_auto_rows": null,
            "grid_column": null,
            "grid_gap": null,
            "grid_row": null,
            "grid_template_areas": null,
            "grid_template_columns": null,
            "grid_template_rows": null,
            "height": null,
            "justify_content": null,
            "justify_items": null,
            "left": null,
            "margin": null,
            "max_height": null,
            "max_width": null,
            "min_height": null,
            "min_width": null,
            "object_fit": null,
            "object_position": null,
            "order": null,
            "overflow": null,
            "overflow_x": null,
            "overflow_y": null,
            "padding": null,
            "right": null,
            "top": null,
            "visibility": null,
            "width": null
          }
        },
        "be18cbe78a2f4340b5f34d7a8e14a679": {
          "model_module": "@jupyter-widgets/controls",
          "model_name": "CheckboxModel",
          "model_module_version": "1.5.0",
          "state": {
            "_dom_classes": [],
            "_model_module": "@jupyter-widgets/controls",
            "_model_module_version": "1.5.0",
            "_model_name": "CheckboxModel",
            "_view_count": null,
            "_view_module": "@jupyter-widgets/controls",
            "_view_module_version": "1.5.0",
            "_view_name": "CheckboxView",
            "description": "Show Plot",
            "description_tooltip": null,
            "disabled": false,
            "indent": true,
            "layout": "IPY_MODEL_c4ead5e4661d43db84dbcb6f79a55edf",
            "style": "IPY_MODEL_03d2f2b8d1df4bd2ab3ad957dd9bc5c4",
            "value": false
          }
        },
        "c4ead5e4661d43db84dbcb6f79a55edf": {
          "model_module": "@jupyter-widgets/base",
          "model_name": "LayoutModel",
          "model_module_version": "1.2.0",
          "state": {
            "_model_module": "@jupyter-widgets/base",
            "_model_module_version": "1.2.0",
            "_model_name": "LayoutModel",
            "_view_count": null,
            "_view_module": "@jupyter-widgets/base",
            "_view_module_version": "1.2.0",
            "_view_name": "LayoutView",
            "align_content": null,
            "align_items": null,
            "align_self": null,
            "border": null,
            "bottom": null,
            "display": null,
            "flex": null,
            "flex_flow": null,
            "grid_area": null,
            "grid_auto_columns": null,
            "grid_auto_flow": null,
            "grid_auto_rows": null,
            "grid_column": null,
            "grid_gap": null,
            "grid_row": null,
            "grid_template_areas": null,
            "grid_template_columns": null,
            "grid_template_rows": null,
            "height": null,
            "justify_content": null,
            "justify_items": null,
            "left": null,
            "margin": null,
            "max_height": null,
            "max_width": null,
            "min_height": null,
            "min_width": null,
            "object_fit": null,
            "object_position": null,
            "order": null,
            "overflow": null,
            "overflow_x": null,
            "overflow_y": null,
            "padding": null,
            "right": null,
            "top": null,
            "visibility": null,
            "width": null
          }
        },
        "03d2f2b8d1df4bd2ab3ad957dd9bc5c4": {
          "model_module": "@jupyter-widgets/controls",
          "model_name": "DescriptionStyleModel",
          "model_module_version": "1.5.0",
          "state": {
            "_model_module": "@jupyter-widgets/controls",
            "_model_module_version": "1.5.0",
            "_model_name": "DescriptionStyleModel",
            "_view_count": null,
            "_view_module": "@jupyter-widgets/base",
            "_view_module_version": "1.2.0",
            "_view_name": "StyleView",
            "description_width": ""
          }
        },
        "e3f4a56cb0184eaf8264c820ee9eccc3": {
          "model_module": "@jupyter-widgets/output",
          "model_name": "OutputModel",
          "model_module_version": "1.0.0",
          "state": {
            "_dom_classes": [],
            "_model_module": "@jupyter-widgets/output",
            "_model_module_version": "1.0.0",
            "_model_name": "OutputModel",
            "_view_count": null,
            "_view_module": "@jupyter-widgets/output",
            "_view_module_version": "1.0.0",
            "_view_name": "OutputView",
            "layout": "IPY_MODEL_0c95855a2c9f4faa9701a20826c4bda2",
            "msg_id": "",
            "outputs": []
          }
        },
        "0c95855a2c9f4faa9701a20826c4bda2": {
          "model_module": "@jupyter-widgets/base",
          "model_name": "LayoutModel",
          "model_module_version": "1.2.0",
          "state": {
            "_model_module": "@jupyter-widgets/base",
            "_model_module_version": "1.2.0",
            "_model_name": "LayoutModel",
            "_view_count": null,
            "_view_module": "@jupyter-widgets/base",
            "_view_module_version": "1.2.0",
            "_view_name": "LayoutView",
            "align_content": null,
            "align_items": null,
            "align_self": null,
            "border": null,
            "bottom": null,
            "display": null,
            "flex": null,
            "flex_flow": null,
            "grid_area": null,
            "grid_auto_columns": null,
            "grid_auto_flow": null,
            "grid_auto_rows": null,
            "grid_column": null,
            "grid_gap": null,
            "grid_row": null,
            "grid_template_areas": null,
            "grid_template_columns": null,
            "grid_template_rows": null,
            "height": null,
            "justify_content": null,
            "justify_items": null,
            "left": null,
            "margin": null,
            "max_height": null,
            "max_width": null,
            "min_height": null,
            "min_width": null,
            "object_fit": null,
            "object_position": null,
            "order": null,
            "overflow": null,
            "overflow_x": null,
            "overflow_y": null,
            "padding": null,
            "right": null,
            "top": null,
            "visibility": null,
            "width": null
          }
        },
        "dd341922e5f44447bac2c0376fef546b": {
          "model_module": "@jupyter-widgets/controls",
          "model_name": "CheckboxModel",
          "model_module_version": "1.5.0",
          "state": {
            "_dom_classes": [],
            "_model_module": "@jupyter-widgets/controls",
            "_model_module_version": "1.5.0",
            "_model_name": "CheckboxModel",
            "_view_count": null,
            "_view_module": "@jupyter-widgets/controls",
            "_view_module_version": "1.5.0",
            "_view_name": "CheckboxView",
            "description": "Show Plot",
            "description_tooltip": null,
            "disabled": false,
            "indent": true,
            "layout": "IPY_MODEL_2c02d744aad2491185ebd05d78b0139a",
            "style": "IPY_MODEL_54c663cdf15c42f796246df27f4fd00f",
            "value": false
          }
        },
        "2c02d744aad2491185ebd05d78b0139a": {
          "model_module": "@jupyter-widgets/base",
          "model_name": "LayoutModel",
          "model_module_version": "1.2.0",
          "state": {
            "_model_module": "@jupyter-widgets/base",
            "_model_module_version": "1.2.0",
            "_model_name": "LayoutModel",
            "_view_count": null,
            "_view_module": "@jupyter-widgets/base",
            "_view_module_version": "1.2.0",
            "_view_name": "LayoutView",
            "align_content": null,
            "align_items": null,
            "align_self": null,
            "border": null,
            "bottom": null,
            "display": null,
            "flex": null,
            "flex_flow": null,
            "grid_area": null,
            "grid_auto_columns": null,
            "grid_auto_flow": null,
            "grid_auto_rows": null,
            "grid_column": null,
            "grid_gap": null,
            "grid_row": null,
            "grid_template_areas": null,
            "grid_template_columns": null,
            "grid_template_rows": null,
            "height": null,
            "justify_content": null,
            "justify_items": null,
            "left": null,
            "margin": null,
            "max_height": null,
            "max_width": null,
            "min_height": null,
            "min_width": null,
            "object_fit": null,
            "object_position": null,
            "order": null,
            "overflow": null,
            "overflow_x": null,
            "overflow_y": null,
            "padding": null,
            "right": null,
            "top": null,
            "visibility": null,
            "width": null
          }
        },
        "54c663cdf15c42f796246df27f4fd00f": {
          "model_module": "@jupyter-widgets/controls",
          "model_name": "DescriptionStyleModel",
          "model_module_version": "1.5.0",
          "state": {
            "_model_module": "@jupyter-widgets/controls",
            "_model_module_version": "1.5.0",
            "_model_name": "DescriptionStyleModel",
            "_view_count": null,
            "_view_module": "@jupyter-widgets/base",
            "_view_module_version": "1.2.0",
            "_view_name": "StyleView",
            "description_width": ""
          }
        },
        "dcc731adec5d413e9e455d0352af8a45": {
          "model_module": "@jupyter-widgets/output",
          "model_name": "OutputModel",
          "model_module_version": "1.0.0",
          "state": {
            "_dom_classes": [],
            "_model_module": "@jupyter-widgets/output",
            "_model_module_version": "1.0.0",
            "_model_name": "OutputModel",
            "_view_count": null,
            "_view_module": "@jupyter-widgets/output",
            "_view_module_version": "1.0.0",
            "_view_name": "OutputView",
            "layout": "IPY_MODEL_26016211a536445cafc285158947c3c7",
            "msg_id": "",
            "outputs": []
          }
        },
        "26016211a536445cafc285158947c3c7": {
          "model_module": "@jupyter-widgets/base",
          "model_name": "LayoutModel",
          "model_module_version": "1.2.0",
          "state": {
            "_model_module": "@jupyter-widgets/base",
            "_model_module_version": "1.2.0",
            "_model_name": "LayoutModel",
            "_view_count": null,
            "_view_module": "@jupyter-widgets/base",
            "_view_module_version": "1.2.0",
            "_view_name": "LayoutView",
            "align_content": null,
            "align_items": null,
            "align_self": null,
            "border": null,
            "bottom": null,
            "display": null,
            "flex": null,
            "flex_flow": null,
            "grid_area": null,
            "grid_auto_columns": null,
            "grid_auto_flow": null,
            "grid_auto_rows": null,
            "grid_column": null,
            "grid_gap": null,
            "grid_row": null,
            "grid_template_areas": null,
            "grid_template_columns": null,
            "grid_template_rows": null,
            "height": null,
            "justify_content": null,
            "justify_items": null,
            "left": null,
            "margin": null,
            "max_height": null,
            "max_width": null,
            "min_height": null,
            "min_width": null,
            "object_fit": null,
            "object_position": null,
            "order": null,
            "overflow": null,
            "overflow_x": null,
            "overflow_y": null,
            "padding": null,
            "right": null,
            "top": null,
            "visibility": null,
            "width": null
          }
        },
        "7e4872e542824bee9e2eeb5ca6efcb61": {
          "model_module": "@jupyter-widgets/controls",
          "model_name": "CheckboxModel",
          "model_module_version": "1.5.0",
          "state": {
            "_dom_classes": [],
            "_model_module": "@jupyter-widgets/controls",
            "_model_module_version": "1.5.0",
            "_model_name": "CheckboxModel",
            "_view_count": null,
            "_view_module": "@jupyter-widgets/controls",
            "_view_module_version": "1.5.0",
            "_view_name": "CheckboxView",
            "description": "Show Plot",
            "description_tooltip": null,
            "disabled": false,
            "indent": true,
            "layout": "IPY_MODEL_24745f986cd4438293fe975e9b25dc18",
            "style": "IPY_MODEL_0bbc4a5c13e6440499640f752a1830fe",
            "value": false
          }
        },
        "24745f986cd4438293fe975e9b25dc18": {
          "model_module": "@jupyter-widgets/base",
          "model_name": "LayoutModel",
          "model_module_version": "1.2.0",
          "state": {
            "_model_module": "@jupyter-widgets/base",
            "_model_module_version": "1.2.0",
            "_model_name": "LayoutModel",
            "_view_count": null,
            "_view_module": "@jupyter-widgets/base",
            "_view_module_version": "1.2.0",
            "_view_name": "LayoutView",
            "align_content": null,
            "align_items": null,
            "align_self": null,
            "border": null,
            "bottom": null,
            "display": null,
            "flex": null,
            "flex_flow": null,
            "grid_area": null,
            "grid_auto_columns": null,
            "grid_auto_flow": null,
            "grid_auto_rows": null,
            "grid_column": null,
            "grid_gap": null,
            "grid_row": null,
            "grid_template_areas": null,
            "grid_template_columns": null,
            "grid_template_rows": null,
            "height": null,
            "justify_content": null,
            "justify_items": null,
            "left": null,
            "margin": null,
            "max_height": null,
            "max_width": null,
            "min_height": null,
            "min_width": null,
            "object_fit": null,
            "object_position": null,
            "order": null,
            "overflow": null,
            "overflow_x": null,
            "overflow_y": null,
            "padding": null,
            "right": null,
            "top": null,
            "visibility": null,
            "width": null
          }
        },
        "0bbc4a5c13e6440499640f752a1830fe": {
          "model_module": "@jupyter-widgets/controls",
          "model_name": "DescriptionStyleModel",
          "model_module_version": "1.5.0",
          "state": {
            "_model_module": "@jupyter-widgets/controls",
            "_model_module_version": "1.5.0",
            "_model_name": "DescriptionStyleModel",
            "_view_count": null,
            "_view_module": "@jupyter-widgets/base",
            "_view_module_version": "1.2.0",
            "_view_name": "StyleView",
            "description_width": ""
          }
        },
        "94ff861851ee4f389e9ea61e8d6a05b4": {
          "model_module": "@jupyter-widgets/output",
          "model_name": "OutputModel",
          "model_module_version": "1.0.0",
          "state": {
            "_dom_classes": [],
            "_model_module": "@jupyter-widgets/output",
            "_model_module_version": "1.0.0",
            "_model_name": "OutputModel",
            "_view_count": null,
            "_view_module": "@jupyter-widgets/output",
            "_view_module_version": "1.0.0",
            "_view_name": "OutputView",
            "layout": "IPY_MODEL_f47524344dd346d88c214b1aa8927deb",
            "msg_id": "",
            "outputs": []
          }
        },
        "f47524344dd346d88c214b1aa8927deb": {
          "model_module": "@jupyter-widgets/base",
          "model_name": "LayoutModel",
          "model_module_version": "1.2.0",
          "state": {
            "_model_module": "@jupyter-widgets/base",
            "_model_module_version": "1.2.0",
            "_model_name": "LayoutModel",
            "_view_count": null,
            "_view_module": "@jupyter-widgets/base",
            "_view_module_version": "1.2.0",
            "_view_name": "LayoutView",
            "align_content": null,
            "align_items": null,
            "align_self": null,
            "border": null,
            "bottom": null,
            "display": null,
            "flex": null,
            "flex_flow": null,
            "grid_area": null,
            "grid_auto_columns": null,
            "grid_auto_flow": null,
            "grid_auto_rows": null,
            "grid_column": null,
            "grid_gap": null,
            "grid_row": null,
            "grid_template_areas": null,
            "grid_template_columns": null,
            "grid_template_rows": null,
            "height": null,
            "justify_content": null,
            "justify_items": null,
            "left": null,
            "margin": null,
            "max_height": null,
            "max_width": null,
            "min_height": null,
            "min_width": null,
            "object_fit": null,
            "object_position": null,
            "order": null,
            "overflow": null,
            "overflow_x": null,
            "overflow_y": null,
            "padding": null,
            "right": null,
            "top": null,
            "visibility": null,
            "width": null
          }
        },
        "7ca158fb5b624fd386a9c0bb37eb0bc2": {
          "model_module": "@jupyter-widgets/controls",
          "model_name": "CheckboxModel",
          "model_module_version": "1.5.0",
          "state": {
            "_dom_classes": [],
            "_model_module": "@jupyter-widgets/controls",
            "_model_module_version": "1.5.0",
            "_model_name": "CheckboxModel",
            "_view_count": null,
            "_view_module": "@jupyter-widgets/controls",
            "_view_module_version": "1.5.0",
            "_view_name": "CheckboxView",
            "description": "Show Plot",
            "description_tooltip": null,
            "disabled": false,
            "indent": true,
            "layout": "IPY_MODEL_c6221b2a953c4b978a5bf36b63531cf7",
            "style": "IPY_MODEL_559576f2864c4b3689b3c8b497be522f",
            "value": false
          }
        },
        "c6221b2a953c4b978a5bf36b63531cf7": {
          "model_module": "@jupyter-widgets/base",
          "model_name": "LayoutModel",
          "model_module_version": "1.2.0",
          "state": {
            "_model_module": "@jupyter-widgets/base",
            "_model_module_version": "1.2.0",
            "_model_name": "LayoutModel",
            "_view_count": null,
            "_view_module": "@jupyter-widgets/base",
            "_view_module_version": "1.2.0",
            "_view_name": "LayoutView",
            "align_content": null,
            "align_items": null,
            "align_self": null,
            "border": null,
            "bottom": null,
            "display": null,
            "flex": null,
            "flex_flow": null,
            "grid_area": null,
            "grid_auto_columns": null,
            "grid_auto_flow": null,
            "grid_auto_rows": null,
            "grid_column": null,
            "grid_gap": null,
            "grid_row": null,
            "grid_template_areas": null,
            "grid_template_columns": null,
            "grid_template_rows": null,
            "height": null,
            "justify_content": null,
            "justify_items": null,
            "left": null,
            "margin": null,
            "max_height": null,
            "max_width": null,
            "min_height": null,
            "min_width": null,
            "object_fit": null,
            "object_position": null,
            "order": null,
            "overflow": null,
            "overflow_x": null,
            "overflow_y": null,
            "padding": null,
            "right": null,
            "top": null,
            "visibility": null,
            "width": null
          }
        },
        "559576f2864c4b3689b3c8b497be522f": {
          "model_module": "@jupyter-widgets/controls",
          "model_name": "DescriptionStyleModel",
          "model_module_version": "1.5.0",
          "state": {
            "_model_module": "@jupyter-widgets/controls",
            "_model_module_version": "1.5.0",
            "_model_name": "DescriptionStyleModel",
            "_view_count": null,
            "_view_module": "@jupyter-widgets/base",
            "_view_module_version": "1.2.0",
            "_view_name": "StyleView",
            "description_width": ""
          }
        },
        "920eb50d4b6d4f4fbba793b42b97c2cc": {
          "model_module": "@jupyter-widgets/output",
          "model_name": "OutputModel",
          "model_module_version": "1.0.0",
          "state": {
            "_dom_classes": [],
            "_model_module": "@jupyter-widgets/output",
            "_model_module_version": "1.0.0",
            "_model_name": "OutputModel",
            "_view_count": null,
            "_view_module": "@jupyter-widgets/output",
            "_view_module_version": "1.0.0",
            "_view_name": "OutputView",
            "layout": "IPY_MODEL_5163e5c33ded4a1990c9dd7979cfaecf",
            "msg_id": "",
            "outputs": []
          }
        },
        "5163e5c33ded4a1990c9dd7979cfaecf": {
          "model_module": "@jupyter-widgets/base",
          "model_name": "LayoutModel",
          "model_module_version": "1.2.0",
          "state": {
            "_model_module": "@jupyter-widgets/base",
            "_model_module_version": "1.2.0",
            "_model_name": "LayoutModel",
            "_view_count": null,
            "_view_module": "@jupyter-widgets/base",
            "_view_module_version": "1.2.0",
            "_view_name": "LayoutView",
            "align_content": null,
            "align_items": null,
            "align_self": null,
            "border": null,
            "bottom": null,
            "display": null,
            "flex": null,
            "flex_flow": null,
            "grid_area": null,
            "grid_auto_columns": null,
            "grid_auto_flow": null,
            "grid_auto_rows": null,
            "grid_column": null,
            "grid_gap": null,
            "grid_row": null,
            "grid_template_areas": null,
            "grid_template_columns": null,
            "grid_template_rows": null,
            "height": null,
            "justify_content": null,
            "justify_items": null,
            "left": null,
            "margin": null,
            "max_height": null,
            "max_width": null,
            "min_height": null,
            "min_width": null,
            "object_fit": null,
            "object_position": null,
            "order": null,
            "overflow": null,
            "overflow_x": null,
            "overflow_y": null,
            "padding": null,
            "right": null,
            "top": null,
            "visibility": null,
            "width": null
          }
        },
        "e0ad22bf8f6441279254f38bebc18834": {
          "model_module": "@jupyter-widgets/controls",
          "model_name": "CheckboxModel",
          "model_module_version": "1.5.0",
          "state": {
            "_dom_classes": [],
            "_model_module": "@jupyter-widgets/controls",
            "_model_module_version": "1.5.0",
            "_model_name": "CheckboxModel",
            "_view_count": null,
            "_view_module": "@jupyter-widgets/controls",
            "_view_module_version": "1.5.0",
            "_view_name": "CheckboxView",
            "description": "Show Plot",
            "description_tooltip": null,
            "disabled": false,
            "indent": true,
            "layout": "IPY_MODEL_30d73d592ccc4f1081347847124ced30",
            "style": "IPY_MODEL_7155d6498d3a480f98387169e9f13144",
            "value": false
          }
        },
        "30d73d592ccc4f1081347847124ced30": {
          "model_module": "@jupyter-widgets/base",
          "model_name": "LayoutModel",
          "model_module_version": "1.2.0",
          "state": {
            "_model_module": "@jupyter-widgets/base",
            "_model_module_version": "1.2.0",
            "_model_name": "LayoutModel",
            "_view_count": null,
            "_view_module": "@jupyter-widgets/base",
            "_view_module_version": "1.2.0",
            "_view_name": "LayoutView",
            "align_content": null,
            "align_items": null,
            "align_self": null,
            "border": null,
            "bottom": null,
            "display": null,
            "flex": null,
            "flex_flow": null,
            "grid_area": null,
            "grid_auto_columns": null,
            "grid_auto_flow": null,
            "grid_auto_rows": null,
            "grid_column": null,
            "grid_gap": null,
            "grid_row": null,
            "grid_template_areas": null,
            "grid_template_columns": null,
            "grid_template_rows": null,
            "height": null,
            "justify_content": null,
            "justify_items": null,
            "left": null,
            "margin": null,
            "max_height": null,
            "max_width": null,
            "min_height": null,
            "min_width": null,
            "object_fit": null,
            "object_position": null,
            "order": null,
            "overflow": null,
            "overflow_x": null,
            "overflow_y": null,
            "padding": null,
            "right": null,
            "top": null,
            "visibility": null,
            "width": null
          }
        },
        "7155d6498d3a480f98387169e9f13144": {
          "model_module": "@jupyter-widgets/controls",
          "model_name": "DescriptionStyleModel",
          "model_module_version": "1.5.0",
          "state": {
            "_model_module": "@jupyter-widgets/controls",
            "_model_module_version": "1.5.0",
            "_model_name": "DescriptionStyleModel",
            "_view_count": null,
            "_view_module": "@jupyter-widgets/base",
            "_view_module_version": "1.2.0",
            "_view_name": "StyleView",
            "description_width": ""
          }
        },
        "b63a9d47418f458288e6b115b4bb4918": {
          "model_module": "@jupyter-widgets/controls",
          "model_name": "IntSliderModel",
          "model_module_version": "1.5.0",
          "state": {
            "_dom_classes": [],
            "_model_module": "@jupyter-widgets/controls",
            "_model_module_version": "1.5.0",
            "_model_name": "IntSliderModel",
            "_view_count": null,
            "_view_module": "@jupyter-widgets/controls",
            "_view_module_version": "1.5.0",
            "_view_name": "IntSliderView",
            "continuous_update": true,
            "description": "Degree",
            "description_tooltip": null,
            "disabled": false,
            "layout": "IPY_MODEL_711c49eafc5c4de7822caf12d68174b6",
            "max": 10,
            "min": 1,
            "orientation": "horizontal",
            "readout": true,
            "readout_format": "d",
            "step": 0,
            "style": "IPY_MODEL_c565826779c946c8b88dd81b57938b69",
            "value": 1
          }
        },
        "711c49eafc5c4de7822caf12d68174b6": {
          "model_module": "@jupyter-widgets/base",
          "model_name": "LayoutModel",
          "model_module_version": "1.2.0",
          "state": {
            "_model_module": "@jupyter-widgets/base",
            "_model_module_version": "1.2.0",
            "_model_name": "LayoutModel",
            "_view_count": null,
            "_view_module": "@jupyter-widgets/base",
            "_view_module_version": "1.2.0",
            "_view_name": "LayoutView",
            "align_content": null,
            "align_items": null,
            "align_self": null,
            "border": null,
            "bottom": null,
            "display": null,
            "flex": null,
            "flex_flow": null,
            "grid_area": null,
            "grid_auto_columns": null,
            "grid_auto_flow": null,
            "grid_auto_rows": null,
            "grid_column": null,
            "grid_gap": null,
            "grid_row": null,
            "grid_template_areas": null,
            "grid_template_columns": null,
            "grid_template_rows": null,
            "height": null,
            "justify_content": null,
            "justify_items": null,
            "left": null,
            "margin": null,
            "max_height": null,
            "max_width": null,
            "min_height": null,
            "min_width": null,
            "object_fit": null,
            "object_position": null,
            "order": null,
            "overflow": null,
            "overflow_x": null,
            "overflow_y": null,
            "padding": null,
            "right": null,
            "top": null,
            "visibility": null,
            "width": null
          }
        },
        "c565826779c946c8b88dd81b57938b69": {
          "model_module": "@jupyter-widgets/controls",
          "model_name": "SliderStyleModel",
          "model_module_version": "1.5.0",
          "state": {
            "_model_module": "@jupyter-widgets/controls",
            "_model_module_version": "1.5.0",
            "_model_name": "SliderStyleModel",
            "_view_count": null,
            "_view_module": "@jupyter-widgets/base",
            "_view_module_version": "1.2.0",
            "_view_name": "StyleView",
            "description_width": "",
            "handle_color": null
          }
        },
        "3eb6423324cb4b8eb71b53f2f5d5566a": {
          "model_module": "@jupyter-widgets/output",
          "model_name": "OutputModel",
          "model_module_version": "1.0.0",
          "state": {
            "_dom_classes": [],
            "_model_module": "@jupyter-widgets/output",
            "_model_module_version": "1.0.0",
            "_model_name": "OutputModel",
            "_view_count": null,
            "_view_module": "@jupyter-widgets/output",
            "_view_module_version": "1.0.0",
            "_view_name": "OutputView",
            "layout": "IPY_MODEL_8e7945eca3a8489d92ba7ced2cdf8f97",
            "msg_id": "",
            "outputs": []
          }
        },
        "8e7945eca3a8489d92ba7ced2cdf8f97": {
          "model_module": "@jupyter-widgets/base",
          "model_name": "LayoutModel",
          "model_module_version": "1.2.0",
          "state": {
            "_model_module": "@jupyter-widgets/base",
            "_model_module_version": "1.2.0",
            "_model_name": "LayoutModel",
            "_view_count": null,
            "_view_module": "@jupyter-widgets/base",
            "_view_module_version": "1.2.0",
            "_view_name": "LayoutView",
            "align_content": null,
            "align_items": null,
            "align_self": null,
            "border": null,
            "bottom": null,
            "display": null,
            "flex": null,
            "flex_flow": null,
            "grid_area": null,
            "grid_auto_columns": null,
            "grid_auto_flow": null,
            "grid_auto_rows": null,
            "grid_column": null,
            "grid_gap": null,
            "grid_row": null,
            "grid_template_areas": null,
            "grid_template_columns": null,
            "grid_template_rows": null,
            "height": null,
            "justify_content": null,
            "justify_items": null,
            "left": null,
            "margin": null,
            "max_height": null,
            "max_width": null,
            "min_height": null,
            "min_width": null,
            "object_fit": null,
            "object_position": null,
            "order": null,
            "overflow": null,
            "overflow_x": null,
            "overflow_y": null,
            "padding": null,
            "right": null,
            "top": null,
            "visibility": null,
            "width": null
          }
        },
        "0c4cd2b65bfd40108201a41e1b8bb127": {
          "model_module": "@jupyter-widgets/controls",
          "model_name": "CheckboxModel",
          "model_module_version": "1.5.0",
          "state": {
            "_dom_classes": [],
            "_model_module": "@jupyter-widgets/controls",
            "_model_module_version": "1.5.0",
            "_model_name": "CheckboxModel",
            "_view_count": null,
            "_view_module": "@jupyter-widgets/controls",
            "_view_module_version": "1.5.0",
            "_view_name": "CheckboxView",
            "description": "Show Plot",
            "description_tooltip": null,
            "disabled": false,
            "indent": true,
            "layout": "IPY_MODEL_816b63e6b70b4285a5dc905ed30911d6",
            "style": "IPY_MODEL_4b77e35f5f8f4941a4517b8aa325ca21",
            "value": false
          }
        },
        "816b63e6b70b4285a5dc905ed30911d6": {
          "model_module": "@jupyter-widgets/base",
          "model_name": "LayoutModel",
          "model_module_version": "1.2.0",
          "state": {
            "_model_module": "@jupyter-widgets/base",
            "_model_module_version": "1.2.0",
            "_model_name": "LayoutModel",
            "_view_count": null,
            "_view_module": "@jupyter-widgets/base",
            "_view_module_version": "1.2.0",
            "_view_name": "LayoutView",
            "align_content": null,
            "align_items": null,
            "align_self": null,
            "border": null,
            "bottom": null,
            "display": null,
            "flex": null,
            "flex_flow": null,
            "grid_area": null,
            "grid_auto_columns": null,
            "grid_auto_flow": null,
            "grid_auto_rows": null,
            "grid_column": null,
            "grid_gap": null,
            "grid_row": null,
            "grid_template_areas": null,
            "grid_template_columns": null,
            "grid_template_rows": null,
            "height": null,
            "justify_content": null,
            "justify_items": null,
            "left": null,
            "margin": null,
            "max_height": null,
            "max_width": null,
            "min_height": null,
            "min_width": null,
            "object_fit": null,
            "object_position": null,
            "order": null,
            "overflow": null,
            "overflow_x": null,
            "overflow_y": null,
            "padding": null,
            "right": null,
            "top": null,
            "visibility": null,
            "width": null
          }
        },
        "4b77e35f5f8f4941a4517b8aa325ca21": {
          "model_module": "@jupyter-widgets/controls",
          "model_name": "DescriptionStyleModel",
          "model_module_version": "1.5.0",
          "state": {
            "_model_module": "@jupyter-widgets/controls",
            "_model_module_version": "1.5.0",
            "_model_name": "DescriptionStyleModel",
            "_view_count": null,
            "_view_module": "@jupyter-widgets/base",
            "_view_module_version": "1.2.0",
            "_view_name": "StyleView",
            "description_width": ""
          }
        },
        "81006ef41dae49c08753d317aa08980a": {
          "model_module": "@jupyter-widgets/output",
          "model_name": "OutputModel",
          "model_module_version": "1.0.0",
          "state": {
            "_dom_classes": [],
            "_model_module": "@jupyter-widgets/output",
            "_model_module_version": "1.0.0",
            "_model_name": "OutputModel",
            "_view_count": null,
            "_view_module": "@jupyter-widgets/output",
            "_view_module_version": "1.0.0",
            "_view_name": "OutputView",
            "layout": "IPY_MODEL_3d63b537d5e84864a2ed22386b5fb212",
            "msg_id": "",
            "outputs": []
          }
        },
        "3d63b537d5e84864a2ed22386b5fb212": {
          "model_module": "@jupyter-widgets/base",
          "model_name": "LayoutModel",
          "model_module_version": "1.2.0",
          "state": {
            "_model_module": "@jupyter-widgets/base",
            "_model_module_version": "1.2.0",
            "_model_name": "LayoutModel",
            "_view_count": null,
            "_view_module": "@jupyter-widgets/base",
            "_view_module_version": "1.2.0",
            "_view_name": "LayoutView",
            "align_content": null,
            "align_items": null,
            "align_self": null,
            "border": null,
            "bottom": null,
            "display": null,
            "flex": null,
            "flex_flow": null,
            "grid_area": null,
            "grid_auto_columns": null,
            "grid_auto_flow": null,
            "grid_auto_rows": null,
            "grid_column": null,
            "grid_gap": null,
            "grid_row": null,
            "grid_template_areas": null,
            "grid_template_columns": null,
            "grid_template_rows": null,
            "height": null,
            "justify_content": null,
            "justify_items": null,
            "left": null,
            "margin": null,
            "max_height": null,
            "max_width": null,
            "min_height": null,
            "min_width": null,
            "object_fit": null,
            "object_position": null,
            "order": null,
            "overflow": null,
            "overflow_x": null,
            "overflow_y": null,
            "padding": null,
            "right": null,
            "top": null,
            "visibility": null,
            "width": null
          }
        },
        "1d0d06365f57432fa619ac22de9371a3": {
          "model_module": "@jupyter-widgets/controls",
          "model_name": "CheckboxModel",
          "model_module_version": "1.5.0",
          "state": {
            "_dom_classes": [],
            "_model_module": "@jupyter-widgets/controls",
            "_model_module_version": "1.5.0",
            "_model_name": "CheckboxModel",
            "_view_count": null,
            "_view_module": "@jupyter-widgets/controls",
            "_view_module_version": "1.5.0",
            "_view_name": "CheckboxView",
            "description": "Show Plot",
            "description_tooltip": null,
            "disabled": false,
            "indent": true,
            "layout": "IPY_MODEL_b120ecf6f1dd4a4096987c5bd8385a4c",
            "style": "IPY_MODEL_446fb315ee864118b8e1607426fec31b",
            "value": false
          }
        },
        "b120ecf6f1dd4a4096987c5bd8385a4c": {
          "model_module": "@jupyter-widgets/base",
          "model_name": "LayoutModel",
          "model_module_version": "1.2.0",
          "state": {
            "_model_module": "@jupyter-widgets/base",
            "_model_module_version": "1.2.0",
            "_model_name": "LayoutModel",
            "_view_count": null,
            "_view_module": "@jupyter-widgets/base",
            "_view_module_version": "1.2.0",
            "_view_name": "LayoutView",
            "align_content": null,
            "align_items": null,
            "align_self": null,
            "border": null,
            "bottom": null,
            "display": null,
            "flex": null,
            "flex_flow": null,
            "grid_area": null,
            "grid_auto_columns": null,
            "grid_auto_flow": null,
            "grid_auto_rows": null,
            "grid_column": null,
            "grid_gap": null,
            "grid_row": null,
            "grid_template_areas": null,
            "grid_template_columns": null,
            "grid_template_rows": null,
            "height": null,
            "justify_content": null,
            "justify_items": null,
            "left": null,
            "margin": null,
            "max_height": null,
            "max_width": null,
            "min_height": null,
            "min_width": null,
            "object_fit": null,
            "object_position": null,
            "order": null,
            "overflow": null,
            "overflow_x": null,
            "overflow_y": null,
            "padding": null,
            "right": null,
            "top": null,
            "visibility": null,
            "width": null
          }
        },
        "446fb315ee864118b8e1607426fec31b": {
          "model_module": "@jupyter-widgets/controls",
          "model_name": "DescriptionStyleModel",
          "model_module_version": "1.5.0",
          "state": {
            "_model_module": "@jupyter-widgets/controls",
            "_model_module_version": "1.5.0",
            "_model_name": "DescriptionStyleModel",
            "_view_count": null,
            "_view_module": "@jupyter-widgets/base",
            "_view_module_version": "1.2.0",
            "_view_name": "StyleView",
            "description_width": ""
          }
        },
        "0bccb4cef20f4bac8a412cc9931c1549": {
          "model_module": "@jupyter-widgets/output",
          "model_name": "OutputModel",
          "model_module_version": "1.0.0",
          "state": {
            "_dom_classes": [],
            "_model_module": "@jupyter-widgets/output",
            "_model_module_version": "1.0.0",
            "_model_name": "OutputModel",
            "_view_count": null,
            "_view_module": "@jupyter-widgets/output",
            "_view_module_version": "1.0.0",
            "_view_name": "OutputView",
            "layout": "IPY_MODEL_aa176a68dc1c4d87a0186aa7fbfcd28d",
            "msg_id": "",
            "outputs": []
          }
        },
        "aa176a68dc1c4d87a0186aa7fbfcd28d": {
          "model_module": "@jupyter-widgets/base",
          "model_name": "LayoutModel",
          "model_module_version": "1.2.0",
          "state": {
            "_model_module": "@jupyter-widgets/base",
            "_model_module_version": "1.2.0",
            "_model_name": "LayoutModel",
            "_view_count": null,
            "_view_module": "@jupyter-widgets/base",
            "_view_module_version": "1.2.0",
            "_view_name": "LayoutView",
            "align_content": null,
            "align_items": null,
            "align_self": null,
            "border": null,
            "bottom": null,
            "display": null,
            "flex": null,
            "flex_flow": null,
            "grid_area": null,
            "grid_auto_columns": null,
            "grid_auto_flow": null,
            "grid_auto_rows": null,
            "grid_column": null,
            "grid_gap": null,
            "grid_row": null,
            "grid_template_areas": null,
            "grid_template_columns": null,
            "grid_template_rows": null,
            "height": null,
            "justify_content": null,
            "justify_items": null,
            "left": null,
            "margin": null,
            "max_height": null,
            "max_width": null,
            "min_height": null,
            "min_width": null,
            "object_fit": null,
            "object_position": null,
            "order": null,
            "overflow": null,
            "overflow_x": null,
            "overflow_y": null,
            "padding": null,
            "right": null,
            "top": null,
            "visibility": null,
            "width": null
          }
        },
        "89c228307e794645a42dac04785096cd": {
          "model_module": "@jupyter-widgets/controls",
          "model_name": "CheckboxModel",
          "model_module_version": "1.5.0",
          "state": {
            "_dom_classes": [],
            "_model_module": "@jupyter-widgets/controls",
            "_model_module_version": "1.5.0",
            "_model_name": "CheckboxModel",
            "_view_count": null,
            "_view_module": "@jupyter-widgets/controls",
            "_view_module_version": "1.5.0",
            "_view_name": "CheckboxView",
            "description": "Show Plot",
            "description_tooltip": null,
            "disabled": false,
            "indent": true,
            "layout": "IPY_MODEL_a2e45582e58442ccb55e3f68311d30a8",
            "style": "IPY_MODEL_a27b40566fe34e8aa0e44740a47d013d",
            "value": false
          }
        },
        "a2e45582e58442ccb55e3f68311d30a8": {
          "model_module": "@jupyter-widgets/base",
          "model_name": "LayoutModel",
          "model_module_version": "1.2.0",
          "state": {
            "_model_module": "@jupyter-widgets/base",
            "_model_module_version": "1.2.0",
            "_model_name": "LayoutModel",
            "_view_count": null,
            "_view_module": "@jupyter-widgets/base",
            "_view_module_version": "1.2.0",
            "_view_name": "LayoutView",
            "align_content": null,
            "align_items": null,
            "align_self": null,
            "border": null,
            "bottom": null,
            "display": null,
            "flex": null,
            "flex_flow": null,
            "grid_area": null,
            "grid_auto_columns": null,
            "grid_auto_flow": null,
            "grid_auto_rows": null,
            "grid_column": null,
            "grid_gap": null,
            "grid_row": null,
            "grid_template_areas": null,
            "grid_template_columns": null,
            "grid_template_rows": null,
            "height": null,
            "justify_content": null,
            "justify_items": null,
            "left": null,
            "margin": null,
            "max_height": null,
            "max_width": null,
            "min_height": null,
            "min_width": null,
            "object_fit": null,
            "object_position": null,
            "order": null,
            "overflow": null,
            "overflow_x": null,
            "overflow_y": null,
            "padding": null,
            "right": null,
            "top": null,
            "visibility": null,
            "width": null
          }
        },
        "a27b40566fe34e8aa0e44740a47d013d": {
          "model_module": "@jupyter-widgets/controls",
          "model_name": "DescriptionStyleModel",
          "model_module_version": "1.5.0",
          "state": {
            "_model_module": "@jupyter-widgets/controls",
            "_model_module_version": "1.5.0",
            "_model_name": "DescriptionStyleModel",
            "_view_count": null,
            "_view_module": "@jupyter-widgets/base",
            "_view_module_version": "1.2.0",
            "_view_name": "StyleView",
            "description_width": ""
          }
        },
        "88b23005e49f4a1484434705ee864d83": {
          "model_module": "@jupyter-widgets/output",
          "model_name": "OutputModel",
          "model_module_version": "1.0.0",
          "state": {
            "_dom_classes": [],
            "_model_module": "@jupyter-widgets/output",
            "_model_module_version": "1.0.0",
            "_model_name": "OutputModel",
            "_view_count": null,
            "_view_module": "@jupyter-widgets/output",
            "_view_module_version": "1.0.0",
            "_view_name": "OutputView",
            "layout": "IPY_MODEL_af7d234d903249c59aed5545ddaa13e7",
            "msg_id": "",
            "outputs": []
          }
        },
        "af7d234d903249c59aed5545ddaa13e7": {
          "model_module": "@jupyter-widgets/base",
          "model_name": "LayoutModel",
          "model_module_version": "1.2.0",
          "state": {
            "_model_module": "@jupyter-widgets/base",
            "_model_module_version": "1.2.0",
            "_model_name": "LayoutModel",
            "_view_count": null,
            "_view_module": "@jupyter-widgets/base",
            "_view_module_version": "1.2.0",
            "_view_name": "LayoutView",
            "align_content": null,
            "align_items": null,
            "align_self": null,
            "border": null,
            "bottom": null,
            "display": null,
            "flex": null,
            "flex_flow": null,
            "grid_area": null,
            "grid_auto_columns": null,
            "grid_auto_flow": null,
            "grid_auto_rows": null,
            "grid_column": null,
            "grid_gap": null,
            "grid_row": null,
            "grid_template_areas": null,
            "grid_template_columns": null,
            "grid_template_rows": null,
            "height": null,
            "justify_content": null,
            "justify_items": null,
            "left": null,
            "margin": null,
            "max_height": null,
            "max_width": null,
            "min_height": null,
            "min_width": null,
            "object_fit": null,
            "object_position": null,
            "order": null,
            "overflow": null,
            "overflow_x": null,
            "overflow_y": null,
            "padding": null,
            "right": null,
            "top": null,
            "visibility": null,
            "width": null
          }
        },
        "531fa01b4b3446b080041c4ec25aeaab": {
          "model_module": "@jupyter-widgets/controls",
          "model_name": "CheckboxModel",
          "model_module_version": "1.5.0",
          "state": {
            "_dom_classes": [],
            "_model_module": "@jupyter-widgets/controls",
            "_model_module_version": "1.5.0",
            "_model_name": "CheckboxModel",
            "_view_count": null,
            "_view_module": "@jupyter-widgets/controls",
            "_view_module_version": "1.5.0",
            "_view_name": "CheckboxView",
            "description": "Show Plot",
            "description_tooltip": null,
            "disabled": false,
            "indent": true,
            "layout": "IPY_MODEL_551a12c4ce3f41debc19b4e63429e469",
            "style": "IPY_MODEL_bc7d9f4c4f5d4cc8acc9658babf9f8d2",
            "value": false
          }
        },
        "551a12c4ce3f41debc19b4e63429e469": {
          "model_module": "@jupyter-widgets/base",
          "model_name": "LayoutModel",
          "model_module_version": "1.2.0",
          "state": {
            "_model_module": "@jupyter-widgets/base",
            "_model_module_version": "1.2.0",
            "_model_name": "LayoutModel",
            "_view_count": null,
            "_view_module": "@jupyter-widgets/base",
            "_view_module_version": "1.2.0",
            "_view_name": "LayoutView",
            "align_content": null,
            "align_items": null,
            "align_self": null,
            "border": null,
            "bottom": null,
            "display": null,
            "flex": null,
            "flex_flow": null,
            "grid_area": null,
            "grid_auto_columns": null,
            "grid_auto_flow": null,
            "grid_auto_rows": null,
            "grid_column": null,
            "grid_gap": null,
            "grid_row": null,
            "grid_template_areas": null,
            "grid_template_columns": null,
            "grid_template_rows": null,
            "height": null,
            "justify_content": null,
            "justify_items": null,
            "left": null,
            "margin": null,
            "max_height": null,
            "max_width": null,
            "min_height": null,
            "min_width": null,
            "object_fit": null,
            "object_position": null,
            "order": null,
            "overflow": null,
            "overflow_x": null,
            "overflow_y": null,
            "padding": null,
            "right": null,
            "top": null,
            "visibility": null,
            "width": null
          }
        },
        "bc7d9f4c4f5d4cc8acc9658babf9f8d2": {
          "model_module": "@jupyter-widgets/controls",
          "model_name": "DescriptionStyleModel",
          "model_module_version": "1.5.0",
          "state": {
            "_model_module": "@jupyter-widgets/controls",
            "_model_module_version": "1.5.0",
            "_model_name": "DescriptionStyleModel",
            "_view_count": null,
            "_view_module": "@jupyter-widgets/base",
            "_view_module_version": "1.2.0",
            "_view_name": "StyleView",
            "description_width": ""
          }
        },
        "49bd8cbd6b094165a9473447b2a36527": {
          "model_module": "@jupyter-widgets/output",
          "model_name": "OutputModel",
          "model_module_version": "1.0.0",
          "state": {
            "_dom_classes": [],
            "_model_module": "@jupyter-widgets/output",
            "_model_module_version": "1.0.0",
            "_model_name": "OutputModel",
            "_view_count": null,
            "_view_module": "@jupyter-widgets/output",
            "_view_module_version": "1.0.0",
            "_view_name": "OutputView",
            "layout": "IPY_MODEL_a756ba432e8c4539a3d33c774221c7eb",
            "msg_id": "",
            "outputs": []
          }
        },
        "a756ba432e8c4539a3d33c774221c7eb": {
          "model_module": "@jupyter-widgets/base",
          "model_name": "LayoutModel",
          "model_module_version": "1.2.0",
          "state": {
            "_model_module": "@jupyter-widgets/base",
            "_model_module_version": "1.2.0",
            "_model_name": "LayoutModel",
            "_view_count": null,
            "_view_module": "@jupyter-widgets/base",
            "_view_module_version": "1.2.0",
            "_view_name": "LayoutView",
            "align_content": null,
            "align_items": null,
            "align_self": null,
            "border": null,
            "bottom": null,
            "display": null,
            "flex": null,
            "flex_flow": null,
            "grid_area": null,
            "grid_auto_columns": null,
            "grid_auto_flow": null,
            "grid_auto_rows": null,
            "grid_column": null,
            "grid_gap": null,
            "grid_row": null,
            "grid_template_areas": null,
            "grid_template_columns": null,
            "grid_template_rows": null,
            "height": null,
            "justify_content": null,
            "justify_items": null,
            "left": null,
            "margin": null,
            "max_height": null,
            "max_width": null,
            "min_height": null,
            "min_width": null,
            "object_fit": null,
            "object_position": null,
            "order": null,
            "overflow": null,
            "overflow_x": null,
            "overflow_y": null,
            "padding": null,
            "right": null,
            "top": null,
            "visibility": null,
            "width": null
          }
        },
        "821594b181b64d36becdd6db358b2ede": {
          "model_module": "@jupyter-widgets/controls",
          "model_name": "CheckboxModel",
          "model_module_version": "1.5.0",
          "state": {
            "_dom_classes": [],
            "_model_module": "@jupyter-widgets/controls",
            "_model_module_version": "1.5.0",
            "_model_name": "CheckboxModel",
            "_view_count": null,
            "_view_module": "@jupyter-widgets/controls",
            "_view_module_version": "1.5.0",
            "_view_name": "CheckboxView",
            "description": "Show Plot",
            "description_tooltip": null,
            "disabled": false,
            "indent": true,
            "layout": "IPY_MODEL_931e0e7d3c094e0fbfda699063d9c842",
            "style": "IPY_MODEL_81ae0c0a34554e4192e35746cc48414c",
            "value": false
          }
        },
        "931e0e7d3c094e0fbfda699063d9c842": {
          "model_module": "@jupyter-widgets/base",
          "model_name": "LayoutModel",
          "model_module_version": "1.2.0",
          "state": {
            "_model_module": "@jupyter-widgets/base",
            "_model_module_version": "1.2.0",
            "_model_name": "LayoutModel",
            "_view_count": null,
            "_view_module": "@jupyter-widgets/base",
            "_view_module_version": "1.2.0",
            "_view_name": "LayoutView",
            "align_content": null,
            "align_items": null,
            "align_self": null,
            "border": null,
            "bottom": null,
            "display": null,
            "flex": null,
            "flex_flow": null,
            "grid_area": null,
            "grid_auto_columns": null,
            "grid_auto_flow": null,
            "grid_auto_rows": null,
            "grid_column": null,
            "grid_gap": null,
            "grid_row": null,
            "grid_template_areas": null,
            "grid_template_columns": null,
            "grid_template_rows": null,
            "height": null,
            "justify_content": null,
            "justify_items": null,
            "left": null,
            "margin": null,
            "max_height": null,
            "max_width": null,
            "min_height": null,
            "min_width": null,
            "object_fit": null,
            "object_position": null,
            "order": null,
            "overflow": null,
            "overflow_x": null,
            "overflow_y": null,
            "padding": null,
            "right": null,
            "top": null,
            "visibility": null,
            "width": null
          }
        },
        "81ae0c0a34554e4192e35746cc48414c": {
          "model_module": "@jupyter-widgets/controls",
          "model_name": "DescriptionStyleModel",
          "model_module_version": "1.5.0",
          "state": {
            "_model_module": "@jupyter-widgets/controls",
            "_model_module_version": "1.5.0",
            "_model_name": "DescriptionStyleModel",
            "_view_count": null,
            "_view_module": "@jupyter-widgets/base",
            "_view_module_version": "1.2.0",
            "_view_name": "StyleView",
            "description_width": ""
          }
        },
        "87ffbec6f7b14e77a95c8e81058bae9b": {
          "model_module": "@jupyter-widgets/controls",
          "model_name": "IntSliderModel",
          "model_module_version": "1.5.0",
          "state": {
            "_dom_classes": [],
            "_model_module": "@jupyter-widgets/controls",
            "_model_module_version": "1.5.0",
            "_model_name": "IntSliderModel",
            "_view_count": null,
            "_view_module": "@jupyter-widgets/controls",
            "_view_module_version": "1.5.0",
            "_view_name": "IntSliderView",
            "continuous_update": true,
            "description": "Degree",
            "description_tooltip": null,
            "disabled": false,
            "layout": "IPY_MODEL_6118e112034340b7a5a6d986d9664726",
            "max": 10,
            "min": 1,
            "orientation": "horizontal",
            "readout": true,
            "readout_format": "d",
            "step": 0,
            "style": "IPY_MODEL_c76c92c961c0423b860a11e5e37706a2",
            "value": 1
          }
        },
        "6118e112034340b7a5a6d986d9664726": {
          "model_module": "@jupyter-widgets/base",
          "model_name": "LayoutModel",
          "model_module_version": "1.2.0",
          "state": {
            "_model_module": "@jupyter-widgets/base",
            "_model_module_version": "1.2.0",
            "_model_name": "LayoutModel",
            "_view_count": null,
            "_view_module": "@jupyter-widgets/base",
            "_view_module_version": "1.2.0",
            "_view_name": "LayoutView",
            "align_content": null,
            "align_items": null,
            "align_self": null,
            "border": null,
            "bottom": null,
            "display": null,
            "flex": null,
            "flex_flow": null,
            "grid_area": null,
            "grid_auto_columns": null,
            "grid_auto_flow": null,
            "grid_auto_rows": null,
            "grid_column": null,
            "grid_gap": null,
            "grid_row": null,
            "grid_template_areas": null,
            "grid_template_columns": null,
            "grid_template_rows": null,
            "height": null,
            "justify_content": null,
            "justify_items": null,
            "left": null,
            "margin": null,
            "max_height": null,
            "max_width": null,
            "min_height": null,
            "min_width": null,
            "object_fit": null,
            "object_position": null,
            "order": null,
            "overflow": null,
            "overflow_x": null,
            "overflow_y": null,
            "padding": null,
            "right": null,
            "top": null,
            "visibility": null,
            "width": null
          }
        },
        "c76c92c961c0423b860a11e5e37706a2": {
          "model_module": "@jupyter-widgets/controls",
          "model_name": "SliderStyleModel",
          "model_module_version": "1.5.0",
          "state": {
            "_model_module": "@jupyter-widgets/controls",
            "_model_module_version": "1.5.0",
            "_model_name": "SliderStyleModel",
            "_view_count": null,
            "_view_module": "@jupyter-widgets/base",
            "_view_module_version": "1.2.0",
            "_view_name": "StyleView",
            "description_width": "",
            "handle_color": null
          }
        },
        "0b6070d234094524b1c13b6605cc2c14": {
          "model_module": "@jupyter-widgets/output",
          "model_name": "OutputModel",
          "model_module_version": "1.0.0",
          "state": {
            "_dom_classes": [],
            "_model_module": "@jupyter-widgets/output",
            "_model_module_version": "1.0.0",
            "_model_name": "OutputModel",
            "_view_count": null,
            "_view_module": "@jupyter-widgets/output",
            "_view_module_version": "1.0.0",
            "_view_name": "OutputView",
            "layout": "IPY_MODEL_b8ee32877f6a41ccb4508f3faa348b1d",
            "msg_id": "",
            "outputs": []
          }
        },
        "b8ee32877f6a41ccb4508f3faa348b1d": {
          "model_module": "@jupyter-widgets/base",
          "model_name": "LayoutModel",
          "model_module_version": "1.2.0",
          "state": {
            "_model_module": "@jupyter-widgets/base",
            "_model_module_version": "1.2.0",
            "_model_name": "LayoutModel",
            "_view_count": null,
            "_view_module": "@jupyter-widgets/base",
            "_view_module_version": "1.2.0",
            "_view_name": "LayoutView",
            "align_content": null,
            "align_items": null,
            "align_self": null,
            "border": null,
            "bottom": null,
            "display": null,
            "flex": null,
            "flex_flow": null,
            "grid_area": null,
            "grid_auto_columns": null,
            "grid_auto_flow": null,
            "grid_auto_rows": null,
            "grid_column": null,
            "grid_gap": null,
            "grid_row": null,
            "grid_template_areas": null,
            "grid_template_columns": null,
            "grid_template_rows": null,
            "height": null,
            "justify_content": null,
            "justify_items": null,
            "left": null,
            "margin": null,
            "max_height": null,
            "max_width": null,
            "min_height": null,
            "min_width": null,
            "object_fit": null,
            "object_position": null,
            "order": null,
            "overflow": null,
            "overflow_x": null,
            "overflow_y": null,
            "padding": null,
            "right": null,
            "top": null,
            "visibility": null,
            "width": null
          }
        },
        "2ccd0fedc8a24eceafe9464c5c3272e5": {
          "model_module": "@jupyter-widgets/controls",
          "model_name": "CheckboxModel",
          "model_module_version": "1.5.0",
          "state": {
            "_dom_classes": [],
            "_model_module": "@jupyter-widgets/controls",
            "_model_module_version": "1.5.0",
            "_model_name": "CheckboxModel",
            "_view_count": null,
            "_view_module": "@jupyter-widgets/controls",
            "_view_module_version": "1.5.0",
            "_view_name": "CheckboxView",
            "description": "Show Plot",
            "description_tooltip": null,
            "disabled": false,
            "indent": true,
            "layout": "IPY_MODEL_67a26edbd68f4414ba58caa6063e0dd3",
            "style": "IPY_MODEL_3dfb5285079e45568e95b7a3f9f38758",
            "value": false
          }
        },
        "67a26edbd68f4414ba58caa6063e0dd3": {
          "model_module": "@jupyter-widgets/base",
          "model_name": "LayoutModel",
          "model_module_version": "1.2.0",
          "state": {
            "_model_module": "@jupyter-widgets/base",
            "_model_module_version": "1.2.0",
            "_model_name": "LayoutModel",
            "_view_count": null,
            "_view_module": "@jupyter-widgets/base",
            "_view_module_version": "1.2.0",
            "_view_name": "LayoutView",
            "align_content": null,
            "align_items": null,
            "align_self": null,
            "border": null,
            "bottom": null,
            "display": null,
            "flex": null,
            "flex_flow": null,
            "grid_area": null,
            "grid_auto_columns": null,
            "grid_auto_flow": null,
            "grid_auto_rows": null,
            "grid_column": null,
            "grid_gap": null,
            "grid_row": null,
            "grid_template_areas": null,
            "grid_template_columns": null,
            "grid_template_rows": null,
            "height": null,
            "justify_content": null,
            "justify_items": null,
            "left": null,
            "margin": null,
            "max_height": null,
            "max_width": null,
            "min_height": null,
            "min_width": null,
            "object_fit": null,
            "object_position": null,
            "order": null,
            "overflow": null,
            "overflow_x": null,
            "overflow_y": null,
            "padding": null,
            "right": null,
            "top": null,
            "visibility": null,
            "width": null
          }
        },
        "3dfb5285079e45568e95b7a3f9f38758": {
          "model_module": "@jupyter-widgets/controls",
          "model_name": "DescriptionStyleModel",
          "model_module_version": "1.5.0",
          "state": {
            "_model_module": "@jupyter-widgets/controls",
            "_model_module_version": "1.5.0",
            "_model_name": "DescriptionStyleModel",
            "_view_count": null,
            "_view_module": "@jupyter-widgets/base",
            "_view_module_version": "1.2.0",
            "_view_name": "StyleView",
            "description_width": ""
          }
        },
        "dd8613751e824e2c9585da77da7c9f69": {
          "model_module": "@jupyter-widgets/output",
          "model_name": "OutputModel",
          "model_module_version": "1.0.0",
          "state": {
            "_dom_classes": [],
            "_model_module": "@jupyter-widgets/output",
            "_model_module_version": "1.0.0",
            "_model_name": "OutputModel",
            "_view_count": null,
            "_view_module": "@jupyter-widgets/output",
            "_view_module_version": "1.0.0",
            "_view_name": "OutputView",
            "layout": "IPY_MODEL_e25fa7f8feda4f409db8184212d642d8",
            "msg_id": "",
            "outputs": []
          }
        },
        "e25fa7f8feda4f409db8184212d642d8": {
          "model_module": "@jupyter-widgets/base",
          "model_name": "LayoutModel",
          "model_module_version": "1.2.0",
          "state": {
            "_model_module": "@jupyter-widgets/base",
            "_model_module_version": "1.2.0",
            "_model_name": "LayoutModel",
            "_view_count": null,
            "_view_module": "@jupyter-widgets/base",
            "_view_module_version": "1.2.0",
            "_view_name": "LayoutView",
            "align_content": null,
            "align_items": null,
            "align_self": null,
            "border": null,
            "bottom": null,
            "display": null,
            "flex": null,
            "flex_flow": null,
            "grid_area": null,
            "grid_auto_columns": null,
            "grid_auto_flow": null,
            "grid_auto_rows": null,
            "grid_column": null,
            "grid_gap": null,
            "grid_row": null,
            "grid_template_areas": null,
            "grid_template_columns": null,
            "grid_template_rows": null,
            "height": null,
            "justify_content": null,
            "justify_items": null,
            "left": null,
            "margin": null,
            "max_height": null,
            "max_width": null,
            "min_height": null,
            "min_width": null,
            "object_fit": null,
            "object_position": null,
            "order": null,
            "overflow": null,
            "overflow_x": null,
            "overflow_y": null,
            "padding": null,
            "right": null,
            "top": null,
            "visibility": null,
            "width": null
          }
        }
      }
    }
  },
  "nbformat": 4,
  "nbformat_minor": 0
}